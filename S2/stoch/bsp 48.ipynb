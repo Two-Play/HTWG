{
 "cells": [
  {
   "cell_type": "code",
   "execution_count": null,
   "metadata": {
    "collapsed": true
   },
   "outputs": [],
   "source": [
    "import numpy\n",
    "import statistics\n",
    "\n",
    "urliste = [14, 24, 22, 19, 18, 36, 15, 29, 41, 17]\n",
    "\n",
    "mittelwert = numpy.mean(urliste)\n",
    "quartiele = statistics.quantiles(urliste, n=4)\n",
    "quantiele = numpy.quantile(urliste, 0.9)\n",
    "\n",
    "print(\"Mittelwert:\", mittelwert)\n",
    "print(\"Quartiele:\", quartiele)\n",
    "print(\"Quantiele:\", quantiele)\n"
   ]
  }
 ],
 "metadata": {
  "kernelspec": {
   "display_name": "Python 3",
   "language": "python",
   "name": "python3"
  },
  "language_info": {
   "codemirror_mode": {
    "name": "ipython",
    "version": 2
   },
   "file_extension": ".py",
   "mimetype": "text/x-python",
   "name": "python",
   "nbconvert_exporter": "python",
   "pygments_lexer": "ipython2",
   "version": "2.7.6"
  }
 },
 "nbformat": 4,
 "nbformat_minor": 0
}