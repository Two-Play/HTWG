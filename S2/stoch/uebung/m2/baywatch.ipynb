{
 "cells": [
  {
   "cell_type": "code",
   "execution_count": 56,
   "id": "initial_id",
   "metadata": {
    "collapsed": true,
    "ExecuteTime": {
     "end_time": "2023-12-24T17:49:38.228786Z",
     "start_time": "2023-12-24T17:49:38.221807Z"
    }
   },
   "outputs": [],
   "source": [
    "from scipy.optimize import root\n",
    "import numpy as np\n",
    "import matplotlib.pyplot as plt\n",
    "import sympy as sp\n",
    "import math"
   ]
  },
  {
   "cell_type": "code",
   "outputs": [
    {
     "data": {
      "text/plain": "       -B + y                y       \n──────────────────── + ──────────────\n     _______________        _________\n    ╱  2          2        ╱  2    2 \nE⋅╲╱  A  + (B - y)     D⋅╲╱  C  + y  ",
      "image/png": "[encoded data removed]",
      "text/latex": "$\\displaystyle \\frac{- B + y}{E \\sqrt{A^{2} + \\left(B - y\\right)^{2}}} + \\frac{y}{D \\sqrt{C^{2} + y^{2}}}$"
     },
     "execution_count": 57,
     "metadata": {},
     "output_type": "execute_result"
    }
   ],
   "source": [
    "A, B, C, D, E, y = sp.symbols('A B C D E y')\n",
    "\n",
    "def t(y):\n",
    "    return 1/D * sp.sqrt(C**2 + y**2) + 1/E * sp.sqrt((B-y)**2 + A**2)\n",
    "\n",
    "def dxt(y):\n",
    "    return sp.diff(t(y), y)\n",
    "sp.init_printing()\n",
    "dxt(y)"
   ],
   "metadata": {
    "collapsed": false,
    "ExecuteTime": {
     "end_time": "2023-12-24T17:49:38.833526Z",
     "start_time": "2023-12-24T17:49:38.242424Z"
    }
   },
   "id": "ec9f5f44c59c9953",
   "execution_count": 57
  },
  {
   "cell_type": "code",
   "outputs": [
    {
     "ename": "TypeError",
     "evalue": "loop of ufunc does not support argument 0 of type Add which has no callable sqrt method",
     "output_type": "error",
     "traceback": [
      "\u001B[0;31m---------------------------------------------------------------------------\u001B[0m",
      "\u001B[0;31mAttributeError\u001B[0m                            Traceback (most recent call last)",
      "\u001B[0;31mAttributeError\u001B[0m: 'Add' object has no attribute 'sqrt'",
      "\nThe above exception was the direct cause of the following exception:\n",
      "\u001B[0;31mTypeError\u001B[0m                                 Traceback (most recent call last)",
      "Cell \u001B[0;32mIn[58], line 16\u001B[0m\n\u001B[1;32m     13\u001B[0m y_vals \u001B[38;5;241m=\u001B[39m np\u001B[38;5;241m.\u001B[39mlinspace(\u001B[38;5;241m-\u001B[39m\u001B[38;5;241m10\u001B[39m, \u001B[38;5;241m20\u001B[39m, \u001B[38;5;241m500\u001B[39m)\n\u001B[1;32m     15\u001B[0m \u001B[38;5;66;03m# Berechnung der Funktionen für die gegebenen Parameter\u001B[39;00m\n\u001B[0;32m---> 16\u001B[0m t_values \u001B[38;5;241m=\u001B[39m t_numeric(y_vals)\n\u001B[1;32m     17\u001B[0m dxt_values \u001B[38;5;241m=\u001B[39m dxt_numeric(y_vals)\n\u001B[1;32m     19\u001B[0m \u001B[38;5;66;03m# Graphen erstellen\u001B[39;00m\n",
      "File \u001B[0;32m<lambdifygenerated-3>:2\u001B[0m, in \u001B[0;36m_lambdifygenerated\u001B[0;34m(y)\u001B[0m\n\u001B[1;32m      1\u001B[0m \u001B[38;5;28;01mdef\u001B[39;00m \u001B[38;5;21m_lambdifygenerated\u001B[39m(y):\n\u001B[0;32m----> 2\u001B[0m     \u001B[38;5;28;01mreturn\u001B[39;00m sqrt(A\u001B[38;5;241m*\u001B[39m\u001B[38;5;241m*\u001B[39m\u001B[38;5;241m2\u001B[39m \u001B[38;5;241m+\u001B[39m (B \u001B[38;5;241m-\u001B[39m y)\u001B[38;5;241m*\u001B[39m\u001B[38;5;241m*\u001B[39m\u001B[38;5;241m2\u001B[39m)\u001B[38;5;241m/\u001B[39mE \u001B[38;5;241m+\u001B[39m sqrt(C\u001B[38;5;241m*\u001B[39m\u001B[38;5;241m*\u001B[39m\u001B[38;5;241m2\u001B[39m \u001B[38;5;241m+\u001B[39m y\u001B[38;5;241m*\u001B[39m\u001B[38;5;241m*\u001B[39m\u001B[38;5;241m2\u001B[39m)\u001B[38;5;241m/\u001B[39mD\n",
      "\u001B[0;31mTypeError\u001B[0m: loop of ufunc does not support argument 0 of type Add which has no callable sqrt method"
     ]
    }
   ],
   "source": [
    "# Numerische Funktionen für t(y) und dxt(y)\n",
    "t_numeric = sp.lambdify(y, t(y), modules='numpy')\n",
    "dxt_numeric = sp.lambdify(y, dxt(y), modules='numpy')\n",
    "\n",
    "# Beispielparameter\n",
    "A_val = 5\n",
    "B_val = 12\n",
    "C_val = 8\n",
    "D_val = 2\n",
    "E_val = 3\n",
    "\n",
    "# Wertebereich für y\n",
    "y_vals = np.linspace(-10, 20, 500)\n",
    "\n",
    "# Berechnung der Funktionen für die gegebenen Parameter\n",
    "t_values = t_numeric(y_vals)\n",
    "dxt_values = dxt_numeric(y_vals)\n",
    "\n",
    "# Graphen erstellen\n",
    "plt.figure(figsize=(10, 6))\n",
    "\n",
    "# Funktion t(y)\n",
    "plt.subplot(2, 1, 1)\n",
    "plt.plot(y_vals, t_values, label='t(y)')\n",
    "plt.xlabel('y')\n",
    "plt.ylabel('t(y)')\n",
    "plt.title('Funktion t(y)')\n",
    "plt.legend()\n",
    "\n",
    "# Ableitung dxt(y)\n",
    "plt.subplot(2, 1, 2)\n",
    "plt.plot(y_vals, dxt_values, label=\"t'(y)\")\n",
    "plt.xlabel('y')\n",
    "plt.ylabel(\"t'(y)\")\n",
    "plt.title(\"Ableitung von t(y) nach y\")\n",
    "plt.legend()\n",
    "\n",
    "plt.tight_layout()\n",
    "plt.show()"
   ],
   "metadata": {
    "collapsed": false,
    "ExecuteTime": {
     "end_time": "2023-12-24T17:49:39.082912Z",
     "start_time": "2023-12-24T17:49:38.892857Z"
    }
   },
   "id": "2d1663586b6394ff",
   "execution_count": 58
  },
  {
   "cell_type": "code",
   "outputs": [
    {
     "ename": "TypeError",
     "evalue": "Cannot interpret '1.0*A' as a data type",
     "output_type": "error",
     "traceback": [
      "\u001B[0;31m---------------------------------------------------------------------------\u001B[0m",
      "\u001B[0;31mTypeError\u001B[0m                                 Traceback (most recent call last)",
      "Cell \u001B[0;32mIn[59], line 3\u001B[0m\n\u001B[1;32m      1\u001B[0m \u001B[38;5;66;03m#plott t(y)\u001B[39;00m\n\u001B[1;32m      2\u001B[0m \u001B[38;5;66;03m# Erstellen des Graphen\u001B[39;00m\n\u001B[0;32m----> 3\u001B[0m x \u001B[38;5;241m=\u001B[39m np\u001B[38;5;241m.\u001B[39mlinspace(\u001B[38;5;241m0\u001B[39m, A, \u001B[38;5;241m100\u001B[39m)\n\u001B[1;32m      4\u001B[0m y \u001B[38;5;241m=\u001B[39m np\u001B[38;5;241m.\u001B[39mlinspace(\u001B[38;5;241m0\u001B[39m, B, \u001B[38;5;241m100\u001B[39m)\n\u001B[1;32m      5\u001B[0m X, Y \u001B[38;5;241m=\u001B[39m np\u001B[38;5;241m.\u001B[39mmeshgrid(x, y)\n",
      "File \u001B[0;32m<__array_function__ internals>:200\u001B[0m, in \u001B[0;36mlinspace\u001B[0;34m(*args, **kwargs)\u001B[0m\n",
      "File \u001B[0;32m~/anaconda3/lib/python3.11/site-packages/numpy/core/function_base.py:131\u001B[0m, in \u001B[0;36mlinspace\u001B[0;34m(start, stop, num, endpoint, retstep, dtype, axis)\u001B[0m\n\u001B[1;32m    128\u001B[0m start \u001B[38;5;241m=\u001B[39m asanyarray(start) \u001B[38;5;241m*\u001B[39m \u001B[38;5;241m1.0\u001B[39m\n\u001B[1;32m    129\u001B[0m stop  \u001B[38;5;241m=\u001B[39m asanyarray(stop)  \u001B[38;5;241m*\u001B[39m \u001B[38;5;241m1.0\u001B[39m\n\u001B[0;32m--> 131\u001B[0m dt \u001B[38;5;241m=\u001B[39m result_type(start, stop, \u001B[38;5;28mfloat\u001B[39m(num))\n\u001B[1;32m    132\u001B[0m \u001B[38;5;28;01mif\u001B[39;00m dtype \u001B[38;5;129;01mis\u001B[39;00m \u001B[38;5;28;01mNone\u001B[39;00m:\n\u001B[1;32m    133\u001B[0m     dtype \u001B[38;5;241m=\u001B[39m dt\n",
      "File \u001B[0;32m<__array_function__ internals>:200\u001B[0m, in \u001B[0;36mresult_type\u001B[0;34m(*args, **kwargs)\u001B[0m\n",
      "\u001B[0;31mTypeError\u001B[0m: Cannot interpret '1.0*A' as a data type"
     ]
    }
   ],
   "source": [
    "#plott t(y)\n",
    "# Erstellen des Graphen\n",
    "x = np.linspace(0, A, 100)\n",
    "y = np.linspace(0, B, 100)\n",
    "X, Y = np.meshgrid(x, y)\n",
    "Z = t(y)\n",
    "\n",
    "start_value = [A / 2, B / 2]\n",
    "result = root(t, start_value, jac=dxt)\n",
    "optimal_position = result.x\n",
    "\n",
    "plt.contourf(X, Y, Z, levels=100, cmap='viridis')\n",
    "plt.colorbar(label='f(x, y)')\n",
    "plt.xlabel('A Meter Entfernung zum Ufer')\n",
    "plt.ylabel('B Meter entfernt entlang des Ufers')\n",
    "plt.title('Optimale Position des Rettungsschwimmers')\n",
    "plt.scatter(optimal_position[0], optimal_position[1], color='red', label='Optimale Position')\n",
    "plt.legend()\n",
    "plt.show()\n",
    "\n"
   ],
   "metadata": {
    "collapsed": false,
    "ExecuteTime": {
     "end_time": "2023-12-24T17:49:45.267433Z",
     "start_time": "2023-12-24T17:49:45.235125Z"
    }
   },
   "id": "a926921074be786b",
   "execution_count": 59
  },
  {
   "cell_type": "code",
   "outputs": [],
   "source": [],
   "metadata": {
    "collapsed": false,
    "ExecuteTime": {
     "start_time": "2023-12-24T17:49:39.084269Z"
    }
   },
   "id": "5f95c9b0c2d5cca"
  }
 ],
 "metadata": {
  "kernelspec": {
   "display_name": "Python 3",
   "language": "python",
   "name": "python3"
  },
  "language_info": {
   "codemirror_mode": {
    "name": "ipython",
    "version": 2
   },
   "file_extension": ".py",
   "mimetype": "text/x-python",
   "name": "python",
   "nbconvert_exporter": "python",
   "pygments_lexer": "ipython2",
   "version": "2.7.6"
  }
 },
 "nbformat": 4,
 "nbformat_minor": 5
}
