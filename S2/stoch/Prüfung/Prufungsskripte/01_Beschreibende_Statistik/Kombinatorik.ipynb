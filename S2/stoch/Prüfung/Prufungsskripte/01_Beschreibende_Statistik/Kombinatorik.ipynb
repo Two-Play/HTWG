{
 "cells": [
  {
   "cell_type": "code",
   "execution_count": 41,
   "id": "initial_id",
   "metadata": {
    "collapsed": true,
    "ExecuteTime": {
     "end_time": "2024-01-28T13:14:00.883976300Z",
     "start_time": "2024-01-28T13:14:00.803399200Z"
    }
   },
   "outputs": [],
   "source": [
    "import math\n",
    "import numpy as np\n",
    "from scipy import special"
   ]
  },
  {
   "cell_type": "code",
   "execution_count": 42,
   "outputs": [],
   "source": [
    "def value_rounded_str(value):\n",
    "    val = str(np.round(value,4))\n",
    "    return val"
   ],
   "metadata": {
    "collapsed": false,
    "ExecuteTime": {
     "end_time": "2024-01-28T13:14:00.929745500Z",
     "start_time": "2024-01-28T13:14:00.807187100Z"
    }
   },
   "id": "b1e69cad64013323"
  },
  {
   "cell_type": "code",
   "execution_count": 43,
   "outputs": [],
   "source": [
    "# Input\n",
    "n = 6 # Anzuordnende Elemente\n",
    "k = 2 # Plätze"
   ],
   "metadata": {
    "collapsed": false,
    "ExecuteTime": {
     "end_time": "2024-01-28T13:14:00.929745500Z",
     "start_time": "2024-01-28T13:14:00.818965600Z"
    }
   },
   "id": "3f5303409aafea09"
  },
  {
   "cell_type": "code",
   "execution_count": 44,
   "outputs": [
    {
     "name": "stdout",
     "output_type": "stream",
     "text": [
      "Permutation ohne Wiederholung: 720\n"
     ]
    }
   ],
   "source": [
    "# Permutation ohne Wiederholung\n",
    "powi = math.factorial(n)\n",
    "print(\"Permutation ohne Wiederholung: \" + value_rounded_str(powi))"
   ],
   "metadata": {
    "collapsed": false,
    "ExecuteTime": {
     "end_time": "2024-01-28T13:14:00.929745500Z",
     "start_time": "2024-01-28T13:14:00.827047500Z"
    }
   },
   "id": "75a334f08474998b"
  },
  {
   "cell_type": "code",
   "execution_count": 45,
   "outputs": [
    {
     "name": "stdout",
     "output_type": "stream",
     "text": [
      "Variation ohne Wiederholung: 30.0\n"
     ]
    }
   ],
   "source": [
    "# Variation ohne Wiederholung\n",
    "vow = math.factorial(n) / math.factorial(n - k)\n",
    "print(\"Variation ohne Wiederholung: \" + value_rounded_str(vow))"
   ],
   "metadata": {
    "collapsed": false,
    "ExecuteTime": {
     "end_time": "2024-01-28T13:14:00.929745500Z",
     "start_time": "2024-01-28T13:14:00.847915Z"
    }
   },
   "id": "dd08d753952662bb"
  },
  {
   "cell_type": "code",
   "execution_count": 46,
   "outputs": [
    {
     "name": "stdout",
     "output_type": "stream",
     "text": [
      "Variation mit Wiederholung: 36.0\n"
     ]
    }
   ],
   "source": [
    "# Variation mit Wiederholung\n",
    "vmw = math.pow(n, k)\n",
    "print(\"Variation mit Wiederholung: \" + value_rounded_str(vmw))"
   ],
   "metadata": {
    "collapsed": false,
    "ExecuteTime": {
     "end_time": "2024-01-28T13:14:00.929745500Z",
     "start_time": "2024-01-28T13:14:00.850942800Z"
    }
   },
   "id": "1da534f65ab12c2f"
  },
  {
   "cell_type": "code",
   "execution_count": 47,
   "outputs": [
    {
     "name": "stdout",
     "output_type": "stream",
     "text": [
      "Kombination ohne Wiederholung: 15.0\n"
     ]
    }
   ],
   "source": [
    "# Kombination ohne Wiederholung\n",
    "kow = special.binom(n, k)\n",
    "print(\"Kombination ohne Wiederholung: \" + value_rounded_str(kow))"
   ],
   "metadata": {
    "collapsed": false,
    "ExecuteTime": {
     "end_time": "2024-01-28T13:14:00.929745500Z",
     "start_time": "2024-01-28T13:14:00.857246700Z"
    }
   },
   "id": "a220731ba0e504b8"
  },
  {
   "cell_type": "code",
   "execution_count": 48,
   "outputs": [
    {
     "name": "stdout",
     "output_type": "stream",
     "text": [
      "Kombination ohne Wiederholung: 21.0\n"
     ]
    }
   ],
   "source": [
    "# Kombination mit Wiederholung\n",
    "kmw = special.binom(n+k-1, k)\n",
    "print(\"Kombination ohne Wiederholung: \" + value_rounded_str(kmw))"
   ],
   "metadata": {
    "collapsed": false,
    "ExecuteTime": {
     "end_time": "2024-01-28T13:14:00.929745500Z",
     "start_time": "2024-01-28T13:14:00.870582800Z"
    }
   },
   "id": "57adf66c336bae2d"
  }
 ],
 "metadata": {
  "kernelspec": {
   "display_name": "Python 3",
   "language": "python",
   "name": "python3"
  },
  "language_info": {
   "codemirror_mode": {
    "name": "ipython",
    "version": 2
   },
   "file_extension": ".py",
   "mimetype": "text/x-python",
   "name": "python",
   "nbconvert_exporter": "python",
   "pygments_lexer": "ipython2",
   "version": "2.7.6"
  }
 },
 "nbformat": 4,
 "nbformat_minor": 5
}
