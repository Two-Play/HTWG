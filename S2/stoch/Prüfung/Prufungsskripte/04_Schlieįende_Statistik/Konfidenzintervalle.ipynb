{
 "cells": [
  {
   "cell_type": "markdown",
   "metadata": {},
   "source": [
    "Bei Konfidenzintervallen gibt es verschiedene Möglichkeiten, was man gegeben hat und kann daraus ein Intervall angeben."
   ]
  },
  {
   "cell_type": "code",
   "execution_count": 14,
   "metadata": {},
   "outputs": [],
   "source": [
    "from scipy.stats import norm\n",
    "import numpy as np\n",
    "from scipy.stats import t\n"
   ]
  },
  {
   "cell_type": "code",
   "execution_count": 26,
   "metadata": {},
   "outputs": [],
   "source": [
    "def calculate_intervals(mean: int, sigma: int, n: int, z_value: float) -> tuple:\n",
    "    \"\"\"\n",
    "    Calculates the confidence intervals for a normal distribution\n",
    "    :param mean: mean of the distribution\n",
    "    :param sigma: standard deviation of the distribution\n",
    "    :param n: number of samples\n",
    "    :param alpha: confidence level\n",
    "    :return: tuple of the confidence intervals\n",
    "    \"\"\"\n",
    "    left = mean - z_value * sigma / np.sqrt(n)\n",
    "    right = mean + z_value * sigma / np.sqrt(n)\n",
    "    return left, right"
   ]
  },
  {
   "cell_type": "code",
   "execution_count": 27,
   "metadata": {},
   "outputs": [],
   "source": [
    "def value_rounded_str(value):\n",
    "    val = str(np.round(value,4))\n",
    "    return val"
   ]
  },
  {
   "cell_type": "code",
   "execution_count": 9,
   "metadata": {},
   "outputs": [
    {
     "name": "stdout",
     "output_type": "stream",
     "text": [
      "z_value, 0.95 = 1.6448536269514722\n",
      "Interval left: 97.8597\n",
      "Interval right: 99.9403\n"
     ]
    }
   ],
   "source": [
    "# 1. std is known\n",
    "\n",
    "alpha = 0.1\n",
    "z_quantil = 1 - alpha/2\n",
    "sigma = 2\n",
    "n = 10\n",
    "z_value = norm.ppf(z_quantil)\n",
    "mean = 98.9\n",
    "\n",
    "interval_left, interval_right = calculate_intervals(mean, sigma, n, z_value)\n",
    "\n",
    "print(f\"z_value, {z_quantil} = {z_value}\")\n",
    "print(f\"Interval left: {value_rounded_str(interval_left)}\")\n",
    "print(f\"Interval right: {value_rounded_str(interval_right)}\")"
   ]
  },
  {
   "cell_type": "code",
   "execution_count": null,
   "metadata": {},
   "outputs": [],
   "source": [
    "# if you have to calculate the mean from a sample\n",
    "\n",
    "sample = [98.8, 99.1, 98.9, 99.0, 98.8, 99.0, 98.9, 98.8, 98.9, 99.0]\n",
    "mean = np.mean(sample)"
   ]
  },
  {
   "cell_type": "code",
   "execution_count": 12,
   "metadata": {},
   "outputs": [
    {
     "name": "stdout",
     "output_type": "stream",
     "text": [
      "The needed sample size is: 1536.64\n"
     ]
    }
   ],
   "source": [
    "# if you have to calculate the needed sample size\n",
    "# I = 2 * z_value * (sigma / n**0.5)\n",
    "\n",
    "I = 0.2\n",
    "z_value = 1.96\n",
    "sigma = 2\n",
    "n = (2 * z_value * sigma / I)**2\n",
    "\n",
    "print(f\"The needed sample size is: {value_rounded_str(n)}\")"
   ]
  },
  {
   "cell_type": "code",
   "execution_count": 28,
   "metadata": {},
   "outputs": [
    {
     "name": "stdout",
     "output_type": "stream",
     "text": [
      "t_value, 0.95, 9 = 1.8331\n",
      "Interval left: 97.6346\n",
      "Interval right: 100.1654\n"
     ]
    }
   ],
   "source": [
    "# 2. std is unknown\n",
    "# calculate with the help of t distribution\n",
    "# Z = (X - mean) / (S / n**0.5)\n",
    "\n",
    "n = 10\n",
    "degrees_of_freedom = n - 1  # n - 1\n",
    "alpha = 0.1\n",
    "t_quantil = 1 - alpha/2\n",
    "sigma = np.std(t_sample ,ddof=1) # Stichprobenstandardabweichung\n",
    "mean = 98.9\n",
    "t_value = t.ppf(t_quantil, degrees_of_freedom)\n",
    "\n",
    "interval_left, interval_right = calculate_intervals(mean, sigma, n, t_value)\n",
    "\n",
    "print(f\"t_value, {t_quantil}, {degrees_of_freedom} = {value_rounded_str(t_value)}\")\n",
    "print(f\"Interval left: {value_rounded_str(interval_left)}\")\n",
    "print(f\"Interval right: {value_rounded_str(interval_right)}\")"
   ]
  },
  {
   "cell_type": "code",
   "execution_count": null,
   "metadata": {},
   "outputs": [],
   "source": []
  }
 ],
 "metadata": {
  "kernelspec": {
   "display_name": "Python 3",
   "language": "python",
   "name": "python3"
  },
  "language_info": {
   "codemirror_mode": {
    "name": "ipython",
    "version": 3
   },
   "file_extension": ".py",
   "mimetype": "text/x-python",
   "name": "python",
   "nbconvert_exporter": "python",
   "pygments_lexer": "ipython3",
   "version": "3.12.0"
  }
 },
 "nbformat": 4,
 "nbformat_minor": 2
}
