{
 "cells": [
  {
   "cell_type": "markdown",
   "source": [
    "POISSON-VERTEILUNG:\n",
    "\n",
    "    \"Anzahl der Vorkommnisse in einem Intervall\"\n",
    "     X ~ Po(lambda)\n",
    "     Parameter: lambda - Auftrittsrate\n",
    "                k: Anzahl der Vorkommnisse"
   ],
   "metadata": {
    "collapsed": false
   },
   "id": "43747070ce367ed0"
  },
  {
   "cell_type": "markdown",
   "source": [
    "Beispiele:\n",
    "\n",
    "P_Zgleich0 = Z.pmf(0)\n",
    "print('P_Zgleich0 =' + myprint(P_Zgleich0))\n",
    "\n",
    "P_Zgleich2 = Z.pmf(2)\n",
    "print('P_Zgleich2 =' + myprint(P_Zgleich2))\n",
    "\n",
    "P_Zkleinergleich2 = Z.cdf(2)\n",
    "print('P_Zkleinergleich2 =' + myprint(P_Zkleinergleich2))\n",
    "\n",
    "E_Z = Z.mean()\n",
    "print('E_Z = ' + myprint(E_Z))\n",
    "\n",
    "Var_Z = Z.var()\n",
    "print('Var_Z = ' + myprint(Var_Z))"
   ],
   "metadata": {
    "collapsed": false
   },
   "id": "ae5d4cd4ae79659"
  },
  {
   "cell_type": "code",
   "execution_count": 11,
   "outputs": [],
   "source": [
    "import math\n",
    "import numpy as np\n",
    "from scipy.stats import poisson"
   ],
   "metadata": {
    "collapsed": false,
    "ExecuteTime": {
     "end_time": "2024-01-28T18:32:07.137292700Z",
     "start_time": "2024-01-28T18:32:06.982850900Z"
    }
   },
   "id": "cc0c0c0a6333e54a"
  },
  {
   "cell_type": "code",
   "execution_count": 12,
   "outputs": [],
   "source": [
    "def value_rounded_str(value):\n",
    "    val = str(np.round(value,4))\n",
    "    return val"
   ],
   "metadata": {
    "collapsed": false,
    "ExecuteTime": {
     "end_time": "2024-01-28T18:32:07.184170900Z",
     "start_time": "2024-01-28T18:32:06.982850900Z"
    }
   },
   "id": "4fc1d50305f50bfe"
  },
  {
   "cell_type": "code",
   "execution_count": 13,
   "outputs": [],
   "source": [
    "# EINGABEWERTE für Verteilung\n",
    "lamda = 13\n",
    "\n",
    "# EINGABEWERTE Wahrscheinlichkeiten\n",
    "x = 10\n",
    "\n",
    "x_oben = 8\n",
    "x_unten = 6"
   ],
   "metadata": {
    "collapsed": false,
    "ExecuteTime": {
     "end_time": "2024-01-28T18:32:07.184170900Z",
     "start_time": "2024-01-28T18:32:07.008321600Z"
    }
   },
   "id": "63afab00f95c6385"
  },
  {
   "cell_type": "code",
   "execution_count": 14,
   "id": "initial_id",
   "metadata": {
    "collapsed": true,
    "ExecuteTime": {
     "end_time": "2024-01-28T18:32:07.184170900Z",
     "start_time": "2024-01-28T18:32:07.011832800Z"
    }
   },
   "outputs": [],
   "source": [
    "X = poisson(lamda)"
   ]
  },
  {
   "cell_type": "code",
   "execution_count": 15,
   "outputs": [
    {
     "name": "stdout",
     "output_type": "stream",
     "text": [
      "Erwartungswert = 13.0\n"
     ]
    }
   ],
   "source": [
    "# Erwartungswert\n",
    "mean = X.mean()\n",
    "print('Erwartungswert = ' + value_rounded_str(mean))"
   ],
   "metadata": {
    "collapsed": false,
    "ExecuteTime": {
     "end_time": "2024-01-28T18:32:07.184170900Z",
     "start_time": "2024-01-28T18:32:07.027568400Z"
    }
   },
   "id": "bd1e3bc341c22fcb"
  },
  {
   "cell_type": "code",
   "execution_count": 16,
   "outputs": [
    {
     "name": "stdout",
     "output_type": "stream",
     "text": [
      "Varianz = 13.0\n"
     ]
    }
   ],
   "source": [
    "# Varianz\n",
    "var = X.var()\n",
    "print('Varianz = ' + value_rounded_str(var))"
   ],
   "metadata": {
    "collapsed": false,
    "ExecuteTime": {
     "end_time": "2024-01-28T18:32:07.215418600Z",
     "start_time": "2024-01-28T18:32:07.034750100Z"
    }
   },
   "id": "c82e852dc0936240"
  },
  {
   "cell_type": "code",
   "execution_count": 17,
   "outputs": [
    {
     "name": "stdout",
     "output_type": "stream",
     "text": [
      "Standardabweichung = 3.6056\n"
     ]
    }
   ],
   "source": [
    "# Standardabweichung\n",
    "sigma = X.std()\n",
    "print('Standardabweichung = ' + value_rounded_str(sigma))"
   ],
   "metadata": {
    "collapsed": false,
    "ExecuteTime": {
     "end_time": "2024-01-28T18:32:07.215418600Z",
     "start_time": "2024-01-28T18:32:07.047395700Z"
    }
   },
   "id": "985209751ac3a052"
  },
  {
   "cell_type": "code",
   "execution_count": 18,
   "outputs": [
    {
     "name": "stdout",
     "output_type": "stream",
     "text": [
      "P(X<=10) = 0.2517\n",
      "1 - P(X<=10) = 0.7483\n"
     ]
    }
   ],
   "source": [
    "# Wahrscheinlichkeit P(X<=x)\n",
    "p_kleinergleich = X.cdf(x) \n",
    "print(\"P(X<=\" + str(x) + \") = \" + value_rounded_str(p_kleinergleich))\n",
    "print(\"1 - P(X<=\" + str(x) + \") = \" + value_rounded_str(1 - p_kleinergleich))"
   ],
   "metadata": {
    "collapsed": false,
    "ExecuteTime": {
     "end_time": "2024-01-28T18:32:07.215418600Z",
     "start_time": "2024-01-28T18:32:07.070808Z"
    }
   },
   "id": "4c9b73a7bfb9b5fc"
  },
  {
   "cell_type": "code",
   "execution_count": 19,
   "outputs": [
    {
     "name": "stdout",
     "output_type": "stream",
     "text": [
      "P(X=10) = 0.0859\n",
      "1 - P(X=10) = 0.9141\n"
     ]
    }
   ],
   "source": [
    "# Wahrscheinlichkeit (P=X)\n",
    "p_gleich = X.pmf(x) \n",
    "print(\"P(X=\" + str(x) + \") = \" + value_rounded_str(p_gleich))\n",
    "print(\"1 - P(X=\" + str(x) + \") = \" + value_rounded_str(1 - p_gleich))"
   ],
   "metadata": {
    "collapsed": false,
    "ExecuteTime": {
     "end_time": "2024-01-28T18:32:07.215418600Z",
     "start_time": "2024-01-28T18:32:07.074317900Z"
    }
   },
   "id": "ac94ff081628686c"
  },
  {
   "cell_type": "code",
   "execution_count": 20,
   "outputs": [
    {
     "name": "stdout",
     "output_type": "stream",
     "text": [
      "P(X<=8) = 0.0998\n",
      "P(X<=6) = 0.0259\n",
      "P(6<=X<=8) = 0.0739\n"
     ]
    }
   ],
   "source": [
    "# Wahrscheinlichkeit P(x_unten<=X<=x_oben)\n",
    "p_kleinergleich_oben = X.cdf(x_oben)\n",
    "p_kleinergleich_unten = X.cdf(x_unten) \n",
    "print(\"P(X<=\" + str(x_oben) + \") = \" + value_rounded_str(p_kleinergleich_oben))\n",
    "print(\"P(X<=\" + str(x_unten) + \") = \" + value_rounded_str(p_kleinergleich_unten))\n",
    "print(\"P(\" + str(x_unten) + \"<=X<=\" + str(x_oben) + \") = \" + value_rounded_str(p_kleinergleich_oben - p_kleinergleich_unten))"
   ],
   "metadata": {
    "collapsed": false,
    "ExecuteTime": {
     "end_time": "2024-01-28T18:32:07.215418600Z",
     "start_time": "2024-01-28T18:32:07.090488900Z"
    }
   },
   "id": "391ef58df8f8098e"
  }
 ],
 "metadata": {
  "kernelspec": {
   "display_name": "Python 3",
   "language": "python",
   "name": "python3"
  },
  "language_info": {
   "codemirror_mode": {
    "name": "ipython",
    "version": 2
   },
   "file_extension": ".py",
   "mimetype": "text/x-python",
   "name": "python",
   "nbconvert_exporter": "python",
   "pygments_lexer": "ipython2",
   "version": "2.7.6"
  }
 },
 "nbformat": 4,
 "nbformat_minor": 5
}
