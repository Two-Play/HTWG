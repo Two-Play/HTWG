{
 "cells": [
  {
   "cell_type": "markdown",
   "source": [
    "BINOMIAL-VERTEILUNG:\n",
    "\n",
    "    \"Mit welcher Wahrscheinlichkeit treten k Erfolge in n Versuchen ein?\"\n",
    "    X ~ Bin(n,p)\n",
    "    Parameter: n - Anzahl der Versuche\n",
    "               k - Anzahl der Erfolge\n",
    "               p - Wahrscheinlichkeit fuer Erfolg"
   ],
   "metadata": {
    "collapsed": false
   },
   "id": "cd4e1802dddd1e4b"
  },
  {
   "cell_type": "markdown",
   "source": [
    "Beispiele:\n",
    "\n",
    "P_Ygleich2 = Y.pmf(2)\n",
    "print('P_Ygleich2 =' + myprint(P_Ygleich2))\n",
    "\n",
    "P_Ygleich2oder3 = Y.pmf(2) + Y.pmf(3)\n",
    "P_Ygleich2oder3 = sum(Y.pmf(list(range(2, 4))))\n",
    "print('P_Ygleich2oder3 =' + myprint(P_Ygleich2oder3))\n",
    "\n",
    "P_Ygleich0 = Y.pmf(0)\n",
    "print('P_Ygleich0 =' + myprint(P_Ygleich0))\n",
    "\n",
    "P_Ykleinergleich3 = Y.cdf(3)\n",
    "print('P_Ykleinergleich3 =' + myprint(P_Ykleinergleich3))\n",
    "\n",
    "E_Y = Y.mean()\n",
    "print('E_Y = ' + myprint(E_Y))\n",
    "\n",
    "Var_Y = Y.var()\n",
    "print('Var_Y = ' + myprint(Var_Y))"
   ],
   "metadata": {
    "collapsed": false
   },
   "id": "37280b49d7553eeb"
  },
  {
   "cell_type": "code",
   "execution_count": 21,
   "outputs": [],
   "source": [
    "import math\n",
    "import numpy as np\n",
    "from scipy.stats import binom"
   ],
   "metadata": {
    "collapsed": false,
    "ExecuteTime": {
     "end_time": "2024-01-28T18:09:05.096170100Z",
     "start_time": "2024-01-28T18:09:04.938743800Z"
    }
   },
   "id": "696fd8f83455926e"
  },
  {
   "cell_type": "code",
   "execution_count": 22,
   "outputs": [],
   "source": [
    "def value_rounded_str(value):\n",
    "    val = str(np.round(value,4))\n",
    "    return val"
   ],
   "metadata": {
    "collapsed": false,
    "ExecuteTime": {
     "end_time": "2024-01-28T18:09:05.096170100Z",
     "start_time": "2024-01-28T18:09:04.954654600Z"
    }
   },
   "id": "18af0994f8e859e3"
  },
  {
   "cell_type": "code",
   "execution_count": 23,
   "outputs": [],
   "source": [
    "# EINGABEWERTE für Verteilung\n",
    "n = 11\n",
    "p = 0.55\n",
    "\n",
    "# EINGABEWERTE Wahrscheinlichkeiten\n",
    "x = 4\n",
    "\n",
    "x_oben = 8\n",
    "x_unten = 5"
   ],
   "metadata": {
    "collapsed": false,
    "ExecuteTime": {
     "end_time": "2024-01-28T18:09:05.096170100Z",
     "start_time": "2024-01-28T18:09:04.971180700Z"
    }
   },
   "id": "bb7f8f4e4fe8f4f5"
  },
  {
   "cell_type": "code",
   "execution_count": 24,
   "outputs": [],
   "source": [
    "X = binom(n,p)"
   ],
   "metadata": {
    "collapsed": false,
    "ExecuteTime": {
     "end_time": "2024-01-28T18:09:05.096170100Z",
     "start_time": "2024-01-28T18:09:04.986202800Z"
    }
   },
   "id": "2f95b9bf1d2baf94"
  },
  {
   "cell_type": "code",
   "execution_count": 25,
   "id": "initial_id",
   "metadata": {
    "collapsed": true,
    "ExecuteTime": {
     "end_time": "2024-01-28T18:09:05.096170100Z",
     "start_time": "2024-01-28T18:09:04.989894Z"
    }
   },
   "outputs": [
    {
     "name": "stdout",
     "output_type": "stream",
     "text": [
      "Erwartungswert = 6.05\n"
     ]
    }
   ],
   "source": [
    "# Erwartungswert\n",
    "mean = X.mean()\n",
    "print('Erwartungswert = ' + value_rounded_str(mean))"
   ]
  },
  {
   "cell_type": "code",
   "execution_count": 26,
   "outputs": [
    {
     "name": "stdout",
     "output_type": "stream",
     "text": [
      "Varianz = 2.7225\n"
     ]
    }
   ],
   "source": [
    "# Varianz\n",
    "var = X.var()\n",
    "print('Varianz = ' + value_rounded_str(var))"
   ],
   "metadata": {
    "collapsed": false,
    "ExecuteTime": {
     "end_time": "2024-01-28T18:09:05.096170100Z",
     "start_time": "2024-01-28T18:09:05.003967300Z"
    }
   },
   "id": "cb1209ffa9f7aa3f"
  },
  {
   "cell_type": "code",
   "execution_count": 27,
   "outputs": [
    {
     "name": "stdout",
     "output_type": "stream",
     "text": [
      "Standardabweichung = 1.65\n"
     ]
    }
   ],
   "source": [
    "# Standardabweichung\n",
    "sigma = X.std()\n",
    "print('Standardabweichung = ' + value_rounded_str(sigma))"
   ],
   "metadata": {
    "collapsed": false,
    "ExecuteTime": {
     "end_time": "2024-01-28T18:09:05.096170100Z",
     "start_time": "2024-01-28T18:09:05.017450100Z"
    }
   },
   "id": "459746f941092266"
  },
  {
   "cell_type": "code",
   "execution_count": 28,
   "outputs": [
    {
     "name": "stdout",
     "output_type": "stream",
     "text": [
      "P(X<=4) = 0.1738\n",
      "1 - P(X<=4) = 0.8262\n"
     ]
    }
   ],
   "source": [
    "# Wahrscheinlichkeit P(X<=x)\n",
    "p_kleinergleich = X.cdf(x) \n",
    "print(\"P(X<=\" + str(x) + \") = \" + value_rounded_str(p_kleinergleich))\n",
    "print(\"1 - P(X<=\" + str(x) + \") = \" + value_rounded_str(1 - p_kleinergleich))"
   ],
   "metadata": {
    "collapsed": false,
    "ExecuteTime": {
     "end_time": "2024-01-28T18:09:05.096170100Z",
     "start_time": "2024-01-28T18:09:05.032893400Z"
    }
   },
   "id": "9dd96a8bb546cd8f"
  },
  {
   "cell_type": "code",
   "execution_count": 29,
   "outputs": [
    {
     "name": "stdout",
     "output_type": "stream",
     "text": [
      "P(X=4) = 0.1128\n",
      "1 - P(X=4) = 0.8872\n"
     ]
    }
   ],
   "source": [
    "# Wahrscheinlichkeit (P=X)\n",
    "p_gleich = X.pmf(x) \n",
    "print(\"P(X=\" + str(x) + \") = \" + value_rounded_str(p_gleich))\n",
    "print(\"1 - P(X=\" + str(x) + \") = \" + value_rounded_str(1 - p_gleich))"
   ],
   "metadata": {
    "collapsed": false,
    "ExecuteTime": {
     "end_time": "2024-01-28T18:09:05.096170100Z",
     "start_time": "2024-01-28T18:09:05.048554800Z"
    }
   },
   "id": "94d7250a87f383d"
  },
  {
   "cell_type": "code",
   "execution_count": 30,
   "outputs": [
    {
     "name": "stdout",
     "output_type": "stream",
     "text": [
      "P(X<=8) = 0.9348\n",
      "P(X<=5) = 0.3669\n",
      "P(5<=X<=8) = 0.5679\n"
     ]
    }
   ],
   "source": [
    "# Wahrscheinlichkeit P(x_unten<=X<=x_oben)\n",
    "p_kleinergleich_oben = X.cdf(x_oben)\n",
    "p_kleinergleich_unten = X.cdf(x_unten) \n",
    "print(\"P(X<=\" + str(x_oben) + \") = \" + value_rounded_str(p_kleinergleich_oben))\n",
    "print(\"P(X<=\" + str(x_unten) + \") = \" + value_rounded_str(p_kleinergleich_unten))\n",
    "print(\"P(\" + str(x_unten) + \"<=X<=\" + str(x_oben) + \") = \" + value_rounded_str(p_kleinergleich_oben - p_kleinergleich_unten))"
   ],
   "metadata": {
    "collapsed": false,
    "ExecuteTime": {
     "end_time": "2024-01-28T18:09:05.096170100Z",
     "start_time": "2024-01-28T18:09:05.080218600Z"
    }
   },
   "id": "54f7cba373e0f3b2"
  }
 ],
 "metadata": {
  "kernelspec": {
   "display_name": "Python 3",
   "language": "python",
   "name": "python3"
  },
  "language_info": {
   "codemirror_mode": {
    "name": "ipython",
    "version": 2
   },
   "file_extension": ".py",
   "mimetype": "text/x-python",
   "name": "python",
   "nbconvert_exporter": "python",
   "pygments_lexer": "ipython2",
   "version": "2.7.6"
  }
 },
 "nbformat": 4,
 "nbformat_minor": 5
}
