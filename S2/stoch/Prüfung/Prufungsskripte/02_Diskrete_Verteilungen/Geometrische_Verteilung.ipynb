{
 "cells": [
  {
   "cell_type": "markdown",
   "source": [
    "GEOMETRISCHE VERTEILUNG:\n",
    "\n",
    "    \"Wie viele Versuche, bis Erfolg eintritt.\"\n",
    "    X ~ geom(p)\n",
    "    Parameter: n - Anzahl der Versuche\n",
    "               p - Wahrscheinlichkeit fuer Erfolg"
   ],
   "metadata": {
    "collapsed": false
   },
   "id": "4dda67b4225b376e"
  },
  {
   "cell_type": "markdown",
   "source": [
    "Beispiele:\n",
    "\n",
    "P_Xgleich2 = X.pmf(2)\n",
    "print('P_Xgleich2 =' + myprint(P_Xgleich2))\n",
    "\n",
    "P_Xkleinergleich4 = X.cdf(4)\n",
    "print('P_Xkleinergleich4 =' + myprint(P_Xkleinergleich4))\n",
    "\n",
    "P_Xgroesser4 = 1 - P_Xkleinergleich4\n",
    "print('P_Xgroesser4 =' + myprint(P_Xgroesser4))\n",
    "\n",
    "E_X = X.mean()\n",
    "print('E_X = ' + myprint(E_X))\n",
    "\n",
    "Var_X = X.var()\n",
    "print('Var_X = ' + myprint(Var_X))"
   ],
   "metadata": {
    "collapsed": false
   },
   "id": "6509f1fa2a70e27e"
  },
  {
   "cell_type": "code",
   "execution_count": 31,
   "outputs": [],
   "source": [
    "import math\n",
    "import numpy as np\n",
    "from scipy.stats import geom"
   ],
   "metadata": {
    "collapsed": false,
    "ExecuteTime": {
     "end_time": "2024-01-28T20:18:09.524733Z",
     "start_time": "2024-01-28T20:18:09.517870Z"
    }
   },
   "id": "c8f8eee3efd9a0c4"
  },
  {
   "cell_type": "code",
   "execution_count": 32,
   "outputs": [],
   "source": [
    "def value_rounded_str(value):\n",
    "    val = str(np.round(value,4))\n",
    "    return val"
   ],
   "metadata": {
    "collapsed": false,
    "ExecuteTime": {
     "end_time": "2024-01-28T20:18:09.534804Z",
     "start_time": "2024-01-28T20:18:09.526508Z"
    }
   },
   "id": "a2352dd9d4bfea9a"
  },
  {
   "cell_type": "code",
   "execution_count": 33,
   "outputs": [],
   "source": [
    "# EINGABEWERTE für Verteilung\n",
    "p = 0.25\n",
    "\n",
    "# EINGABEWERTE Wahrscheinlichkeiten\n",
    "x = 2\n",
    "\n",
    "x_oben = 8\n",
    "x_unten = 5"
   ],
   "metadata": {
    "collapsed": false,
    "ExecuteTime": {
     "end_time": "2024-01-28T20:18:09.535037Z",
     "start_time": "2024-01-28T20:18:09.528906Z"
    }
   },
   "id": "25d1cae375c2388e"
  },
  {
   "cell_type": "code",
   "execution_count": 34,
   "outputs": [],
   "source": [
    "X = geom(p)"
   ],
   "metadata": {
    "collapsed": false,
    "ExecuteTime": {
     "end_time": "2024-01-28T20:18:09.543380Z",
     "start_time": "2024-01-28T20:18:09.536949Z"
    }
   },
   "id": "3770d4bf94414b6f"
  },
  {
   "cell_type": "code",
   "execution_count": 35,
   "outputs": [
    {
     "name": "stdout",
     "output_type": "stream",
     "text": [
      "Erwartungswert = 4.0\n"
     ]
    }
   ],
   "source": [
    "# Erwartungswert\n",
    "mean = X.mean()\n",
    "print('Erwartungswert = ' + value_rounded_str(mean))"
   ],
   "metadata": {
    "collapsed": false,
    "ExecuteTime": {
     "end_time": "2024-01-28T20:18:09.543857Z",
     "start_time": "2024-01-28T20:18:09.540033Z"
    }
   },
   "id": "f3ee96f961d0cf21"
  },
  {
   "cell_type": "code",
   "execution_count": 36,
   "outputs": [
    {
     "name": "stdout",
     "output_type": "stream",
     "text": [
      "Varianz = 12.0\n"
     ]
    }
   ],
   "source": [
    "# Varianz\n",
    "var = X.var()\n",
    "print('Varianz = ' + value_rounded_str(var))"
   ],
   "metadata": {
    "collapsed": false,
    "ExecuteTime": {
     "end_time": "2024-01-28T20:18:09.544519Z",
     "start_time": "2024-01-28T20:18:09.542247Z"
    }
   },
   "id": "241088b2bab20f5b"
  },
  {
   "cell_type": "code",
   "execution_count": 37,
   "outputs": [
    {
     "name": "stdout",
     "output_type": "stream",
     "text": [
      "Standardabweichung = 3.4641\n"
     ]
    }
   ],
   "source": [
    "# Standardabweichung\n",
    "sigma = X.std()\n",
    "print('Standardabweichung = ' + value_rounded_str(sigma))"
   ],
   "metadata": {
    "collapsed": false,
    "ExecuteTime": {
     "end_time": "2024-01-28T20:18:09.553824Z",
     "start_time": "2024-01-28T20:18:09.545374Z"
    }
   },
   "id": "d16c79a489fc3a15"
  },
  {
   "cell_type": "code",
   "execution_count": 38,
   "outputs": [
    {
     "name": "stdout",
     "output_type": "stream",
     "text": [
      "P(X<=2) = 0.4375\n",
      "1 - P(X<=2) = 0.5625\n"
     ]
    }
   ],
   "source": [
    "# Wahrscheinlichkeit P(X<=x)\n",
    "p_kleinergleich = X.cdf(x) \n",
    "print(\"P(X<=\" + str(x) + \") = \" + value_rounded_str(p_kleinergleich))\n",
    "print(\"1 - P(X<=\" + str(x) + \") = \" + value_rounded_str(1 - p_kleinergleich))"
   ],
   "metadata": {
    "collapsed": false,
    "ExecuteTime": {
     "end_time": "2024-01-28T20:18:09.557372Z",
     "start_time": "2024-01-28T20:18:09.547923Z"
    }
   },
   "id": "47abad8357ceaeff"
  },
  {
   "cell_type": "code",
   "execution_count": 39,
   "outputs": [
    {
     "name": "stdout",
     "output_type": "stream",
     "text": [
      "P(X=2) = 0.1875\n",
      "1 - P(X=2) = 0.8125\n"
     ]
    }
   ],
   "source": [
    "# Wahrscheinlichkeit (P=X)\n",
    "p_gleich = X.pmf(x) \n",
    "print(\"P(X=\" + str(x) + \") = \" + value_rounded_str(p_gleich))\n",
    "print(\"1 - P(X=\" + str(x) + \") = \" + value_rounded_str(1 - p_gleich))"
   ],
   "metadata": {
    "collapsed": false,
    "ExecuteTime": {
     "end_time": "2024-01-28T20:18:09.557688Z",
     "start_time": "2024-01-28T20:18:09.550583Z"
    }
   },
   "id": "745f2d4d384d6861"
  },
  {
   "cell_type": "code",
   "execution_count": 40,
   "outputs": [
    {
     "name": "stdout",
     "output_type": "stream",
     "text": [
      "P(X<=8) = 0.8999\n",
      "P(X<=5) = 0.7627\n",
      "P(5<=X<=8) = 0.1372\n"
     ]
    }
   ],
   "source": [
    "# Wahrscheinlichkeit P(x_unten<=X<=x_oben)\n",
    "p_kleinergleich_oben = X.cdf(x_oben)\n",
    "p_kleinergleich_unten = X.cdf(x_unten) \n",
    "print(\"P(X<=\" + str(x_oben) + \") = \" + value_rounded_str(p_kleinergleich_oben))\n",
    "print(\"P(X<=\" + str(x_unten) + \") = \" + value_rounded_str(p_kleinergleich_unten))\n",
    "print(\"P(\" + str(x_unten) + \"<=X<=\" + str(x_oben) + \") = \" + value_rounded_str(p_kleinergleich_oben - p_kleinergleich_unten))"
   ],
   "metadata": {
    "collapsed": false,
    "ExecuteTime": {
     "end_time": "2024-01-28T20:18:09.557974Z",
     "start_time": "2024-01-28T20:18:09.553249Z"
    }
   },
   "id": "e41b2be6bb3b66b8"
  }
 ],
 "metadata": {
  "kernelspec": {
   "display_name": "Python 3",
   "language": "python",
   "name": "python3"
  },
  "language_info": {
   "codemirror_mode": {
    "name": "ipython",
    "version": 2
   },
   "file_extension": ".py",
   "mimetype": "text/x-python",
   "name": "python",
   "nbconvert_exporter": "python",
   "pygments_lexer": "ipython2",
   "version": "2.7.6"
  }
 },
 "nbformat": 4,
 "nbformat_minor": 5
}
