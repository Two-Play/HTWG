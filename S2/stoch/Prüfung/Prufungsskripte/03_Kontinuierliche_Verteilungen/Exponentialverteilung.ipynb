{
 "cells": [
  {
   "cell_type": "markdown",
   "source": [
    "EXPONENTIALVERTEILUNG:\n",
    "\n",
    "    \"Die Exponentialverteilung ist eine Wahrscheinlichkeitsverteilung zur Bestimmung zufälliger Zeitintervalle.\n",
    "    Sie wird meist für Warte- oder Ausfallzeiten verwendet, wie zum Beispiel die Länge eines Telefongesprächs,\n",
    "    den radioaktiven Zerfall von Atomen oder die Lebensdauer deines Handys.\"\n",
    "    Exp(lambda)\n",
    "    Parameter:\n",
    "            lambda: gegeben\n",
    "            x: gesuchter Wert\n",
    "    Beispiel:\n",
    "            Lebensdauer lambda = 0.001\n",
    "            wie wahrscheinlich ist es, dass das Gerät noch ein weiteres Jahr funktioniert. x = 365\n",
    "            expon.cdf(365, scale = 1/0.001) = 0.306\n",
    "            => Die Wahrscheinlichkeit, dass es noch funktioniert ist also bei fast 70 Prozent."
   ],
   "metadata": {
    "collapsed": false
   },
   "id": "6bc6fcf7175d39bd"
  },
  {
   "cell_type": "markdown",
   "source": [
    "P_Zkleinergleich175 = Z.cdf(175)\n",
    "print('P_Zkleinergleich175 = ' + myprint(P_Zkleinergleich175))\n",
    "\n",
    "P_Zgroessergleich180 = Z.sf(180)\n",
    "print('P_Zgroessergleich180 = ' + myprint(P_Zgroessergleich180))\n",
    "\n",
    "P_Zgroessergleich185 = Z.sf(185)\n",
    "print('P_Zgroessergleich185 = ' + myprint(P_Zgroessergleich185))\n",
    "\n",
    "Quant_Z95 = Z.ppf(0.95)\n",
    "print('Quant_Z95 = ' + myprint(Quant_Z95))\n",
    "\n",
    "Quant_Z90 = Z.ppf(0.90)\n",
    "print('Quant_Z90 = ' + myprint(Quant_Z90))\n",
    "\n",
    "E_Z = Z.mean()\n",
    "print('E_Z = ' + myprint(E_Z))\n",
    "\n",
    "std_Z = Z.std()\n",
    "print('std_Z = ' + myprint(std_Z))"
   ],
   "metadata": {
    "collapsed": false
   },
   "id": "7e7e855e38e27e49"
  },
  {
   "cell_type": "code",
   "execution_count": 12,
   "id": "initial_id",
   "metadata": {
    "collapsed": true,
    "ExecuteTime": {
     "end_time": "2024-01-28T21:10:06.828183Z",
     "start_time": "2024-01-28T21:10:06.819115Z"
    }
   },
   "outputs": [],
   "source": [
    "import math\n",
    "import numpy as np\n",
    "from scipy.stats import expon"
   ]
  },
  {
   "cell_type": "code",
   "execution_count": 13,
   "outputs": [],
   "source": [
    "def value_rounded_str(value):\n",
    "    val = str(np.round(value,4))\n",
    "    return val"
   ],
   "metadata": {
    "collapsed": false,
    "ExecuteTime": {
     "end_time": "2024-01-28T21:10:06.842010Z",
     "start_time": "2024-01-28T21:10:06.829793Z"
    }
   },
   "id": "47d968e310533804"
  },
  {
   "cell_type": "code",
   "execution_count": 14,
   "outputs": [],
   "source": [
    "# EINGABEWERTE für Verteilung\n",
    "lamda = 2\n",
    "\n",
    "# EINGABEWERTE Kennwerte\n",
    "quantil = 0.75\n",
    "\n",
    "# EINGABEWERTE Wahrscheinlichkeiten\n",
    "x = 0.5\n",
    "\n",
    "x_oben = 10\n",
    "x_unten = 5"
   ],
   "metadata": {
    "collapsed": false,
    "ExecuteTime": {
     "end_time": "2024-01-28T21:10:06.851316Z",
     "start_time": "2024-01-28T21:10:06.844106Z"
    }
   },
   "id": "482b7699b03976ec"
  },
  {
   "cell_type": "code",
   "execution_count": 15,
   "outputs": [],
   "source": [
    "X = expon(loc=0,scale=1/lamda)"
   ],
   "metadata": {
    "collapsed": false,
    "ExecuteTime": {
     "end_time": "2024-01-28T21:10:06.851555Z",
     "start_time": "2024-01-28T21:10:06.847385Z"
    }
   },
   "id": "a454ffdd4a85d062"
  },
  {
   "cell_type": "code",
   "execution_count": 16,
   "outputs": [
    {
     "name": "stdout",
     "output_type": "stream",
     "text": [
      "Erwartungswert = 0.5\n"
     ]
    }
   ],
   "source": [
    "# Erwartungswert\n",
    "mean = X.mean()\n",
    "print('Erwartungswert = ' + value_rounded_str(mean))"
   ],
   "metadata": {
    "collapsed": false,
    "ExecuteTime": {
     "end_time": "2024-01-28T21:10:06.858114Z",
     "start_time": "2024-01-28T21:10:06.849746Z"
    }
   },
   "id": "ceb1fec2f6383d2a"
  },
  {
   "cell_type": "code",
   "execution_count": 17,
   "outputs": [
    {
     "name": "stdout",
     "output_type": "stream",
     "text": [
      "Varianz = 0.25\n"
     ]
    }
   ],
   "source": [
    "# Varianz\n",
    "var = X.var()\n",
    "print('Varianz = ' + value_rounded_str(var))"
   ],
   "metadata": {
    "collapsed": false,
    "ExecuteTime": {
     "end_time": "2024-01-28T21:10:06.859052Z",
     "start_time": "2024-01-28T21:10:06.852709Z"
    }
   },
   "id": "6c422d78dae5ed2e"
  },
  {
   "cell_type": "code",
   "execution_count": 18,
   "outputs": [
    {
     "name": "stdout",
     "output_type": "stream",
     "text": [
      "Standardabweichung = 0.5\n"
     ]
    }
   ],
   "source": [
    "# Standardabweichung\n",
    "sigma = X.std()\n",
    "print('Standardabweichung = ' + value_rounded_str(sigma))"
   ],
   "metadata": {
    "collapsed": false,
    "ExecuteTime": {
     "end_time": "2024-01-28T21:10:06.859237Z",
     "start_time": "2024-01-28T21:10:06.855141Z"
    }
   },
   "id": "ecdb6904ec030829"
  },
  {
   "cell_type": "code",
   "execution_count": 19,
   "outputs": [
    {
     "name": "stdout",
     "output_type": "stream",
     "text": [
      "0.75-Quantil = 0.6931\n"
     ]
    }
   ],
   "source": [
    "# Quantil\n",
    "quant = X.ppf(quantil)\n",
    "print(str(quantil) + \"-Quantil = \" + value_rounded_str(quant))"
   ],
   "metadata": {
    "collapsed": false,
    "ExecuteTime": {
     "end_time": "2024-01-28T21:10:06.860014Z",
     "start_time": "2024-01-28T21:10:06.857457Z"
    }
   },
   "id": "f68a2118b6977d0d"
  },
  {
   "cell_type": "code",
   "execution_count": 20,
   "outputs": [
    {
     "name": "stdout",
     "output_type": "stream",
     "text": [
      "P(X<=0.5) = 0.6321\n",
      "1 - P(X<=0.5) = 0.3679\n"
     ]
    }
   ],
   "source": [
    "# Wahrscheinlichkeit P(X<=x)\n",
    "p_kleinergleich = X.cdf(x) \n",
    "print(\"P(X<=\" + str(x) + \") = \" + value_rounded_str(p_kleinergleich))\n",
    "print(\"1 - P(X<=\" + str(x) + \") = \" + value_rounded_str(1 - p_kleinergleich))"
   ],
   "metadata": {
    "collapsed": false,
    "ExecuteTime": {
     "end_time": "2024-01-28T21:10:06.865052Z",
     "start_time": "2024-01-28T21:10:06.859642Z"
    }
   },
   "id": "b56ef5aea9bf9ec9"
  },
  {
   "cell_type": "code",
   "execution_count": 21,
   "outputs": [
    {
     "name": "stdout",
     "output_type": "stream",
     "text": [
      "P(X>=0.5) = 0.3679\n",
      "1 - P(X>=0.5) = 0.6321\n"
     ]
    }
   ],
   "source": [
    "# Wahrscheinlichkeit P(X>=x)\n",
    "p_groessergleich = X.sf(x) \n",
    "print(\"P(X>=\" + str(x) + \") = \" + value_rounded_str(p_groessergleich))\n",
    "print(\"1 - P(X>=\" + str(x) + \") = \" + value_rounded_str(1 - p_groessergleich))"
   ],
   "metadata": {
    "collapsed": false,
    "ExecuteTime": {
     "end_time": "2024-01-28T21:10:06.865475Z",
     "start_time": "2024-01-28T21:10:06.863271Z"
    }
   },
   "id": "c63e6cbb8c863c40"
  },
  {
   "cell_type": "code",
   "execution_count": 22,
   "outputs": [
    {
     "name": "stdout",
     "output_type": "stream",
     "text": [
      "P(X<=10) = 1.0\n",
      "P(X<=5) = 1.0\n",
      "P(5<=X<=10) = 0.0\n"
     ]
    }
   ],
   "source": [
    "# Wahrscheinlichkeit P(x_unten<=X<=x_oben)\n",
    "p_kleinergleich_oben = X.cdf(x_oben)\n",
    "p_kleinergleich_unten = X.cdf(x_unten) \n",
    "print(\"P(X<=\" + str(x_oben) + \") = \" + value_rounded_str(p_kleinergleich_oben))\n",
    "print(\"P(X<=\" + str(x_unten) + \") = \" + value_rounded_str(p_kleinergleich_unten))\n",
    "print(\"P(\" + str(x_unten) + \"<=X<=\" + str(x_oben) + \") = \" + value_rounded_str(p_kleinergleich_oben - p_kleinergleich_unten))"
   ],
   "metadata": {
    "collapsed": false,
    "ExecuteTime": {
     "end_time": "2024-01-28T21:10:06.870304Z",
     "start_time": "2024-01-28T21:10:06.866041Z"
    }
   },
   "id": "86782df605baf487"
  }
 ],
 "metadata": {
  "kernelspec": {
   "display_name": "Python 3",
   "language": "python",
   "name": "python3"
  },
  "language_info": {
   "codemirror_mode": {
    "name": "ipython",
    "version": 2
   },
   "file_extension": ".py",
   "mimetype": "text/x-python",
   "name": "python",
   "nbconvert_exporter": "python",
   "pygments_lexer": "ipython2",
   "version": "2.7.6"
  }
 },
 "nbformat": 4,
 "nbformat_minor": 5
}
