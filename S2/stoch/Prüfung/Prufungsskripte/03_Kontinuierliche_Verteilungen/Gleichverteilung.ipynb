{
 "cells": [
  {
   "cell_type": "markdown",
   "source": [
    "GLEICHVERTEILUNG: auch uniforme Verteilung\n",
    "\n",
    "    \"Jeder denkbare reelle Wert der Zufallsvariable ist in einem vorgegebenen Intervall gleich wahrscheinlich\"\n",
    "    X ~ G(a, b)\n",
    "    Parameter:\n",
    "            a: min Wert\n",
    "            b: max Wert\n",
    "            x: gesuchter Wert\n",
    "    Beispiel:\n",
    "            Stetige Gleichverteilung zwischen a = 0 und b = 60\n",
    "            Wie wahrscheinlich ist es, dass man weniger als 15 Minuten warten muss.\n",
    "            uniform.cdf(15, 0, 60) = 0.25 = 25% Wahrscheinlichkeit"
   ],
   "metadata": {
    "collapsed": false
   },
   "id": "f356772fe923a8f9"
  },
  {
   "cell_type": "markdown",
   "source": [
    "P_Xkleinergleich1 = X.cdf(60)\n",
    "print('P_Xkleinergleich1 = ' + myprint(P_Xkleinergleich1))\n",
    "\n",
    "# P_Xmehrals1 = X.sf(60)\n",
    "P_Xmehrals1 = X.sf(60)\n",
    "print('P_Xmehrals1 = ' + myprint(P_Xmehrals1))\n",
    "\n",
    "E_X = X.mean()\n",
    "print('E_X = ' + myprint(E_X))\n",
    "\n",
    "std_X = X.std()\n",
    "print('std_X = ' + myprint(std_X))"
   ],
   "metadata": {
    "collapsed": false
   },
   "id": "f1fa3a757f6f1e75"
  },
  {
   "cell_type": "code",
   "execution_count": 23,
   "id": "initial_id",
   "metadata": {
    "collapsed": true,
    "ExecuteTime": {
     "end_time": "2024-01-28T21:07:46.659294Z",
     "start_time": "2024-01-28T21:07:46.652374Z"
    }
   },
   "outputs": [],
   "source": [
    "import math\n",
    "import numpy as np\n",
    "from scipy.stats import uniform"
   ]
  },
  {
   "cell_type": "code",
   "execution_count": 24,
   "outputs": [],
   "source": [
    "def value_rounded_str(value):\n",
    "    val = str(np.round(value,4))\n",
    "    return val"
   ],
   "metadata": {
    "collapsed": false,
    "ExecuteTime": {
     "end_time": "2024-01-28T21:07:46.669825Z",
     "start_time": "2024-01-28T21:07:46.661981Z"
    }
   },
   "id": "707f1f954ae6a78d"
  },
  {
   "cell_type": "code",
   "execution_count": 25,
   "outputs": [],
   "source": [
    "# EINGABEWERTE für Verteilung\n",
    "l = 200\n",
    "s = 600-l\n",
    "\n",
    "# EINGABEWERTE Kennwerte\n",
    "quantil = 0.75\n",
    "\n",
    "# EINGABEWERTE Wahrscheinlichkeiten\n",
    "x = 500\n",
    "\n",
    "x_oben = 300\n",
    "x_unten = 200"
   ],
   "metadata": {
    "collapsed": false,
    "ExecuteTime": {
     "end_time": "2024-01-28T21:07:46.673499Z",
     "start_time": "2024-01-28T21:07:46.672100Z"
    }
   },
   "id": "109f4a1d4848cdf0"
  },
  {
   "cell_type": "code",
   "execution_count": 26,
   "outputs": [],
   "source": [
    "X = uniform(loc=l,scale=s)"
   ],
   "metadata": {
    "collapsed": false,
    "ExecuteTime": {
     "end_time": "2024-01-28T21:07:46.680479Z",
     "start_time": "2024-01-28T21:07:46.675086Z"
    }
   },
   "id": "5fc5ec7055192351"
  },
  {
   "cell_type": "code",
   "execution_count": 27,
   "outputs": [
    {
     "name": "stdout",
     "output_type": "stream",
     "text": [
      "Erwartungswert = 400.0\n"
     ]
    }
   ],
   "source": [
    "# Erwartungswert\n",
    "mean = X.mean()\n",
    "print('Erwartungswert = ' + value_rounded_str(mean))"
   ],
   "metadata": {
    "collapsed": false,
    "ExecuteTime": {
     "end_time": "2024-01-28T21:07:46.680840Z",
     "start_time": "2024-01-28T21:07:46.677674Z"
    }
   },
   "id": "1c79602a3986a1b4"
  },
  {
   "cell_type": "code",
   "execution_count": 28,
   "outputs": [
    {
     "name": "stdout",
     "output_type": "stream",
     "text": [
      "Varianz = 13333.3333\n"
     ]
    }
   ],
   "source": [
    "# Varianz\n",
    "var = X.var()\n",
    "print('Varianz = ' + value_rounded_str(var))"
   ],
   "metadata": {
    "collapsed": false,
    "ExecuteTime": {
     "end_time": "2024-01-28T21:07:46.682445Z",
     "start_time": "2024-01-28T21:07:46.680830Z"
    }
   },
   "id": "39e3c393e1b05df5"
  },
  {
   "cell_type": "code",
   "execution_count": 29,
   "outputs": [
    {
     "name": "stdout",
     "output_type": "stream",
     "text": [
      "Standardabweichung = 115.4701\n"
     ]
    }
   ],
   "source": [
    "# Standardabweichung\n",
    "sigma = X.std()\n",
    "print('Standardabweichung = ' + value_rounded_str(sigma))"
   ],
   "metadata": {
    "collapsed": false,
    "ExecuteTime": {
     "end_time": "2024-01-28T21:07:46.692047Z",
     "start_time": "2024-01-28T21:07:46.682977Z"
    }
   },
   "id": "55940b70de0628ae"
  },
  {
   "cell_type": "code",
   "execution_count": 30,
   "outputs": [
    {
     "name": "stdout",
     "output_type": "stream",
     "text": [
      "0.75-Quantil = 500.0\n"
     ]
    }
   ],
   "source": [
    "# Quantil\n",
    "quant = X.ppf(quantil)\n",
    "print(str(quantil) + \"-Quantil = \" + value_rounded_str(quant))"
   ],
   "metadata": {
    "collapsed": false,
    "ExecuteTime": {
     "end_time": "2024-01-28T21:07:46.692304Z",
     "start_time": "2024-01-28T21:07:46.685465Z"
    }
   },
   "id": "90559aaba2df46ac"
  },
  {
   "cell_type": "code",
   "execution_count": 31,
   "outputs": [
    {
     "name": "stdout",
     "output_type": "stream",
     "text": [
      "P(X<=500) = 0.75\n",
      "1 - P(X<=500) = 0.25\n"
     ]
    }
   ],
   "source": [
    "# Wahrscheinlichkeit P(X<=x)\n",
    "p_kleinergleich = X.cdf(x) \n",
    "print(\"P(X<=\" + str(x) + \") = \" + value_rounded_str(p_kleinergleich))\n",
    "print(\"1 - P(X<=\" + str(x) + \") = \" + value_rounded_str(1 - p_kleinergleich))"
   ],
   "metadata": {
    "collapsed": false,
    "ExecuteTime": {
     "end_time": "2024-01-28T21:07:46.692517Z",
     "start_time": "2024-01-28T21:07:46.687852Z"
    }
   },
   "id": "8803198a4569d271"
  },
  {
   "cell_type": "code",
   "execution_count": 32,
   "outputs": [
    {
     "name": "stdout",
     "output_type": "stream",
     "text": [
      "P(X>=500) = 0.25\n",
      "1 - P(X>=500) = 0.75\n"
     ]
    }
   ],
   "source": [
    "# Wahrscheinlichkeit P(X>=x)\n",
    "p_groessergleich = X.sf(x) \n",
    "print(\"P(X>=\" + str(x) + \") = \" + value_rounded_str(p_groessergleich))\n",
    "print(\"1 - P(X>=\" + str(x) + \") = \" + value_rounded_str(1 - p_groessergleich))"
   ],
   "metadata": {
    "collapsed": false,
    "ExecuteTime": {
     "end_time": "2024-01-28T21:07:46.692757Z",
     "start_time": "2024-01-28T21:07:46.690283Z"
    }
   },
   "id": "613fb25e60781855"
  },
  {
   "cell_type": "code",
   "execution_count": 33,
   "outputs": [
    {
     "name": "stdout",
     "output_type": "stream",
     "text": [
      "P(X<=300) = 0.25\n",
      "P(X<=200) = 0.0\n",
      "P(200<=X<=300) = 0.25\n"
     ]
    }
   ],
   "source": [
    "# Wahrscheinlichkeit P(x_unten<=X<=x_oben)\n",
    "p_kleinergleich_oben = X.cdf(x_oben)\n",
    "p_kleinergleich_unten = X.cdf(x_unten) \n",
    "print(\"P(X<=\" + str(x_oben) + \") = \" + value_rounded_str(p_kleinergleich_oben))\n",
    "print(\"P(X<=\" + str(x_unten) + \") = \" + value_rounded_str(p_kleinergleich_unten))\n",
    "print(\"P(\" + str(x_unten) + \"<=X<=\" + str(x_oben) + \") = \" + value_rounded_str(p_kleinergleich_oben - p_kleinergleich_unten))"
   ],
   "metadata": {
    "collapsed": false,
    "ExecuteTime": {
     "end_time": "2024-01-28T21:07:46.694179Z",
     "start_time": "2024-01-28T21:07:46.692925Z"
    }
   },
   "id": "1d0609f6b491faf3"
  }
 ],
 "metadata": {
  "kernelspec": {
   "display_name": "Python 3",
   "language": "python",
   "name": "python3"
  },
  "language_info": {
   "codemirror_mode": {
    "name": "ipython",
    "version": 2
   },
   "file_extension": ".py",
   "mimetype": "text/x-python",
   "name": "python",
   "nbconvert_exporter": "python",
   "pygments_lexer": "ipython2",
   "version": "2.7.6"
  }
 },
 "nbformat": 4,
 "nbformat_minor": 5
}
