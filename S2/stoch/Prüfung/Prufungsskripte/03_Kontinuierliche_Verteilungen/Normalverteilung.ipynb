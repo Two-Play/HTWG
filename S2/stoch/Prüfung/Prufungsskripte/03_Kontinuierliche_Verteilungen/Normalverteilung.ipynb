{
 "cells": [
  {
   "cell_type": "markdown",
   "source": [
    "NORMALVERTEILUNG:\n",
    "\n",
    "    \"Der zentrale Grenzwertsatz beschreibt das Phänomen, dass reale zufällige Prozesse in\n",
    "    ihrer Summe häufig glockenförmige Verteilungen aufweisen. So sind zum Beispiel Wachstumsprozesse,\n",
    "    wie die Körpergröße aller Männer oder Messvorgänge, wie beispielsweise die Sprungweite von Kängurus,\n",
    "    immer normalverteilt.\"\n",
    "    N(erwartungswert, varianz)\n",
    "    Parameter:\n",
    "            erwartungswert: Mitte der Kurve\n",
    "            varianz: Streckung / Stauchung der Kurve\n",
    "    Beispiel:\n",
    "            Wahrscheinlichkeit, dass eine Kerze zwischen 33 und 47 Stunden brennt."
   ],
   "metadata": {
    "collapsed": false
   },
   "id": "f5f34dcbcf7655c7"
  },
  {
   "cell_type": "markdown",
   "source": [
    "P_Zkleinergleich175 = Z.cdf(175)\n",
    "print('P_Zkleinergleich175 = ' + myprint(P_Zkleinergleich175))\n",
    "\n",
    "P_Zgroessergleich180 = Z.sf(180)\n",
    "print('P_Zgroessergleich180 = ' + myprint(P_Zgroessergleich180))\n",
    "\n",
    "P_Zgroessergleich185 = Z.sf(185)\n",
    "print('P_Zgroessergleich185 = ' + myprint(P_Zgroessergleich185))\n",
    "\n",
    "Quant_Z95 = Z.ppf(0.95)\n",
    "print('Quant_Z95 = ' + myprint(Quant_Z95))\n",
    "\n",
    "Quant_Z90 = Z.ppf(0.90)\n",
    "print('Quant_Z90 = ' + myprint(Quant_Z90))\n",
    "\n",
    "E_Z = Z.mean()\n",
    "print('E_Z = ' + myprint(E_Z))\n",
    "\n",
    "std_Z = Z.std()\n",
    "print('std_Z = ' + myprint(std_Z))"
   ],
   "metadata": {
    "collapsed": false
   },
   "id": "a2e080c096f0b0b2"
  },
  {
   "cell_type": "code",
   "execution_count": 67,
   "id": "initial_id",
   "metadata": {
    "collapsed": true,
    "ExecuteTime": {
     "end_time": "2024-01-28T18:22:52.606384500Z",
     "start_time": "2024-01-28T18:22:52.426919900Z"
    }
   },
   "outputs": [],
   "source": [
    "import math\n",
    "import numpy as np\n",
    "from scipy.stats import norm"
   ]
  },
  {
   "cell_type": "code",
   "execution_count": 68,
   "outputs": [],
   "source": [
    "def value_rounded_str(value):\n",
    "    val = str(np.round(value,4))\n",
    "    return val"
   ],
   "metadata": {
    "collapsed": false,
    "ExecuteTime": {
     "end_time": "2024-01-28T18:22:52.637638200Z",
     "start_time": "2024-01-28T18:22:52.453180800Z"
    }
   },
   "id": "92d2da63716d2c5d"
  },
  {
   "cell_type": "code",
   "execution_count": 69,
   "outputs": [],
   "source": [
    "# EINGABEWERTE für Verteilung\n",
    "mu = 13\n",
    "sig = 1\n",
    "\n",
    "# EINGABEWERTE Kennwerte\n",
    "quantil = 0.035\n",
    "\n",
    "# EINGABEWERTE Wahrscheinlichkeiten\n",
    "x = 12\n",
    "\n",
    "x_oben = 15\n",
    "x_unten = 11"
   ],
   "metadata": {
    "collapsed": false,
    "ExecuteTime": {
     "end_time": "2024-01-28T18:22:52.668891800Z",
     "start_time": "2024-01-28T18:22:52.453689800Z"
    }
   },
   "id": "7efb4c5b8c7623b0"
  },
  {
   "cell_type": "code",
   "execution_count": 70,
   "outputs": [],
   "source": [
    "X = norm(loc=mu,scale=sig)"
   ],
   "metadata": {
    "collapsed": false,
    "ExecuteTime": {
     "end_time": "2024-01-28T18:22:52.668891800Z",
     "start_time": "2024-01-28T18:22:52.465521100Z"
    }
   },
   "id": "80beaad3ef285814"
  },
  {
   "cell_type": "code",
   "execution_count": 71,
   "outputs": [
    {
     "name": "stdout",
     "output_type": "stream",
     "text": [
      "Erwartungswert = 13.0\n"
     ]
    }
   ],
   "source": [
    "# Erwartungswert\n",
    "mean = X.mean()\n",
    "print('Erwartungswert = ' + value_rounded_str(mean))"
   ],
   "metadata": {
    "collapsed": false,
    "ExecuteTime": {
     "end_time": "2024-01-28T18:22:52.668891800Z",
     "start_time": "2024-01-28T18:22:52.480680500Z"
    }
   },
   "id": "a0c82e9c5bbf9697"
  },
  {
   "cell_type": "code",
   "execution_count": 72,
   "outputs": [
    {
     "name": "stdout",
     "output_type": "stream",
     "text": [
      "Varianz = 1.0\n"
     ]
    }
   ],
   "source": [
    "# Varianz\n",
    "var = X.var()\n",
    "print('Varianz = ' + value_rounded_str(var))"
   ],
   "metadata": {
    "collapsed": false,
    "ExecuteTime": {
     "end_time": "2024-01-28T18:22:52.668891800Z",
     "start_time": "2024-01-28T18:22:52.499743600Z"
    }
   },
   "id": "847bf7c6ce08a8b4"
  },
  {
   "cell_type": "code",
   "execution_count": 73,
   "outputs": [
    {
     "name": "stdout",
     "output_type": "stream",
     "text": [
      "Standardabweichung = 1.0\n"
     ]
    }
   ],
   "source": [
    "# Standardabweichung\n",
    "sigma = X.std()\n",
    "print('Standardabweichung = ' + value_rounded_str(sigma))"
   ],
   "metadata": {
    "collapsed": false,
    "ExecuteTime": {
     "end_time": "2024-01-28T18:22:52.668891800Z",
     "start_time": "2024-01-28T18:22:52.512250400Z"
    }
   },
   "id": "ba079e0e5c387d30"
  },
  {
   "cell_type": "code",
   "execution_count": 74,
   "outputs": [
    {
     "name": "stdout",
     "output_type": "stream",
     "text": [
      "0.035-Quantil = 11.1881\n"
     ]
    }
   ],
   "source": [
    "# Quantil\n",
    "quant = X.ppf(quantil)\n",
    "print(str(quantil) + \"-Quantil = \" + value_rounded_str(quant))"
   ],
   "metadata": {
    "collapsed": false,
    "ExecuteTime": {
     "end_time": "2024-01-28T18:22:52.668891800Z",
     "start_time": "2024-01-28T18:22:52.527405200Z"
    }
   },
   "id": "9e4eb290d417321e"
  },
  {
   "cell_type": "code",
   "execution_count": 75,
   "outputs": [
    {
     "name": "stdout",
     "output_type": "stream",
     "text": [
      "P(X<=12) = 0.1587\n",
      "1 - P(X<=12) = 0.8413\n"
     ]
    }
   ],
   "source": [
    "# Wahrscheinlichkeit P(X<=x)\n",
    "p_kleinergleich = X.cdf(x) \n",
    "print(\"P(X<=\" + str(x) + \") = \" + value_rounded_str(p_kleinergleich))\n",
    "print(\"1 - P(X<=\" + str(x) + \") = \" + value_rounded_str(1 - p_kleinergleich))"
   ],
   "metadata": {
    "collapsed": false,
    "ExecuteTime": {
     "end_time": "2024-01-28T18:22:52.668891800Z",
     "start_time": "2024-01-28T18:22:52.543089600Z"
    }
   },
   "id": "94207567d1d4c5fa"
  },
  {
   "cell_type": "code",
   "execution_count": 76,
   "outputs": [
    {
     "name": "stdout",
     "output_type": "stream",
     "text": [
      "P(X>=12) = 0.8413\n",
      "1 - P(X>=12) = 0.1587\n"
     ]
    }
   ],
   "source": [
    "# Wahrscheinlichkeit P(X>=x)\n",
    "p_groessergleich = X.sf(x) \n",
    "print(\"P(X>=\" + str(x) + \") = \" + value_rounded_str(p_groessergleich))\n",
    "print(\"1 - P(X>=\" + str(x) + \") = \" + value_rounded_str(1 - p_groessergleich))"
   ],
   "metadata": {
    "collapsed": false,
    "ExecuteTime": {
     "end_time": "2024-01-28T18:22:52.668891800Z",
     "start_time": "2024-01-28T18:22:52.548391200Z"
    }
   },
   "id": "77c8785198e04fc1"
  },
  {
   "cell_type": "code",
   "execution_count": 77,
   "outputs": [
    {
     "name": "stdout",
     "output_type": "stream",
     "text": [
      "P(X<=15) = 0.9772\n",
      "P(X<=11) = 0.0228\n",
      "P(11<=X<=15) = 0.9545\n"
     ]
    }
   ],
   "source": [
    "# Wahrscheinlichkeit P(x_unten<=X<=x_oben)\n",
    "p_kleinergleich_oben = X.cdf(x_oben)\n",
    "p_kleinergleich_unten = X.cdf(x_unten) \n",
    "print(\"P(X<=\" + str(x_oben) + \") = \" + value_rounded_str(p_kleinergleich_oben))\n",
    "print(\"P(X<=\" + str(x_unten) + \") = \" + value_rounded_str(p_kleinergleich_unten))\n",
    "print(\"P(\" + str(x_unten) + \"<=X<=\" + str(x_oben) + \") = \" + value_rounded_str(p_kleinergleich_oben - p_kleinergleich_unten))"
   ],
   "metadata": {
    "collapsed": false,
    "ExecuteTime": {
     "end_time": "2024-01-28T18:22:52.668891800Z",
     "start_time": "2024-01-28T18:22:52.562881400Z"
    }
   },
   "id": "d30e3060a004406c"
  }
 ],
 "metadata": {
  "kernelspec": {
   "display_name": "Python 3",
   "language": "python",
   "name": "python3"
  },
  "language_info": {
   "codemirror_mode": {
    "name": "ipython",
    "version": 2
   },
   "file_extension": ".py",
   "mimetype": "text/x-python",
   "name": "python",
   "nbconvert_exporter": "python",
   "pygments_lexer": "ipython2",
   "version": "2.7.6"
  }
 },
 "nbformat": 4,
 "nbformat_minor": 5
}
