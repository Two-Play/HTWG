{
 "cells": [
  {
   "cell_type": "code",
   "execution_count": 13,
   "id": "initial_id",
   "metadata": {
    "collapsed": true,
    "ExecuteTime": {
     "end_time": "2024-01-25T09:31:53.821835Z",
     "start_time": "2024-01-25T09:31:53.818071Z"
    }
   },
   "outputs": [],
   "source": [
    "import numpy as np\n"
   ]
  },
  {
   "cell_type": "code",
   "outputs": [
    {
     "name": "stdout",
     "output_type": "stream",
     "text": [
      "Modalwert: 150.0\n",
      "Arithmetisches Mittel: 175.625\n",
      "25% Qunatil: 128.75\n",
      "50% Qunatil: 150.0\n",
      "75% Qunatil: 250.0\n",
      "95.0% Qunatil: 250.0\n",
      "Emp. Standardabweichung: 59.447324372085916\n",
      "Interquartilsabstand (75-25): 121.25\n",
      "Varianz: 3533.984375\n",
      "Schätzung der wahren Varianz: 4038.839285714286\n",
      "Schätzung des wahren Mittelwerts: 134.4301059368397\n"
     ]
    }
   ],
   "source": [
    "# univariate data preparation\n",
    "list = [125,100,130,150,150,250,250,250]\n",
    "\n",
    "# modalwert\n",
    "print(\"Modalwert:\", np.median(list))\n",
    "\n",
    "# arithmetisches mittel\n",
    "print(\"Arithmetisches Mittel:\", np.mean(list))\n",
    "\n",
    "# quantile\n",
    "print(\"25% Qunatil:\", np.quantile(list, 0.25))\n",
    "print(\"50% Qunatil:\", np.quantile(list, 0.5))\n",
    "print(\"75% Qunatil:\", np.quantile(list, 0.75))\n",
    "n = 0.95\n",
    "print( str(n*100) + \"% Qunatil:\", np.quantile(list, n))\n",
    "\n",
    "# empirische standardabweichung\n",
    "print(\"Emp. Standardabweichung:\", np.std(list))\n",
    "\n",
    "#interquartilsabstand\n",
    "print(\"Interquartilsabstand (75-25):\", np.quantile(list, 0.75) - np.quantile(list, 0.25))\n",
    "\n",
    "# wahre Varianz\n",
    "print(\"Varianz:\", np.var(list))\n",
    "\n",
    "\n",
    "# schätzung der wahren Varianz\n",
    "print(\"Schätzung der wahren Varianz:\", np.var(list, ddof=1))\n",
    "\n",
    "# wahren mittelwert schätzen\n",
    "print(\"Schätzung des wahren Mittelwerts:\", np.mean(list) - 1.96 * np.std(list) / np.sqrt(len(list)))\n"
   ],
   "metadata": {
    "collapsed": false,
    "ExecuteTime": {
     "end_time": "2024-01-25T09:31:53.832947Z",
     "start_time": "2024-01-25T09:31:53.825234Z"
    }
   },
   "id": "7a2ccbf80ff78753",
   "execution_count": 14
  }
 ],
 "metadata": {
  "kernelspec": {
   "display_name": "Python 3",
   "language": "python",
   "name": "python3"
  },
  "language_info": {
   "codemirror_mode": {
    "name": "ipython",
    "version": 2
   },
   "file_extension": ".py",
   "mimetype": "text/x-python",
   "name": "python",
   "nbconvert_exporter": "python",
   "pygments_lexer": "ipython2",
   "version": "2.7.6"
  }
 },
 "nbformat": 4,
 "nbformat_minor": 5
}
