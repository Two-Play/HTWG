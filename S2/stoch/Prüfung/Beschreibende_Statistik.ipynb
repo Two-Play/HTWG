{
 "cells": [
  {
   "cell_type": "code",
   "execution_count": 1,
   "id": "initial_id",
   "metadata": {
    "collapsed": true,
    "ExecuteTime": {
     "end_time": "2024-01-26T08:58:13.659150Z",
     "start_time": "2024-01-26T08:58:13.172041Z"
    }
   },
   "outputs": [],
   "source": [
    "import statistics\n",
    "import numpy as np\n",
    "import matplotlib.pyplot as plt"
   ]
  },
  {
   "cell_type": "code",
   "execution_count": 2,
   "outputs": [],
   "source": [
    "def value_rounded_str(value):\n",
    "    val = str(np.round(value,4))\n",
    "    return val"
   ],
   "metadata": {
    "collapsed": false,
    "ExecuteTime": {
     "end_time": "2024-01-26T08:58:13.662840Z",
     "start_time": "2024-01-26T08:58:13.660079Z"
    }
   },
   "id": "b01e3544156ff3dc"
  },
  {
   "cell_type": "code",
   "execution_count": 3,
   "outputs": [],
   "source": [
    "# Data\n",
    "data1 = np.array([\n",
    "    [62, 47, 15, 37, 53, 56, 93]\n",
    "])\n",
    "\n",
    "data2 = np.array([\n",
    "    [25,17,25,29,20,15,11]\n",
    "])"
   ],
   "metadata": {
    "collapsed": false,
    "ExecuteTime": {
     "end_time": "2024-01-26T08:58:13.666694Z",
     "start_time": "2024-01-26T08:58:13.662382Z"
    }
   },
   "id": "628887839ee111f5"
  },
  {
   "cell_type": "code",
   "execution_count": 4,
   "outputs": [
    {
     "name": "stdout",
     "output_type": "stream",
     "text": [
      "Modalwert: [62, 47, 15, 37, 53, 56, 93]\n"
     ]
    }
   ],
   "source": [
    "# Modalwert\n",
    "modal = statistics.multimode(data1[0,:])\n",
    "print(\"Modalwert: \" + str(modal))"
   ],
   "metadata": {
    "collapsed": false,
    "ExecuteTime": {
     "end_time": "2024-01-26T08:58:13.667155Z",
     "start_time": "2024-01-26T08:58:13.665029Z"
    }
   },
   "id": "ff29c910bcf7891"
  },
  {
   "cell_type": "code",
   "execution_count": 5,
   "outputs": [
    {
     "name": "stdout",
     "output_type": "stream",
     "text": [
      "Arithmetisches Mittel: 51.8571\n"
     ]
    }
   ],
   "source": [
    "# Arithmetisches Mittel\n",
    "mean = np.mean(data1[0,:])\n",
    "print(\"Arithmetisches Mittel: \" + value_rounded_str(mean))"
   ],
   "metadata": {
    "collapsed": false,
    "ExecuteTime": {
     "end_time": "2024-01-26T08:58:13.670633Z",
     "start_time": "2024-01-26T08:58:13.668317Z"
    }
   },
   "id": "a7efe00414e21a04"
  },
  {
   "cell_type": "code",
   "execution_count": 6,
   "outputs": [
    {
     "name": "stdout",
     "output_type": "stream",
     "text": [
      "Median: 53.0\n"
     ]
    }
   ],
   "source": [
    "# Median\n",
    "mean = np.median(data1[0,:])\n",
    "print(\"Median: \" + value_rounded_str(mean))"
   ],
   "metadata": {
    "collapsed": false,
    "ExecuteTime": {
     "end_time": "2024-01-26T08:58:13.674149Z",
     "start_time": "2024-01-26T08:58:13.670746Z"
    }
   },
   "id": "7431d9e44a39d552"
  },
  {
   "cell_type": "code",
   "execution_count": 7,
   "outputs": [
    {
     "name": "stdout",
     "output_type": "stream",
     "text": [
      "25%-Quantil: 42.0\n",
      "50%-Quantil: 53.0\n",
      "75%-Quantil: 59.0\n"
     ]
    }
   ],
   "source": [
    "# Quartile\n",
    "quantile_025 = np.quantile(data1[0,:], 0.25)\n",
    "quantile_050 = np.quantile(data1[0,:], 0.50)\n",
    "quantile_075 = np.quantile(data1[0,:], 0.75)\n",
    "print(\"25%-Quantil: \" + value_rounded_str(quantile_025))\n",
    "print(\"50%-Quantil: \" + value_rounded_str(quantile_050))\n",
    "print(\"75%-Quantil: \" + value_rounded_str(quantile_075))"
   ],
   "metadata": {
    "collapsed": false,
    "ExecuteTime": {
     "end_time": "2024-01-26T08:58:13.677669Z",
     "start_time": "2024-01-26T08:58:13.674923Z"
    }
   },
   "id": "20ada36f9881d480"
  },
  {
   "cell_type": "code",
   "execution_count": 8,
   "outputs": [
    {
     "name": "stdout",
     "output_type": "stream",
     "text": [
      "Interquartilsabstand: 17.0\n"
     ]
    }
   ],
   "source": [
    "# Interquartilsabstand\n",
    "iqr = quantile_075 - quantile_025\n",
    "print(\"Interquartilsabstand: \" + value_rounded_str(iqr))"
   ],
   "metadata": {
    "collapsed": false,
    "ExecuteTime": {
     "end_time": "2024-01-26T08:58:13.681308Z",
     "start_time": "2024-01-26T08:58:13.677521Z"
    }
   },
   "id": "1e4dd1f8e93d711a"
  },
  {
   "cell_type": "code",
   "execution_count": 9,
   "outputs": [
    {
     "name": "stdout",
     "output_type": "stream",
     "text": [
      "90.0%-Quantil: 74.4\n"
     ]
    }
   ],
   "source": [
    "# Spez. Quantil\n",
    "p_quantile = 0.9\n",
    "quantile_spec = np.quantile(data1[0,:], p_quantile)\n",
    "print(str(p_quantile * 100)+ \"%-Quantil: \" + value_rounded_str(quantile_spec))"
   ],
   "metadata": {
    "collapsed": false,
    "ExecuteTime": {
     "end_time": "2024-01-26T08:58:13.720545Z",
     "start_time": "2024-01-26T08:58:13.679959Z"
    }
   },
   "id": "489d73c5b2a12164"
  },
  {
   "cell_type": "code",
   "execution_count": 10,
   "outputs": [
    {
     "name": "stdout",
     "output_type": "stream",
     "text": [
      "Min: 93\n",
      "Max: 15\n",
      "Spannweite: 78\n"
     ]
    }
   ],
   "source": [
    "# Spannweite\n",
    "max_value = np.max(data1[0,:])\n",
    "min_value = np.min(data1[0,:])\n",
    "spannweite = max_value - min_value\n",
    "print(\"Min: \" + value_rounded_str(max_value))\n",
    "print(\"Max: \" + value_rounded_str(min_value))\n",
    "print(\"Spannweite: \" + value_rounded_str(spannweite))"
   ],
   "metadata": {
    "collapsed": false,
    "ExecuteTime": {
     "end_time": "2024-01-26T08:58:13.720943Z",
     "start_time": "2024-01-26T08:58:13.682689Z"
    }
   },
   "id": "4dac0c7c906a9574"
  },
  {
   "cell_type": "code",
   "execution_count": 11,
   "outputs": [
    {
     "name": "stdout",
     "output_type": "stream",
     "text": [
      "Varianz: 569.4762\n"
     ]
    }
   ],
   "source": [
    "# Varianz\n",
    "var = np.var(data1[0,:],ddof=1)\n",
    "print(\"Varianz: \" + value_rounded_str(var))"
   ],
   "metadata": {
    "collapsed": false,
    "ExecuteTime": {
     "end_time": "2024-01-26T08:58:13.721178Z",
     "start_time": "2024-01-26T08:58:13.685017Z"
    }
   },
   "id": "bae07e8aac1c4dad"
  },
  {
   "cell_type": "code",
   "execution_count": 12,
   "outputs": [
    {
     "name": "stdout",
     "output_type": "stream",
     "text": [
      "Empirische Standardabweichung: 23.8637\n"
     ]
    }
   ],
   "source": [
    "# Empirische Standardabweichung\n",
    "std = np.std(data1[0,:],ddof=1)\n",
    "print(\"Empirische Standardabweichung: \" + value_rounded_str(std))"
   ],
   "metadata": {
    "collapsed": false,
    "ExecuteTime": {
     "end_time": "2024-01-26T08:58:13.721399Z",
     "start_time": "2024-01-26T08:58:13.687784Z"
    }
   },
   "id": "172135067a5e87e5"
  }
 ],
 "metadata": {
  "kernelspec": {
   "display_name": "Python 3",
   "language": "python",
   "name": "python3"
  },
  "language_info": {
   "codemirror_mode": {
    "name": "ipython",
    "version": 2
   },
   "file_extension": ".py",
   "mimetype": "text/x-python",
   "name": "python",
   "nbconvert_exporter": "python",
   "pygments_lexer": "ipython2",
   "version": "2.7.6"
  }
 },
 "nbformat": 4,
 "nbformat_minor": 5
}
