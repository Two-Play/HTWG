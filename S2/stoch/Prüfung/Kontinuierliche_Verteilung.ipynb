{
 "cells": [
  {
   "cell_type": "code",
   "execution_count": 37,
   "id": "initial_id",
   "metadata": {
    "collapsed": true,
    "ExecuteTime": {
     "end_time": "2024-01-26T13:06:34.442732800Z",
     "start_time": "2024-01-26T13:06:34.380404Z"
    }
   },
   "outputs": [],
   "source": [
    "import math\n",
    "import numpy as np\n",
    "from sympy import symbols, integrate, simplify, Rational\n",
    "from IPython.display import display"
   ]
  },
  {
   "cell_type": "code",
   "execution_count": 38,
   "outputs": [],
   "source": [
    "def value_rounded_str(value):\n",
    "    val = str(np.round(value,4))\n",
    "    return val"
   ],
   "metadata": {
    "collapsed": false,
    "ExecuteTime": {
     "end_time": "2024-01-26T13:06:34.541122100Z",
     "start_time": "2024-01-26T13:06:34.393562500Z"
    }
   },
   "id": "5e2e0456e6119e8d"
  },
  {
   "cell_type": "code",
   "execution_count": 39,
   "outputs": [],
   "source": [
    "x = symbols(\"x\")"
   ],
   "metadata": {
    "collapsed": false,
    "ExecuteTime": {
     "end_time": "2024-01-26T13:06:34.542126800Z",
     "start_time": "2024-01-26T13:06:34.404761200Z"
    }
   },
   "id": "e0ede5e7cb8c47a5"
  },
  {
   "cell_type": "code",
   "execution_count": 40,
   "outputs": [],
   "source": [
    "#### EINGABEWERTE\n",
    "\n",
    "# Funktion\n",
    "f = Rational(1,20) * ((2 * x)-1)\n",
    "\n",
    "# Grenzen\n",
    "\n",
    "lower_bound = 1 # bei Brüchen Rational(5,2)\n",
    "upper_bound = 5 # bei Brüchen Rational(5,2)"
   ],
   "metadata": {
    "collapsed": false,
    "ExecuteTime": {
     "end_time": "2024-01-26T13:06:34.542126800Z",
     "start_time": "2024-01-26T13:06:34.417572200Z"
    }
   },
   "id": "796f74ee7a6cbb1f"
  },
  {
   "cell_type": "code",
   "execution_count": 41,
   "outputs": [
    {
     "name": "stdout",
     "output_type": "stream",
     "text": [
      "Funktion f (Dichtefunktion) = \n"
     ]
    },
    {
     "data": {
      "text/plain": "x/10 - 1/20",
      "text/latex": "$\\displaystyle \\frac{x}{10} - \\frac{1}{20}$"
     },
     "metadata": {},
     "output_type": "display_data"
    }
   ],
   "source": [
    "print(\"Funktion f (Dichtefunktion) = \")\n",
    "display(simplify(f))"
   ],
   "metadata": {
    "collapsed": false,
    "ExecuteTime": {
     "end_time": "2024-01-26T13:06:34.545125700Z",
     "start_time": "2024-01-26T13:06:34.427090200Z"
    }
   },
   "id": "b1400c77b940b821"
  },
  {
   "cell_type": "code",
   "execution_count": 42,
   "outputs": [
    {
     "name": "stdout",
     "output_type": "stream",
     "text": [
      "Stammfunktion F (Verteilungsfunktion) der Dichtefunktion f: \n"
     ]
    },
    {
     "data": {
      "text/plain": "x/10 - 1/20",
      "text/latex": "$\\displaystyle \\frac{x}{10} - \\frac{1}{20}$"
     },
     "metadata": {},
     "output_type": "display_data"
    },
    {
     "name": "stdout",
     "output_type": "stream",
     "text": [
      "=\n"
     ]
    },
    {
     "data": {
      "text/plain": "x*(x - 1)/20",
      "text/latex": "$\\displaystyle \\frac{x \\left(x - 1\\right)}{20}$"
     },
     "metadata": {},
     "output_type": "display_data"
    }
   ],
   "source": [
    "# Stammfunktion\n",
    "\n",
    "F_y = integrate(f, x)\n",
    "#F_y = Rational(1,2) * x - Rational(5,4)\n",
    "print(\"Stammfunktion F (Verteilungsfunktion) der Dichtefunktion f: \")\n",
    "display(simplify(f))\n",
    "print(\"=\")\n",
    "display(simplify(F_y))"
   ],
   "metadata": {
    "collapsed": false,
    "ExecuteTime": {
     "end_time": "2024-01-26T13:06:34.567995800Z",
     "start_time": "2024-01-26T13:06:34.458652600Z"
    }
   },
   "id": "5c9aa06ae5cd70"
  },
  {
   "cell_type": "code",
   "execution_count": 43,
   "outputs": [
    {
     "name": "stdout",
     "output_type": "stream",
     "text": [
      "Erwartungswert =  53/15 bzw. 53/15\n"
     ]
    }
   ],
   "source": [
    "# Erwartungswert\n",
    "\n",
    "mean_f = x * f\n",
    "F_mean_f = integrate(mean_f, x)\n",
    "E = F_mean_f.subs(x, upper_bound) - F_mean_f.subs(x, lower_bound)\n",
    "print(\"Erwartungswert = \", Rational(E), \"bzw.\", E)"
   ],
   "metadata": {
    "collapsed": false,
    "ExecuteTime": {
     "end_time": "2024-01-26T13:06:34.567995800Z",
     "start_time": "2024-01-26T13:06:34.533582800Z"
    }
   },
   "id": "5089e0c2c4aa3ff6"
  },
  {
   "cell_type": "code",
   "execution_count": 44,
   "outputs": [
    {
     "name": "stdout",
     "output_type": "stream",
     "text": [
      "Stammfunktion von\n"
     ]
    },
    {
     "data": {
      "text/plain": "x**2*(2*x - 1)/20",
      "text/latex": "$\\displaystyle \\frac{x^{2} \\cdot \\left(2 x - 1\\right)}{20}$"
     },
     "metadata": {},
     "output_type": "display_data"
    },
    {
     "name": "stdout",
     "output_type": "stream",
     "text": [
      "=\n"
     ]
    },
    {
     "data": {
      "text/plain": "x**3*(3*x - 2)/120",
      "text/latex": "$\\displaystyle \\frac{x^{3} \\cdot \\left(3 x - 2\\right)}{120}$"
     },
     "metadata": {},
     "output_type": "display_data"
    },
    {
     "name": "stdout",
     "output_type": "stream",
     "text": [
      "E(x**2) =  203/15 bzw. 203/15\n",
      "E(x)**2 =  2809/225 bzw. 2809/225\n",
      "Varianz = E(x**2) - E(x)**2 =  236/225 bzw. 236/225\n"
     ]
    }
   ],
   "source": [
    "# Varianz\n",
    "f_x2 = (x**2) * f\n",
    "F_x2 = integrate(f_x2, x)\n",
    "print(\"Stammfunktion von\")\n",
    "display(simplify(f_x2))\n",
    "print(\"=\")\n",
    "display(simplify(F_x2))\n",
    "\n",
    "E_x2 = F_x2.subs(x, upper_bound) - F_x2.subs(x, lower_bound)\n",
    "\n",
    "E_2 = E**2\n",
    "var = E_x2 - E_2\n",
    "print(\"E(x**2) = \", Rational(E_x2), \"bzw.\", E_x2)\n",
    "print(\"E(x)**2 = \", Rational(E_2), \"bzw.\", E_2)\n",
    "print(\"Varianz = E(x**2) - E(x)**2 = \", Rational(var), \"bzw.\", var)"
   ],
   "metadata": {
    "collapsed": false,
    "ExecuteTime": {
     "end_time": "2024-01-26T13:06:34.786624Z",
     "start_time": "2024-01-26T13:06:34.583615600Z"
    }
   },
   "id": "92cdad0ee8d6c966"
  },
  {
   "cell_type": "code",
   "execution_count": 45,
   "outputs": [
    {
     "name": "stdout",
     "output_type": "stream",
     "text": [
      "Standardabweichung = sqrt(var) =  1.0242 bzw. 4612374017050605/4503599627370496\n"
     ]
    }
   ],
   "source": [
    "# Standardabweichung\n",
    "\n",
    "sigma_x = math.sqrt(var)\n",
    "print(\"Standardabweichung = sqrt(var) = \", value_rounded_str(sigma_x), \"bzw.\", Rational(sigma_x))"
   ],
   "metadata": {
    "collapsed": false,
    "ExecuteTime": {
     "end_time": "2024-01-26T13:06:34.786624Z",
     "start_time": "2024-01-26T13:06:34.634168700Z"
    }
   },
   "id": "c61c0279692ea313"
  }
 ],
 "metadata": {
  "kernelspec": {
   "display_name": "Python 3",
   "language": "python",
   "name": "python3"
  },
  "language_info": {
   "codemirror_mode": {
    "name": "ipython",
    "version": 2
   },
   "file_extension": ".py",
   "mimetype": "text/x-python",
   "name": "python",
   "nbconvert_exporter": "python",
   "pygments_lexer": "ipython2",
   "version": "2.7.6"
  }
 },
 "nbformat": 4,
 "nbformat_minor": 5
}
