{
 "cells": [
  {
   "cell_type": "code",
   "execution_count": 20,
   "id": "initial_id",
   "metadata": {
    "collapsed": true,
    "ExecuteTime": {
     "end_time": "2024-01-25T15:24:13.639746Z",
     "start_time": "2024-01-25T15:24:13.542238500Z"
    }
   },
   "outputs": [],
   "source": [
    "import math\n",
    "import numpy as np\n",
    "from scipy import special"
   ]
  },
  {
   "cell_type": "code",
   "execution_count": 21,
   "outputs": [],
   "source": [
    "def value_rounded_str(value):\n",
    "    val = str(np.round(value,4))\n",
    "    return val"
   ],
   "metadata": {
    "collapsed": false,
    "ExecuteTime": {
     "end_time": "2024-01-25T15:24:13.737597300Z",
     "start_time": "2024-01-25T15:24:13.595404900Z"
    }
   },
   "id": "b1e69cad64013323"
  },
  {
   "cell_type": "code",
   "execution_count": 22,
   "outputs": [],
   "source": [
    "# Input\n",
    "n = 10\n",
    "k = 1"
   ],
   "metadata": {
    "collapsed": false,
    "ExecuteTime": {
     "end_time": "2024-01-25T15:24:13.737597300Z",
     "start_time": "2024-01-25T15:24:13.611370700Z"
    }
   },
   "id": "3f5303409aafea09"
  },
  {
   "cell_type": "code",
   "execution_count": 23,
   "outputs": [
    {
     "name": "stdout",
     "output_type": "stream",
     "text": [
      "Permutation ohne Wiederholung: 3628800\n"
     ]
    }
   ],
   "source": [
    "# Permutation ohne Wiederholung\n",
    "powi = math.factorial(n)\n",
    "print(\"Permutation ohne Wiederholung: \" + value_rounded_str(powi))"
   ],
   "metadata": {
    "collapsed": false,
    "ExecuteTime": {
     "end_time": "2024-01-25T15:24:13.737597300Z",
     "start_time": "2024-01-25T15:24:13.627913400Z"
    }
   },
   "id": "75a334f08474998b"
  },
  {
   "cell_type": "code",
   "execution_count": 24,
   "outputs": [
    {
     "name": "stdout",
     "output_type": "stream",
     "text": [
      "Variation ohne Wiederholung: 10.0\n"
     ]
    }
   ],
   "source": [
    "# Variation ohne Wiederholung\n",
    "vow = math.factorial(n) / math.factorial(n - k)\n",
    "print(\"Variation ohne Wiederholung: \" + value_rounded_str(vow))"
   ],
   "metadata": {
    "collapsed": false,
    "ExecuteTime": {
     "end_time": "2024-01-25T15:24:13.737597300Z",
     "start_time": "2024-01-25T15:24:13.642775200Z"
    }
   },
   "id": "dd08d753952662bb"
  },
  {
   "cell_type": "code",
   "execution_count": 25,
   "outputs": [
    {
     "name": "stdout",
     "output_type": "stream",
     "text": [
      "Variation mit Wiederholung: 10.0\n"
     ]
    }
   ],
   "source": [
    "# Variation mit Wiederholung\n",
    "vmw = math.pow(n, k)\n",
    "print(\"Variation mit Wiederholung: \" + value_rounded_str(vmw))"
   ],
   "metadata": {
    "collapsed": false,
    "ExecuteTime": {
     "end_time": "2024-01-25T15:24:13.737597300Z",
     "start_time": "2024-01-25T15:24:13.658470500Z"
    }
   },
   "id": "1da534f65ab12c2f"
  },
  {
   "cell_type": "code",
   "execution_count": 26,
   "outputs": [
    {
     "name": "stdout",
     "output_type": "stream",
     "text": [
      "Kombination ohne Wiederholung: 10.0\n"
     ]
    }
   ],
   "source": [
    "# Kombination ohne Wiederholung\n",
    "kow = special.binom(n, k)\n",
    "print(\"Kombination ohne Wiederholung: \" + value_rounded_str(kow))"
   ],
   "metadata": {
    "collapsed": false,
    "ExecuteTime": {
     "end_time": "2024-01-25T15:24:13.737597300Z",
     "start_time": "2024-01-25T15:24:13.674520400Z"
    }
   },
   "id": "a220731ba0e504b8"
  },
  {
   "cell_type": "code",
   "execution_count": 27,
   "outputs": [
    {
     "name": "stdout",
     "output_type": "stream",
     "text": [
      "Kombination ohne Wiederholung: 10.0\n"
     ]
    }
   ],
   "source": [
    "# Kombination mit Wiederholung\n",
    "kmw = special.binom(n+k-1, k)\n",
    "print(\"Kombination ohne Wiederholung: \" + value_rounded_str(kmw))"
   ],
   "metadata": {
    "collapsed": false,
    "ExecuteTime": {
     "end_time": "2024-01-25T15:24:13.737597300Z",
     "start_time": "2024-01-25T15:24:13.690441100Z"
    }
   },
   "id": "57adf66c336bae2d"
  },
  {
   "cell_type": "code",
   "execution_count": null,
   "outputs": [],
   "source": [],
   "metadata": {
    "collapsed": false
   },
   "id": "a4b276aa74f248a9"
  }
 ],
 "metadata": {
  "kernelspec": {
   "display_name": "Python 3",
   "language": "python",
   "name": "python3"
  },
  "language_info": {
   "codemirror_mode": {
    "name": "ipython",
    "version": 2
   },
   "file_extension": ".py",
   "mimetype": "text/x-python",
   "name": "python",
   "nbconvert_exporter": "python",
   "pygments_lexer": "ipython2",
   "version": "2.7.6"
  }
 },
 "nbformat": 4,
 "nbformat_minor": 5
}
