{
 "cells": [
  {
   "cell_type": "markdown",
   "source": [
    "GEOMETRISCHE VERTEILUNG:\n",
    "\n",
    "    \"Wie viele Versuche, bis Erfolg eintritt.\"\n",
    "    X ~ geom(p)\n",
    "    Parameter: n - Anzahl der Versuche\n",
    "               p - Wahrscheinlichkeit fuer Erfolg"
   ],
   "metadata": {
    "collapsed": false
   },
   "id": "4dda67b4225b376e"
  },
  {
   "cell_type": "markdown",
   "source": [
    "Beispiele:\n",
    "\n",
    "P_Xgleich2 = X.pmf(2)\n",
    "print('P_Xgleich2 =' + myprint(P_Xgleich2))\n",
    "\n",
    "P_Xkleinergleich4 = X.cdf(4)\n",
    "print('P_Xkleinergleich4 =' + myprint(P_Xkleinergleich4))\n",
    "\n",
    "P_Xgroesser4 = 1 - P_Xkleinergleich4\n",
    "print('P_Xgroesser4 =' + myprint(P_Xgroesser4))\n",
    "\n",
    "E_X = X.mean()\n",
    "print('E_X = ' + myprint(E_X))\n",
    "\n",
    "Var_X = X.var()\n",
    "print('Var_X = ' + myprint(Var_X))"
   ],
   "metadata": {
    "collapsed": false
   },
   "id": "6509f1fa2a70e27e"
  },
  {
   "cell_type": "code",
   "execution_count": 206,
   "outputs": [],
   "source": [
    "import math\n",
    "import numpy as np\n",
    "from scipy.stats import geom"
   ],
   "metadata": {
    "collapsed": false,
    "ExecuteTime": {
     "end_time": "2024-01-28T20:25:55.089592Z",
     "start_time": "2024-01-28T20:25:55.082022Z"
    }
   },
   "id": "c8f8eee3efd9a0c4"
  },
  {
   "cell_type": "code",
   "execution_count": 207,
   "outputs": [],
   "source": [
    "def value_rounded_str(value):\n",
    "    val = str(np.round(value,4))\n",
    "    return val"
   ],
   "metadata": {
    "collapsed": false,
    "ExecuteTime": {
     "end_time": "2024-01-28T20:25:55.102906Z",
     "start_time": "2024-01-28T20:25:55.091640Z"
    }
   },
   "id": "a2352dd9d4bfea9a"
  },
  {
   "cell_type": "code",
   "execution_count": 208,
   "outputs": [],
   "source": [
    "# EINGABEWERTE für Verteilung\n",
    "p = 0.25\n",
    "\n",
    "# EINGABEWERTE Wahrscheinlichkeiten\n",
    "x = 2"
   ],
   "metadata": {
    "collapsed": false,
    "ExecuteTime": {
     "end_time": "2024-01-28T20:25:55.103182Z",
     "start_time": "2024-01-28T20:25:55.094874Z"
    }
   },
   "id": "25d1cae375c2388e"
  },
  {
   "cell_type": "code",
   "execution_count": 209,
   "outputs": [],
   "source": [
    "X = geom(p)"
   ],
   "metadata": {
    "collapsed": false,
    "ExecuteTime": {
     "end_time": "2024-01-28T20:25:55.103343Z",
     "start_time": "2024-01-28T20:25:55.097613Z"
    }
   },
   "id": "3770d4bf94414b6f"
  },
  {
   "cell_type": "code",
   "execution_count": 210,
   "outputs": [
    {
     "name": "stdout",
     "output_type": "stream",
     "text": [
      "Erwartungswert = 4.0\n"
     ]
    }
   ],
   "source": [
    "# Mittelwert\n",
    "mean = X.mean()\n",
    "print('Erwartungswert = ' + value_rounded_str(mean))"
   ],
   "metadata": {
    "collapsed": false,
    "ExecuteTime": {
     "end_time": "2024-01-28T20:25:55.112077Z",
     "start_time": "2024-01-28T20:25:55.105493Z"
    }
   },
   "id": "f3ee96f961d0cf21"
  },
  {
   "cell_type": "code",
   "execution_count": 211,
   "outputs": [
    {
     "name": "stdout",
     "output_type": "stream",
     "text": [
      "Varianz = 12.0\n"
     ]
    }
   ],
   "source": [
    "# Varianz\n",
    "var = X.var()\n",
    "print('Varianz = ' + value_rounded_str(var))"
   ],
   "metadata": {
    "collapsed": false,
    "ExecuteTime": {
     "end_time": "2024-01-28T20:25:55.112875Z",
     "start_time": "2024-01-28T20:25:55.108268Z"
    }
   },
   "id": "241088b2bab20f5b"
  },
  {
   "cell_type": "code",
   "execution_count": 212,
   "outputs": [
    {
     "name": "stdout",
     "output_type": "stream",
     "text": [
      "Standardabweichung = 3.4641\n"
     ]
    }
   ],
   "source": [
    "# Standardabweichung\n",
    "sigma = X.std()\n",
    "print('Standardabweichung = ' + value_rounded_str(sigma))"
   ],
   "metadata": {
    "collapsed": false,
    "ExecuteTime": {
     "end_time": "2024-01-28T20:25:55.113270Z",
     "start_time": "2024-01-28T20:25:55.111003Z"
    }
   },
   "id": "d16c79a489fc3a15"
  },
  {
   "cell_type": "code",
   "execution_count": 213,
   "outputs": [
    {
     "name": "stdout",
     "output_type": "stream",
     "text": [
      "P(X<=2) = 0.4375\n",
      "1 - P(X<=2) = 0.5625\n"
     ]
    }
   ],
   "source": [
    "# Wahrscheinlichkeit P(X<=x)\n",
    "p_kleinergleich = X.cdf(x) \n",
    "print(\"P(X<=\" + str(x) + \") = \" + value_rounded_str(p_kleinergleich))\n",
    "print(\"1 - P(X<=\" + str(x) + \") = \" + value_rounded_str(1 - p_kleinergleich))"
   ],
   "metadata": {
    "collapsed": false,
    "ExecuteTime": {
     "end_time": "2024-01-28T20:25:55.120143Z",
     "start_time": "2024-01-28T20:25:55.114371Z"
    }
   },
   "id": "47abad8357ceaeff"
  },
  {
   "cell_type": "code",
   "execution_count": 214,
   "outputs": [
    {
     "name": "stdout",
     "output_type": "stream",
     "text": [
      "P(X=2) = 0.1875\n",
      "1 - P(X=2) = 0.8125\n"
     ]
    }
   ],
   "source": [
    "# Wahrscheinlichkeit (P=X)\n",
    "p_gleich = X.pmf(x) \n",
    "print(\"P(X=\" + str(x) + \") = \" + value_rounded_str(p_gleich))\n",
    "print(\"1 - P(X=\" + str(x) + \") = \" + value_rounded_str(1 - p_gleich))"
   ],
   "metadata": {
    "collapsed": false,
    "ExecuteTime": {
     "end_time": "2024-01-28T20:25:55.120484Z",
     "start_time": "2024-01-28T20:25:55.116740Z"
    }
   },
   "id": "745f2d4d384d6861"
  },
  {
   "cell_type": "code",
   "outputs": [
    {
     "name": "stdout",
     "output_type": "stream",
     "text": [
      "P(X>2) = 0.75\n",
      "1 - P(X>2) = 0.25\n"
     ]
    }
   ],
   "source": [
    "# Wahrscheinlichkeit P(X>x)\n",
    "p_groesser = 1 - X.cdf(x - 1)\n",
    "print(\"P(X>\" + str(x) + \") = \" + value_rounded_str(p_groesser))\n",
    "print(\"1 - P(X>\" + str(x) + \") = \" + value_rounded_str(1 - p_groesser))"
   ],
   "metadata": {
    "collapsed": false,
    "ExecuteTime": {
     "end_time": "2024-01-28T20:25:55.121280Z",
     "start_time": "2024-01-28T20:25:55.119443Z"
    }
   },
   "id": "9eee21abc148fe2a",
   "execution_count": 215
  },
  {
   "cell_type": "code",
   "outputs": [],
   "source": [
    "\n"
   ],
   "metadata": {
    "collapsed": false,
    "ExecuteTime": {
     "end_time": "2024-01-28T20:25:55.126603Z",
     "start_time": "2024-01-28T20:25:55.121170Z"
    }
   },
   "id": "e4f0b875a26fc52b",
   "execution_count": 215
  }
 ],
 "metadata": {
  "kernelspec": {
   "display_name": "Python 3",
   "language": "python",
   "name": "python3"
  },
  "language_info": {
   "codemirror_mode": {
    "name": "ipython",
    "version": 2
   },
   "file_extension": ".py",
   "mimetype": "text/x-python",
   "name": "python",
   "nbconvert_exporter": "python",
   "pygments_lexer": "ipython2",
   "version": "2.7.6"
  }
 },
 "nbformat": 4,
 "nbformat_minor": 5
}
