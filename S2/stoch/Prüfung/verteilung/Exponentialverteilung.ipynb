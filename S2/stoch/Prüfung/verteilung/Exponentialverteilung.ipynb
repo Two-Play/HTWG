{
 "cells": [
  {
   "cell_type": "markdown",
   "source": [
    "EXPONENTIALVERTEILUNG:\n",
    "\n",
    "    \"Die Exponentialverteilung ist eine Wahrscheinlichkeitsverteilung zur Bestimmung zufälliger Zeitintervalle.\n",
    "    Sie wird meist für Warte- oder Ausfallzeiten verwendet, wie zum Beispiel die Länge eines Telefongesprächs,\n",
    "    den radioaktiven Zerfall von Atomen oder die Lebensdauer deines Handys.\"\n",
    "    Exp(lambda)\n",
    "    Parameter:\n",
    "            lambda: gegeben\n",
    "            x: gesuchter Wert\n",
    "    Beispiel:\n",
    "            Lebensdauer lambda = 0.001\n",
    "            wie wahrscheinlich ist es, dass das Gerät noch ein weiteres Jahr funktioniert. x = 365\n",
    "            expon.cdf(365, scale = 1/0.001) = 0.306\n",
    "            => Die Wahrscheinlichkeit, dass es noch funktioniert ist also bei fast 70 Prozent."
   ],
   "metadata": {
    "collapsed": false
   },
   "id": "6bc6fcf7175d39bd"
  },
  {
   "cell_type": "markdown",
   "source": [
    "P_Zkleinergleich175 = Z.cdf(175)\n",
    "print('P_Zkleinergleich175 = ' + myprint(P_Zkleinergleich175))\n",
    "\n",
    "P_Zgroessergleich180 = Z.sf(180)\n",
    "print('P_Zgroessergleich180 = ' + myprint(P_Zgroessergleich180))\n",
    "\n",
    "P_Zgroessergleich185 = Z.sf(185)\n",
    "print('P_Zgroessergleich185 = ' + myprint(P_Zgroessergleich185))\n",
    "\n",
    "Quant_Z95 = Z.ppf(0.95)\n",
    "print('Quant_Z95 = ' + myprint(Quant_Z95))\n",
    "\n",
    "Quant_Z90 = Z.ppf(0.90)\n",
    "print('Quant_Z90 = ' + myprint(Quant_Z90))\n",
    "\n",
    "E_Z = Z.mean()\n",
    "print('E_Z = ' + myprint(E_Z))\n",
    "\n",
    "std_Z = Z.std()\n",
    "print('std_Z = ' + myprint(std_Z))"
   ],
   "metadata": {
    "collapsed": false
   },
   "id": "7e7e855e38e27e49"
  },
  {
   "cell_type": "code",
   "execution_count": 40,
   "id": "initial_id",
   "metadata": {
    "collapsed": true,
    "ExecuteTime": {
     "end_time": "2024-01-17T11:29:02.481145Z",
     "start_time": "2024-01-17T11:29:02.217927200Z"
    }
   },
   "outputs": [],
   "source": [
    "import math\n",
    "import numpy as np\n",
    "from scipy.stats import expon"
   ]
  },
  {
   "cell_type": "code",
   "execution_count": 41,
   "outputs": [],
   "source": [
    "def value_rounded_str(value):\n",
    "    val = str(np.round(value,4))\n",
    "    return val"
   ],
   "metadata": {
    "collapsed": false,
    "ExecuteTime": {
     "end_time": "2024-01-17T11:29:02.598678200Z",
     "start_time": "2024-01-17T11:29:02.226642100Z"
    }
   },
   "id": "47d968e310533804"
  },
  {
   "cell_type": "code",
   "execution_count": 42,
   "outputs": [],
   "source": [
    "# EINGABEWERTE für Verteilung\n",
    "lamda = 18\n",
    "\n",
    "# EINGABEWERTE Kennwerte\n",
    "quantil = 0.75\n",
    "\n",
    "# EINGABEWERTE Wahrscheinlichkeiten\n",
    "x = 15"
   ],
   "metadata": {
    "collapsed": false,
    "ExecuteTime": {
     "end_time": "2024-01-17T11:29:02.601689900Z",
     "start_time": "2024-01-17T11:29:02.237189600Z"
    }
   },
   "id": "482b7699b03976ec"
  },
  {
   "cell_type": "code",
   "execution_count": 43,
   "outputs": [],
   "source": [
    "X = expon(loc=0,scale=1/lamda)"
   ],
   "metadata": {
    "collapsed": false,
    "ExecuteTime": {
     "end_time": "2024-01-17T11:29:02.630785400Z",
     "start_time": "2024-01-17T11:29:02.246720500Z"
    }
   },
   "id": "a454ffdd4a85d062"
  },
  {
   "cell_type": "code",
   "execution_count": 44,
   "outputs": [
    {
     "name": "stdout",
     "output_type": "stream",
     "text": [
      "Mittelwert = 0.0556\n"
     ]
    }
   ],
   "source": [
    "# Mittelwert\n",
    "mean = X.mean()\n",
    "print('Mittelwert = ' + value_rounded_str(mean))"
   ],
   "metadata": {
    "collapsed": false,
    "ExecuteTime": {
     "end_time": "2024-01-17T11:29:02.631785600Z",
     "start_time": "2024-01-17T11:29:02.257763300Z"
    }
   },
   "id": "ceb1fec2f6383d2a"
  },
  {
   "cell_type": "code",
   "execution_count": 45,
   "outputs": [
    {
     "name": "stdout",
     "output_type": "stream",
     "text": [
      "Varianz = 0.0031\n"
     ]
    }
   ],
   "source": [
    "# Varianz\n",
    "var = X.var()\n",
    "print('Varianz = ' + value_rounded_str(var))"
   ],
   "metadata": {
    "collapsed": false,
    "ExecuteTime": {
     "end_time": "2024-01-17T11:29:02.632784200Z",
     "start_time": "2024-01-17T11:29:02.267803900Z"
    }
   },
   "id": "6c422d78dae5ed2e"
  },
  {
   "cell_type": "code",
   "execution_count": 46,
   "outputs": [
    {
     "name": "stdout",
     "output_type": "stream",
     "text": [
      "Standardabweichung = 0.0556\n"
     ]
    }
   ],
   "source": [
    "# Standardabweichung\n",
    "sigma = X.std()\n",
    "print('Standardabweichung = ' + value_rounded_str(sigma))"
   ],
   "metadata": {
    "collapsed": false,
    "ExecuteTime": {
     "end_time": "2024-01-17T11:29:02.632784200Z",
     "start_time": "2024-01-17T11:29:02.279286Z"
    }
   },
   "id": "ecdb6904ec030829"
  },
  {
   "cell_type": "code",
   "execution_count": 47,
   "outputs": [
    {
     "name": "stdout",
     "output_type": "stream",
     "text": [
      "0.75-Quantil = 0.077\n"
     ]
    }
   ],
   "source": [
    "# Quantil\n",
    "quant = X.ppf(quantil)\n",
    "print(str(quantil) + \"-Quantil = \" + value_rounded_str(quant))"
   ],
   "metadata": {
    "collapsed": false,
    "ExecuteTime": {
     "end_time": "2024-01-17T11:29:02.633794600Z",
     "start_time": "2024-01-17T11:29:02.290202900Z"
    }
   },
   "id": "f68a2118b6977d0d"
  },
  {
   "cell_type": "code",
   "execution_count": 48,
   "outputs": [
    {
     "name": "stdout",
     "output_type": "stream",
     "text": [
      "P(X<=15) = 1.0\n",
      "1 - P(X<=15) = 0.0\n"
     ]
    }
   ],
   "source": [
    "# Wahrscheinlichkeit P(X<=x)\n",
    "p_kleinergleich = X.cdf(x) \n",
    "print(\"P(X<=\" + str(x) + \") = \" + value_rounded_str(p_kleinergleich))\n",
    "print(\"1 - P(X<=\" + str(x) + \") = \" + value_rounded_str(1 - p_kleinergleich))"
   ],
   "metadata": {
    "collapsed": false,
    "ExecuteTime": {
     "end_time": "2024-01-17T11:29:02.634787900Z",
     "start_time": "2024-01-17T11:29:02.304015900Z"
    }
   },
   "id": "b56ef5aea9bf9ec9"
  },
  {
   "cell_type": "code",
   "execution_count": 49,
   "outputs": [
    {
     "name": "stdout",
     "output_type": "stream",
     "text": [
      "P(X>=15) = 0.0\n",
      "1 - P(X>=15) = 1.0\n"
     ]
    }
   ],
   "source": [
    "# Wahrscheinlichkeit P(X>=x)\n",
    "p_groessergleich = X.sf(x) \n",
    "print(\"P(X>=\" + str(x) + \") = \" + value_rounded_str(p_groessergleich))\n",
    "print(\"1 - P(X>=\" + str(x) + \") = \" + value_rounded_str(1 - p_groessergleich))"
   ],
   "metadata": {
    "collapsed": false,
    "ExecuteTime": {
     "end_time": "2024-01-17T11:29:02.634787900Z",
     "start_time": "2024-01-17T11:29:02.312860700Z"
    }
   },
   "id": "c63e6cbb8c863c40"
  }
 ],
 "metadata": {
  "kernelspec": {
   "display_name": "Python 3",
   "language": "python",
   "name": "python3"
  },
  "language_info": {
   "codemirror_mode": {
    "name": "ipython",
    "version": 2
   },
   "file_extension": ".py",
   "mimetype": "text/x-python",
   "name": "python",
   "nbconvert_exporter": "python",
   "pygments_lexer": "ipython2",
   "version": "2.7.6"
  }
 },
 "nbformat": 4,
 "nbformat_minor": 5
}
