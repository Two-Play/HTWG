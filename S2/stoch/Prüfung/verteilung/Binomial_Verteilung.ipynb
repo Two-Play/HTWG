{
 "cells": [
  {
   "cell_type": "markdown",
   "source": [
    "BINOMIAL-VERTEILUNG:\n",
    "\n",
    "    \"Mit welcher Wahrscheinlichkeit treten k Erfolge in n Versuchen ein?\"\n",
    "    X ~ Bin(n,p)\n",
    "    Parameter: n - Anzahl der Versuche\n",
    "               k - Anzahl der Erfolge\n",
    "               p - Wahrscheinlichkeit fuer Erfolg"
   ],
   "metadata": {
    "collapsed": false
   },
   "id": "cd4e1802dddd1e4b"
  },
  {
   "cell_type": "markdown",
   "source": [
    "Beispiele:\n",
    "\n",
    "P_Ygleich2 = Y.pmf(2)\n",
    "print('P_Ygleich2 =' + myprint(P_Ygleich2))\n",
    "\n",
    "P_Ygleich2oder3 = Y.pmf(2) + Y.pmf(3)\n",
    "P_Ygleich2oder3 = sum(Y.pmf(list(range(2, 4))))\n",
    "print('P_Ygleich2oder3 =' + myprint(P_Ygleich2oder3))\n",
    "\n",
    "P_Ygleich0 = Y.pmf(0)\n",
    "print('P_Ygleich0 =' + myprint(P_Ygleich0))\n",
    "\n",
    "P_Ykleinergleich3 = Y.cdf(3)\n",
    "print('P_Ykleinergleich3 =' + myprint(P_Ykleinergleich3))\n",
    "\n",
    "E_Y = Y.mean()\n",
    "print('E_Y = ' + myprint(E_Y))\n",
    "\n",
    "Var_Y = Y.var()\n",
    "print('Var_Y = ' + myprint(Var_Y))"
   ],
   "metadata": {
    "collapsed": false
   },
   "id": "37280b49d7553eeb"
  },
  {
   "cell_type": "code",
   "execution_count": 91,
   "outputs": [],
   "source": [
    "import math\n",
    "import numpy as np\n",
    "from scipy.stats import binom"
   ],
   "metadata": {
    "collapsed": false,
    "ExecuteTime": {
     "end_time": "2024-01-28T20:27:04.844126Z",
     "start_time": "2024-01-28T20:27:04.835259Z"
    }
   },
   "id": "696fd8f83455926e"
  },
  {
   "cell_type": "code",
   "execution_count": 92,
   "outputs": [],
   "source": [
    "def value_rounded_str(value):\n",
    "    val = str(np.round(value,4))\n",
    "    return val"
   ],
   "metadata": {
    "collapsed": false,
    "ExecuteTime": {
     "end_time": "2024-01-28T20:27:04.855496Z",
     "start_time": "2024-01-28T20:27:04.845575Z"
    }
   },
   "id": "18af0994f8e859e3"
  },
  {
   "cell_type": "code",
   "execution_count": 93,
   "outputs": [],
   "source": [
    "# EINGABEWERTE für Verteilung\n",
    "n = 10\n",
    "p = 0.25\n",
    "\n",
    "# EINGABEWERTE Wahrscheinlichkeiten\n",
    "x = 2"
   ],
   "metadata": {
    "collapsed": false,
    "ExecuteTime": {
     "end_time": "2024-01-28T20:27:04.866485Z",
     "start_time": "2024-01-28T20:27:04.857210Z"
    }
   },
   "id": "bb7f8f4e4fe8f4f5"
  },
  {
   "cell_type": "code",
   "execution_count": 94,
   "outputs": [],
   "source": [
    "X = binom(n,p)"
   ],
   "metadata": {
    "collapsed": false,
    "ExecuteTime": {
     "end_time": "2024-01-28T20:27:04.867430Z",
     "start_time": "2024-01-28T20:27:04.860199Z"
    }
   },
   "id": "2f95b9bf1d2baf94"
  },
  {
   "cell_type": "code",
   "execution_count": 95,
   "id": "initial_id",
   "metadata": {
    "collapsed": true,
    "ExecuteTime": {
     "end_time": "2024-01-28T20:27:04.867704Z",
     "start_time": "2024-01-28T20:27:04.863020Z"
    }
   },
   "outputs": [
    {
     "name": "stdout",
     "output_type": "stream",
     "text": [
      "Erwartungswert = 2.5\n"
     ]
    }
   ],
   "source": [
    "# Mittelwert\n",
    "mean = X.mean()\n",
    "print('Erwartungswert = ' + value_rounded_str(mean))"
   ]
  },
  {
   "cell_type": "code",
   "execution_count": 96,
   "outputs": [
    {
     "name": "stdout",
     "output_type": "stream",
     "text": [
      "Varianz = 1.875\n"
     ]
    }
   ],
   "source": [
    "# Varianz\n",
    "var = X.var()\n",
    "print('Varianz = ' + value_rounded_str(var))"
   ],
   "metadata": {
    "collapsed": false,
    "ExecuteTime": {
     "end_time": "2024-01-28T20:27:04.884539Z",
     "start_time": "2024-01-28T20:27:04.865438Z"
    }
   },
   "id": "cb1209ffa9f7aa3f"
  },
  {
   "cell_type": "code",
   "execution_count": 97,
   "outputs": [
    {
     "name": "stdout",
     "output_type": "stream",
     "text": [
      "Standardabweichung = 1.3693\n"
     ]
    }
   ],
   "source": [
    "# Standardabweichung\n",
    "sigma = X.std()\n",
    "print('Standardabweichung = ' + value_rounded_str(sigma))"
   ],
   "metadata": {
    "collapsed": false,
    "ExecuteTime": {
     "end_time": "2024-01-28T20:27:04.885847Z",
     "start_time": "2024-01-28T20:27:04.869213Z"
    }
   },
   "id": "459746f941092266"
  },
  {
   "cell_type": "code",
   "execution_count": 98,
   "outputs": [
    {
     "name": "stdout",
     "output_type": "stream",
     "text": [
      "P(X<=2) = 0.5256\n",
      "(P(X>2) oder 1 - P(X<=2) = 0.4744\n"
     ]
    }
   ],
   "source": [
    "# Wahrscheinlichkeit P(X<=x)\n",
    "p_kleinergleich = X.cdf(x) \n",
    "print(\"P(X<=\" + str(x) + \") = \" + value_rounded_str(p_kleinergleich))\n",
    "print(\"(P(X>\"+ str(x) + \") oder 1 - P(X<=\" + str(x) + \") = \" + value_rounded_str(1 - p_kleinergleich))"
   ],
   "metadata": {
    "collapsed": false,
    "ExecuteTime": {
     "end_time": "2024-01-28T20:27:04.917715Z",
     "start_time": "2024-01-28T20:27:04.888094Z"
    }
   },
   "id": "9dd96a8bb546cd8f"
  },
  {
   "cell_type": "code",
   "execution_count": 99,
   "outputs": [
    {
     "name": "stdout",
     "output_type": "stream",
     "text": [
      "P(X=2) = 0.2816\n",
      "1 - P(X=2) = 0.7184\n"
     ]
    }
   ],
   "source": [
    "# Wahrscheinlichkeit (P=X)\n",
    "p_gleich = X.pmf(x) \n",
    "print(\"P(X=\" + str(x) + \") = \" + value_rounded_str(p_gleich))\n",
    "print(\"1 - P(X=\" + str(x) + \") = \" + value_rounded_str(1 - p_gleich))"
   ],
   "metadata": {
    "collapsed": false,
    "ExecuteTime": {
     "end_time": "2024-01-28T20:27:04.918311Z",
     "start_time": "2024-01-28T20:27:04.891099Z"
    }
   },
   "id": "94d7250a87f383d"
  },
  {
   "cell_type": "code",
   "outputs": [
    {
     "name": "stdout",
     "output_type": "stream",
     "text": [
      "P(X>=2) = 0.756\n"
     ]
    }
   ],
   "source": [
    "# Wahrscheinlichkeit P(X=>x)\n",
    "p_groessergleich = 1 - X.cdf(x-1)\n",
    "print(\"P(X>=\" + str(x) + \") = \" + value_rounded_str(p_groessergleich))\n",
    "#print(\"1 - P(X>=\" + str(x) + \") = \" + value_rounded_str(1 - p_groessergleich))\n"
   ],
   "metadata": {
    "collapsed": false,
    "ExecuteTime": {
     "end_time": "2024-01-28T20:27:04.918754Z",
     "start_time": "2024-01-28T20:27:04.893214Z"
    }
   },
   "id": "8e52dc419bde0825",
   "execution_count": 100
  }
 ],
 "metadata": {
  "kernelspec": {
   "display_name": "Python 3",
   "language": "python",
   "name": "python3"
  },
  "language_info": {
   "codemirror_mode": {
    "name": "ipython",
    "version": 2
   },
   "file_extension": ".py",
   "mimetype": "text/x-python",
   "name": "python",
   "nbconvert_exporter": "python",
   "pygments_lexer": "ipython2",
   "version": "2.7.6"
  }
 },
 "nbformat": 4,
 "nbformat_minor": 5
}
