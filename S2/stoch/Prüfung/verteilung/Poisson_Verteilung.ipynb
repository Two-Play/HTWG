{
 "cells": [
  {
   "cell_type": "markdown",
   "source": [
    "POISSON-VERTEILUNG:\n",
    "\n",
    "    \"Anzahl der Vorkommnisse in einem Intervall\"\n",
    "     X ~ Po(lambda)\n",
    "     Parameter: lambda - Auftrittsrate\n",
    "                k: Anzahl der Vorkommnisse"
   ],
   "metadata": {
    "collapsed": false
   },
   "id": "43747070ce367ed0"
  },
  {
   "cell_type": "markdown",
   "source": [
    "Beispiele:\n",
    "\n",
    "P_Zgleich0 = Z.pmf(0)\n",
    "print('P_Zgleich0 =' + myprint(P_Zgleich0))\n",
    "\n",
    "P_Zgleich2 = Z.pmf(2)\n",
    "print('P_Zgleich2 =' + myprint(P_Zgleich2))\n",
    "\n",
    "P_Zkleinergleich2 = Z.cdf(2)\n",
    "print('P_Zkleinergleich2 =' + myprint(P_Zkleinergleich2))\n",
    "\n",
    "E_Z = Z.mean()\n",
    "print('E_Z = ' + myprint(E_Z))\n",
    "\n",
    "Var_Z = Z.var()\n",
    "print('Var_Z = ' + myprint(Var_Z))"
   ],
   "metadata": {
    "collapsed": false
   },
   "id": "ae5d4cd4ae79659"
  },
  {
   "cell_type": "code",
   "execution_count": 216,
   "outputs": [],
   "source": [
    "import math\n",
    "import numpy as np\n",
    "from scipy.stats import poisson"
   ],
   "metadata": {
    "collapsed": false,
    "ExecuteTime": {
     "end_time": "2024-01-28T20:41:35.795876Z",
     "start_time": "2024-01-28T20:41:35.785493Z"
    }
   },
   "id": "cc0c0c0a6333e54a"
  },
  {
   "cell_type": "code",
   "execution_count": 217,
   "outputs": [],
   "source": [
    "def value_rounded_str(value):\n",
    "    val = str(np.round(value,4))\n",
    "    return val"
   ],
   "metadata": {
    "collapsed": false,
    "ExecuteTime": {
     "end_time": "2024-01-28T20:41:35.808725Z",
     "start_time": "2024-01-28T20:41:35.798489Z"
    }
   },
   "id": "4fc1d50305f50bfe"
  },
  {
   "cell_type": "code",
   "execution_count": 218,
   "outputs": [],
   "source": [
    "# EINGABEWERTE für Verteilung\n",
    "lamda = 3.5\n",
    "\n",
    "# EINGABEWERTE Wahrscheinlichkeiten\n",
    "x = 1"
   ],
   "metadata": {
    "collapsed": false,
    "ExecuteTime": {
     "end_time": "2024-01-28T20:41:35.808974Z",
     "start_time": "2024-01-28T20:41:35.800854Z"
    }
   },
   "id": "63afab00f95c6385"
  },
  {
   "cell_type": "code",
   "execution_count": 219,
   "id": "initial_id",
   "metadata": {
    "collapsed": true,
    "ExecuteTime": {
     "end_time": "2024-01-28T20:41:35.822406Z",
     "start_time": "2024-01-28T20:41:35.811776Z"
    }
   },
   "outputs": [],
   "source": [
    "X = poisson(lamda)"
   ]
  },
  {
   "cell_type": "code",
   "execution_count": 220,
   "outputs": [
    {
     "name": "stdout",
     "output_type": "stream",
     "text": [
      "Erwartungswert = 3.5\n"
     ]
    }
   ],
   "source": [
    "# Mittelwert\n",
    "mean = X.mean()\n",
    "print('Erwartungswert = ' + value_rounded_str(mean))"
   ],
   "metadata": {
    "collapsed": false,
    "ExecuteTime": {
     "end_time": "2024-01-28T20:41:35.822791Z",
     "start_time": "2024-01-28T20:41:35.815217Z"
    }
   },
   "id": "bd1e3bc341c22fcb"
  },
  {
   "cell_type": "code",
   "execution_count": 221,
   "outputs": [
    {
     "name": "stdout",
     "output_type": "stream",
     "text": [
      "Varianz = 3.5\n"
     ]
    }
   ],
   "source": [
    "# Varianz\n",
    "var = X.var()\n",
    "print('Varianz = ' + value_rounded_str(var))"
   ],
   "metadata": {
    "collapsed": false,
    "ExecuteTime": {
     "end_time": "2024-01-28T20:41:35.822976Z",
     "start_time": "2024-01-28T20:41:35.817786Z"
    }
   },
   "id": "c82e852dc0936240"
  },
  {
   "cell_type": "code",
   "execution_count": 222,
   "outputs": [
    {
     "name": "stdout",
     "output_type": "stream",
     "text": [
      "Standardabweichung = 1.8708\n"
     ]
    }
   ],
   "source": [
    "# Standardabweichung\n",
    "sigma = X.std()\n",
    "print('Standardabweichung = ' + value_rounded_str(sigma))"
   ],
   "metadata": {
    "collapsed": false,
    "ExecuteTime": {
     "end_time": "2024-01-28T20:41:35.829313Z",
     "start_time": "2024-01-28T20:41:35.821826Z"
    }
   },
   "id": "985209751ac3a052"
  },
  {
   "cell_type": "code",
   "execution_count": 223,
   "outputs": [
    {
     "name": "stdout",
     "output_type": "stream",
     "text": [
      "P(X<=1) = 0.1359\n",
      "1 - P(X<=1) = 0.8641\n"
     ]
    }
   ],
   "source": [
    "# Wahrscheinlichkeit P(X<=x)\n",
    "p_kleinergleich = X.cdf(x) \n",
    "print(\"P(X<=\" + str(x) + \") = \" + value_rounded_str(p_kleinergleich))\n",
    "print(\"1 - P(X<=\" + str(x) + \") = \" + value_rounded_str(1 - p_kleinergleich))"
   ],
   "metadata": {
    "collapsed": false,
    "ExecuteTime": {
     "end_time": "2024-01-28T20:41:35.829727Z",
     "start_time": "2024-01-28T20:41:35.825012Z"
    }
   },
   "id": "4c9b73a7bfb9b5fc"
  },
  {
   "cell_type": "code",
   "execution_count": 224,
   "outputs": [
    {
     "name": "stdout",
     "output_type": "stream",
     "text": [
      "P(X=1) = 0.1057\n",
      "1 - P(X=1) = 0.8943\n"
     ]
    }
   ],
   "source": [
    "# Wahrscheinlichkeit (P=X)\n",
    "p_gleich = X.pmf(x) \n",
    "print(\"P(X=\" + str(x) + \") = \" + value_rounded_str(p_gleich))\n",
    "print(\"1 - P(X=\" + str(x) + \") = \" + value_rounded_str(1 - p_gleich))"
   ],
   "metadata": {
    "collapsed": false,
    "ExecuteTime": {
     "end_time": "2024-01-28T20:41:35.836071Z",
     "start_time": "2024-01-28T20:41:35.831423Z"
    }
   },
   "id": "ac94ff081628686c"
  },
  {
   "cell_type": "code",
   "outputs": [
    {
     "name": "stdout",
     "output_type": "stream",
     "text": [
      "P(X>=1) = 0.8641\n",
      "1 - P(X>=1) = 0.1359\n"
     ]
    }
   ],
   "source": [
    "# Wahrscheinlichkeit P(X=>x) poisson\n",
    "p_groessergleich = 1 - X.cdf(x)\n",
    "print(\"P(X>=\" + str(x) + \") = \" + value_rounded_str(p_groessergleich))\n",
    "print(\"1 - P(X>=\" + str(x) + \") = \" + value_rounded_str(1 - p_groessergleich))\n"
   ],
   "metadata": {
    "collapsed": false,
    "ExecuteTime": {
     "end_time": "2024-01-28T20:41:35.840805Z",
     "start_time": "2024-01-28T20:41:35.837451Z"
    }
   },
   "id": "8f168c6bf7091202",
   "execution_count": 225
  },
  {
   "cell_type": "code",
   "outputs": [
    {
     "name": "stdout",
     "output_type": "stream",
     "text": [
      "P(X<1) = 0.0302\n",
      "P(X >= 1) oder 1 - P(X<1) = 0.9698\n"
     ]
    }
   ],
   "source": [
    "# Wahrscheinlichkeit P(X<x) poisson\n",
    "p_kleiner = X.cdf(x-1)\n",
    "print(\"P(X<\" + str(x) + \") = \" + value_rounded_str(p_kleiner))\n",
    "print(\"P(X >= \" + str(x) + \") oder 1 - P(X<\" + str(x) + \") = \" + value_rounded_str(1 - p_kleiner))\n"
   ],
   "metadata": {
    "collapsed": false,
    "ExecuteTime": {
     "end_time": "2024-01-28T20:42:14.859581Z",
     "start_time": "2024-01-28T20:42:14.855848Z"
    }
   },
   "id": "6b42f83b09215cee",
   "execution_count": 228
  },
  {
   "cell_type": "code",
   "outputs": [],
   "source": [],
   "metadata": {
    "collapsed": false
   },
   "id": "1439941f77ef9dab"
  }
 ],
 "metadata": {
  "kernelspec": {
   "display_name": "Python 3",
   "language": "python",
   "name": "python3"
  },
  "language_info": {
   "codemirror_mode": {
    "name": "ipython",
    "version": 2
   },
   "file_extension": ".py",
   "mimetype": "text/x-python",
   "name": "python",
   "nbconvert_exporter": "python",
   "pygments_lexer": "ipython2",
   "version": "2.7.6"
  }
 },
 "nbformat": 4,
 "nbformat_minor": 5
}
