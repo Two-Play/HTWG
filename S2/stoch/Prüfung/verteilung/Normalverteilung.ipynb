{
 "cells": [
  {
   "cell_type": "markdown",
   "source": [
    "NORMALVERTEILUNG:\n",
    "\n",
    "    \"Der zentrale Grenzwertsatz beschreibt das Phänomen, dass reale zufällige Prozesse in\n",
    "    ihrer Summe häufig glockenförmige Verteilungen aufweisen. So sind zum Beispiel Wachstumsprozesse,\n",
    "    wie die Körpergröße aller Männer oder Messvorgänge, wie beispielsweise die Sprungweite von Kängurus,\n",
    "    immer normalverteilt.\"\n",
    "    N(erwartungswert, varianz)\n",
    "    Parameter:\n",
    "            erwartungswert: Mitte der Kurve\n",
    "            varianz: Streckung / Stauchung der Kurve\n",
    "    Beispiel:\n",
    "            Wahrscheinlichkeit, dass eine Kerze zwischen 33 und 47 Stunden brennt."
   ],
   "metadata": {
    "collapsed": false
   },
   "id": "f5f34dcbcf7655c7"
  },
  {
   "cell_type": "markdown",
   "source": [
    "P_Zkleinergleich175 = Z.cdf(175)\n",
    "print('P_Zkleinergleich175 = ' + myprint(P_Zkleinergleich175))\n",
    "\n",
    "P_Zgroessergleich180 = Z.sf(180)\n",
    "print('P_Zgroessergleich180 = ' + myprint(P_Zgroessergleich180))\n",
    "\n",
    "P_Zgroessergleich185 = Z.sf(185)\n",
    "print('P_Zgroessergleich185 = ' + myprint(P_Zgroessergleich185))\n",
    "\n",
    "Quant_Z95 = Z.ppf(0.95)\n",
    "print('Quant_Z95 = ' + myprint(Quant_Z95))\n",
    "\n",
    "Quant_Z90 = Z.ppf(0.90)\n",
    "print('Quant_Z90 = ' + myprint(Quant_Z90))\n",
    "\n",
    "E_Z = Z.mean()\n",
    "print('E_Z = ' + myprint(E_Z))\n",
    "\n",
    "std_Z = Z.std()\n",
    "print('std_Z = ' + myprint(std_Z))"
   ],
   "metadata": {
    "collapsed": false
   },
   "id": "a2e080c096f0b0b2"
  },
  {
   "cell_type": "code",
   "execution_count": 1,
   "id": "initial_id",
   "metadata": {
    "collapsed": true,
    "ExecuteTime": {
     "end_time": "2024-01-17T11:40:14.438429200Z",
     "start_time": "2024-01-17T11:40:12.658273200Z"
    }
   },
   "outputs": [],
   "source": [
    "import math\n",
    "import numpy as np\n",
    "from scipy.stats import norm"
   ]
  },
  {
   "cell_type": "code",
   "execution_count": 2,
   "outputs": [],
   "source": [
    "def value_rounded_str(value):\n",
    "    val = str(np.round(value,4))\n",
    "    return val"
   ],
   "metadata": {
    "collapsed": false,
    "ExecuteTime": {
     "end_time": "2024-01-17T11:40:14.463692600Z",
     "start_time": "2024-01-17T11:40:14.460995800Z"
    }
   },
   "id": "92d2da63716d2c5d"
  },
  {
   "cell_type": "code",
   "execution_count": 3,
   "outputs": [],
   "source": [
    "# EINGABEWERTE für Verteilung\n",
    "mu = 180.3\n",
    "sig = 7.17\n",
    "\n",
    "# EINGABEWERTE Kennwerte\n",
    "quantil = 0.75\n",
    "\n",
    "# EINGABEWERTE Wahrscheinlichkeiten\n",
    "x = 175"
   ],
   "metadata": {
    "collapsed": false,
    "ExecuteTime": {
     "end_time": "2024-01-17T11:40:14.503441200Z",
     "start_time": "2024-01-17T11:40:14.460995800Z"
    }
   },
   "id": "7efb4c5b8c7623b0"
  },
  {
   "cell_type": "code",
   "execution_count": 4,
   "outputs": [],
   "source": [
    "X = norm(loc=mu,scale=sig)"
   ],
   "metadata": {
    "collapsed": false,
    "ExecuteTime": {
     "end_time": "2024-01-17T11:40:14.503441200Z",
     "start_time": "2024-01-17T11:40:14.473757400Z"
    }
   },
   "id": "80beaad3ef285814"
  },
  {
   "cell_type": "code",
   "execution_count": 5,
   "outputs": [
    {
     "name": "stdout",
     "output_type": "stream",
     "text": [
      "Mittelwert = 180.3\n"
     ]
    }
   ],
   "source": [
    "# Mittelwert\n",
    "mean = X.mean()\n",
    "print('Mittelwert = ' + value_rounded_str(mean))"
   ],
   "metadata": {
    "collapsed": false,
    "ExecuteTime": {
     "end_time": "2024-01-17T11:40:14.535629700Z",
     "start_time": "2024-01-17T11:40:14.492923200Z"
    }
   },
   "id": "a0c82e9c5bbf9697"
  },
  {
   "cell_type": "code",
   "execution_count": 6,
   "outputs": [
    {
     "name": "stdout",
     "output_type": "stream",
     "text": [
      "Varianz = 51.4089\n"
     ]
    }
   ],
   "source": [
    "# Varianz\n",
    "var = X.var()\n",
    "print('Varianz = ' + value_rounded_str(var))"
   ],
   "metadata": {
    "collapsed": false,
    "ExecuteTime": {
     "end_time": "2024-01-17T11:40:14.536635800Z",
     "start_time": "2024-01-17T11:40:14.509113Z"
    }
   },
   "id": "847bf7c6ce08a8b4"
  },
  {
   "cell_type": "code",
   "execution_count": 7,
   "outputs": [
    {
     "name": "stdout",
     "output_type": "stream",
     "text": [
      "Standardabweichung = 7.17\n"
     ]
    }
   ],
   "source": [
    "# Standardabweichung\n",
    "sigma = X.std()\n",
    "print('Standardabweichung = ' + value_rounded_str(sigma))"
   ],
   "metadata": {
    "collapsed": false,
    "ExecuteTime": {
     "end_time": "2024-01-17T11:40:14.568280500Z",
     "start_time": "2024-01-17T11:40:14.519583300Z"
    }
   },
   "id": "ba079e0e5c387d30"
  },
  {
   "cell_type": "code",
   "execution_count": 8,
   "outputs": [
    {
     "name": "stdout",
     "output_type": "stream",
     "text": [
      "0.75-Quantil = 185.1361\n"
     ]
    }
   ],
   "source": [
    "# Quantil\n",
    "quant = X.ppf(quantil)\n",
    "print(str(quantil) + \"-Quantil = \" + value_rounded_str(quant))"
   ],
   "metadata": {
    "collapsed": false,
    "ExecuteTime": {
     "end_time": "2024-01-17T11:40:14.660109200Z",
     "start_time": "2024-01-17T11:40:14.532628100Z"
    }
   },
   "id": "9e4eb290d417321e"
  },
  {
   "cell_type": "code",
   "execution_count": 9,
   "outputs": [
    {
     "name": "stdout",
     "output_type": "stream",
     "text": [
      "P(X<=175) = 0.2299\n",
      "1 - P(X<=175) = 0.7701\n"
     ]
    }
   ],
   "source": [
    "# Wahrscheinlichkeit P(X<=x)\n",
    "p_kleinergleich = X.cdf(x) \n",
    "print(\"P(X<=\" + str(x) + \") = \" + value_rounded_str(p_kleinergleich))\n",
    "print(\"1 - P(X<=\" + str(x) + \") = \" + value_rounded_str(1 - p_kleinergleich))"
   ],
   "metadata": {
    "collapsed": false,
    "ExecuteTime": {
     "end_time": "2024-01-17T11:40:14.762974600Z",
     "start_time": "2024-01-17T11:40:14.545703200Z"
    }
   },
   "id": "94207567d1d4c5fa"
  },
  {
   "cell_type": "code",
   "execution_count": 10,
   "outputs": [
    {
     "name": "stdout",
     "output_type": "stream",
     "text": [
      "P(X>=175) = 0.7701\n",
      "1 - P(X>=175) = 0.2299\n"
     ]
    }
   ],
   "source": [
    "# Wahrscheinlichkeit P(X>=x)\n",
    "p_groessergleich = X.sf(x) \n",
    "print(\"P(X>=\" + str(x) + \") = \" + value_rounded_str(p_groessergleich))\n",
    "print(\"1 - P(X>=\" + str(x) + \") = \" + value_rounded_str(1 - p_groessergleich))"
   ],
   "metadata": {
    "collapsed": false,
    "ExecuteTime": {
     "end_time": "2024-01-17T11:40:14.762974600Z",
     "start_time": "2024-01-17T11:40:14.578364400Z"
    }
   },
   "id": "77c8785198e04fc1"
  }
 ],
 "metadata": {
  "kernelspec": {
   "display_name": "Python 3",
   "language": "python",
   "name": "python3"
  },
  "language_info": {
   "codemirror_mode": {
    "name": "ipython",
    "version": 2
   },
   "file_extension": ".py",
   "mimetype": "text/x-python",
   "name": "python",
   "nbconvert_exporter": "python",
   "pygments_lexer": "ipython2",
   "version": "2.7.6"
  }
 },
 "nbformat": 4,
 "nbformat_minor": 5
}
