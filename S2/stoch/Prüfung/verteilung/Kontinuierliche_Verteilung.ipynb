{
 "cells": [
  {
   "cell_type": "code",
   "execution_count": 1,
   "id": "initial_id",
   "metadata": {
    "collapsed": true,
    "ExecuteTime": {
     "end_time": "2024-01-18T09:32:03.676522Z",
     "start_time": "2024-01-18T09:32:03.145201Z"
    }
   },
   "outputs": [],
   "source": [
    "import math\n",
    "import numpy as np\n",
    "from sympy import symbols, integrate, diff, simplify, Rational"
   ]
  },
  {
   "cell_type": "code",
   "execution_count": 2,
   "outputs": [],
   "source": [
    "def value_rounded_str(value):\n",
    "    val = str(np.round(value,4))\n",
    "    return val"
   ],
   "metadata": {
    "collapsed": false,
    "ExecuteTime": {
     "end_time": "2024-01-18T09:32:03.679586Z",
     "start_time": "2024-01-18T09:32:03.676279Z"
    }
   },
   "id": "5e2e0456e6119e8d"
  },
  {
   "cell_type": "code",
   "execution_count": 3,
   "outputs": [],
   "source": [
    "x = symbols(\"x\")"
   ],
   "metadata": {
    "collapsed": false,
    "ExecuteTime": {
     "end_time": "2024-01-18T09:32:03.680201Z",
     "start_time": "2024-01-18T09:32:03.678798Z"
    }
   },
   "id": "e0ede5e7cb8c47a5"
  },
  {
   "cell_type": "code",
   "execution_count": 4,
   "outputs": [],
   "source": [
    "#### EINGABEWERTE\n",
    "\n",
    "# Funktion\n",
    "f = Rational(1,2) * x\n",
    "\n",
    "# Grenzen\n",
    "lower_bound = 0\n",
    "upper_bound = 2"
   ],
   "metadata": {
    "collapsed": false,
    "ExecuteTime": {
     "end_time": "2024-01-18T09:32:03.685161Z",
     "start_time": "2024-01-18T09:32:03.681804Z"
    }
   },
   "id": "796f74ee7a6cbb1f"
  },
  {
   "cell_type": "code",
   "execution_count": 5,
   "outputs": [
    {
     "name": "stdout",
     "output_type": "stream",
     "text": [
      "Stammfunktion (Verteilungsfunktion) von:  x/2  =  x**2/4\n"
     ]
    }
   ],
   "source": [
    "# Stammfunktion\n",
    "\n",
    "F_y = integrate(f, x)\n",
    "print(\"Stammfunktion (Verteilungsfunktion) von: \", f, \" = \", simplify(F_y))"
   ],
   "metadata": {
    "collapsed": false,
    "ExecuteTime": {
     "end_time": "2024-01-18T09:32:03.787621Z",
     "start_time": "2024-01-18T09:32:03.684664Z"
    }
   },
   "id": "5c9aa06ae5cd70"
  },
  {
   "cell_type": "code",
   "execution_count": 6,
   "outputs": [
    {
     "name": "stdout",
     "output_type": "stream",
     "text": [
      "Erwartungswert =  4/3\n"
     ]
    }
   ],
   "source": [
    "# Erwartungswert\n",
    "\n",
    "mean_f = x * f\n",
    "F_mean_f = integrate(mean_f, x)\n",
    "E = F_mean_f.subs(x, upper_bound) - F_mean_f.subs(x, lower_bound)\n",
    "print(\"Erwartungswert = \", E)"
   ],
   "metadata": {
    "collapsed": false,
    "ExecuteTime": {
     "end_time": "2024-01-18T09:32:03.791248Z",
     "start_time": "2024-01-18T09:32:03.789221Z"
    }
   },
   "id": "5089e0c2c4aa3ff6"
  },
  {
   "cell_type": "code",
   "execution_count": 7,
   "outputs": [
    {
     "data": {
      "text/plain": "x**4/2",
      "text/latex": "$\\displaystyle \\frac{x^{4}}{2}$"
     },
     "metadata": {},
     "output_type": "display_data"
    },
    {
     "data": {
      "text/plain": "x**4/2",
      "text/latex": "$\\displaystyle \\frac{x^{4}}{2}$"
     },
     "metadata": {},
     "output_type": "display_data"
    },
    {
     "name": "stdout",
     "output_type": "stream",
     "text": [
      "Stammfunktion von None  =  None\n",
      "E(x**2) =  16/5\n",
      "E(x)**2 =  16/9\n",
      "Varianz = E(x**2) - E(x)**2 =  64/45\n"
     ]
    }
   ],
   "source": [
    "# Varianz\n",
    "f_x2 = (x**2) * f.subs(x,x**2)\n",
    "F_x2 = integrate(f_x2, x)\n",
    "print(\"Stammfunktion von\" ,\" = \", simplify(f_x2))\n",
    "\n",
    "E_x2 = F_x2.subs(x, upper_bound) - F_x2.subs(x, lower_bound)\n",
    "\n",
    "E_2 = E**2\n",
    "var = E_x2 - E_2\n",
    "print(\"E(x**2) = \", E_x2)\n",
    "print(\"E(x)**2 = \", E_2)\n",
    "print(\"Varianz = E(x**2) - E(x)**2 = \", var)"
   ],
   "metadata": {
    "collapsed": false,
    "ExecuteTime": {
     "end_time": "2024-01-18T09:32:03.798110Z",
     "start_time": "2024-01-18T09:32:03.794946Z"
    }
   },
   "id": "92cdad0ee8d6c966"
  },
  {
   "cell_type": "code",
   "execution_count": 8,
   "outputs": [
    {
     "name": "stdout",
     "output_type": "stream",
     "text": [
      "Standardabweichung = sqrt(var) =  1.1926\n"
     ]
    }
   ],
   "source": [
    "# Standardabweichung\n",
    "\n",
    "sigma_x = math.sqrt(var)\n",
    "print(\"Standardabweichung = sqrt(var) = \", value_rounded_str(sigma_x))"
   ],
   "metadata": {
    "collapsed": false,
    "ExecuteTime": {
     "end_time": "2024-01-18T09:32:03.801750Z",
     "start_time": "2024-01-18T09:32:03.799120Z"
    }
   },
   "id": "c61c0279692ea313"
  }
 ],
 "metadata": {
  "kernelspec": {
   "display_name": "Python 3",
   "language": "python",
   "name": "python3"
  },
  "language_info": {
   "codemirror_mode": {
    "name": "ipython",
    "version": 2
   },
   "file_extension": ".py",
   "mimetype": "text/x-python",
   "name": "python",
   "nbconvert_exporter": "python",
   "pygments_lexer": "ipython2",
   "version": "2.7.6"
  }
 },
 "nbformat": 4,
 "nbformat_minor": 5
}
