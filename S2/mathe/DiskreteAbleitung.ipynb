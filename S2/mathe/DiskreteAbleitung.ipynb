{
 "cells": [
  {
   "cell_type": "code",
   "execution_count": 932,
   "id": "c1b1a7e73d8e87f0",
   "metadata": {
    "collapsed": true,
    "ExecuteTime": {
     "end_time": "2024-02-10T14:43:07.145189600Z",
     "start_time": "2024-02-10T14:43:07.042053900Z"
    }
   },
   "outputs": [],
   "source": [
    "import numpy as np\n",
    "import matplotlib.pyplot as plt\n",
    "import sympy as sp"
   ]
  },
  {
   "cell_type": "code",
   "execution_count": 933,
   "outputs": [],
   "source": [
    "# Diskrete Ableitung Funktion\n",
    "def Diff(f, h, order):\n",
    "    N = len(f)\n",
    "\n",
    "    if order == 1:\n",
    "        D = np.diag(np.ones(N - 1), 1) - np.diag(np.ones(N - 1), -1)\n",
    "        D[0, 0] = -2\n",
    "        D[0, 1] = 2\n",
    "        D[N - 1, N - 1] = 2\n",
    "        D[N - 1, N - 2] = -2\n",
    "        D = D / (2 * h)\n",
    "    elif order == 2:\n",
    "        D = -2 * np.diag(np.ones(N)) + np.diag(np.ones(N - 1), 1) + np.diag(np.ones(N - 1), -1)\n",
    "        D[0, :] = 0\n",
    "        D[N - 1, :] = 0\n",
    "        D = D / (h * h)\n",
    "    else:\n",
    "        return f\n",
    "\n",
    "    return np.dot(D, f)"
   ],
   "metadata": {
    "collapsed": false,
    "ExecuteTime": {
     "end_time": "2024-02-10T14:43:07.231810300Z",
     "start_time": "2024-02-10T14:43:07.057590100Z"
    }
   },
   "id": "7ffe01ab089678cf"
  },
  {
   "cell_type": "code",
   "execution_count": 934,
   "outputs": [],
   "source": [
    "# Daten laden\n",
    "Q = np.loadtxt(\"data.dat\")\n",
    "\n",
    "I = [np.min(Q[:, 0]), np.max(Q[:, 0])]\n",
    "x = Q[:, 0]\n",
    "f = Q[:, 1]\n",
    "N = len(f)\n",
    "h = (I[1] - I[0]) / (N - 1)"
   ],
   "metadata": {
    "collapsed": false,
    "ExecuteTime": {
     "end_time": "2024-02-10T14:43:07.231810300Z",
     "start_time": "2024-02-10T14:43:07.073607800Z"
    }
   },
   "id": "a106c657b595383a"
  },
  {
   "cell_type": "code",
   "execution_count": 935,
   "outputs": [],
   "source": [
    "# Glätten - wenn benötigt\n",
    "LOOP = 100\n",
    "delta = 4.e-03\n",
    "# for l in range(LOOP):\n",
    "#     d2f = Diff(f, h, 2)\n",
    "#     f = f + delta * d2f"
   ],
   "metadata": {
    "collapsed": false,
    "ExecuteTime": {
     "end_time": "2024-02-10T14:43:07.231810300Z",
     "start_time": "2024-02-10T14:43:07.089409600Z"
    }
   },
   "id": "797755349394c1c8"
  },
  {
   "cell_type": "code",
   "execution_count": 936,
   "outputs": [],
   "source": [
    "# Diskrete Ableitungen\n",
    "d1y = Diff(f, h, 1)\n",
    "d2y = Diff(f, h, 2)\n",
    "\n",
    "display(d1y)\n",
    "display(d2y)"
   ],
   "metadata": {
    "collapsed": false,
    "ExecuteTime": {
     "end_time": "2024-02-10T14:43:07.260164Z",
     "start_time": "2024-02-10T14:43:07.091859700Z"
    }
   },
   "id": "66c7970fa7732fcd"
  },
  {
   "cell_type": "code",
   "execution_count": 938,
   "outputs": [
    {
     "name": "stdout",
     "output_type": "stream",
     "text": [
      "Nullstelle der Ausgangsdaten:\n",
      "[[0.1 0. ]\n",
      " [0.9 0. ]]\n"
     ]
    }
   ],
   "source": [
    "# Nullstellen der Ausgangsfunktion\n",
    "IndN = np.where(f[:-1] * f[1:] < 0)[0]\n",
    "xN = (x[IndN] + x[IndN + 1]) / 2\n",
    "yN = (f[IndN] + f[IndN + 1]) / 2\n",
    "N_vals = np.column_stack((xN, yN))\n",
    "print(\"Nullstelle der Ausgangsdaten:\")\n",
    "print(N_vals)"
   ],
   "metadata": {
    "collapsed": false,
    "ExecuteTime": {
     "end_time": "2024-02-10T14:43:07.261163600Z",
     "start_time": "2024-02-10T14:43:07.121287300Z"
    }
   },
   "id": "aa27a76504d0c3cf"
  },
  {
   "cell_type": "code",
   "execution_count": 939,
   "outputs": [
    {
     "name": "stdout",
     "output_type": "stream",
     "text": [
      "Nullstelle in der ersten Ableitung:\n",
      "[[0.5 0. ]]\n"
     ]
    }
   ],
   "source": [
    "# Nullstellen der ersten Ableitung\n",
    "IndE = np.where(d1y[:-1] * d1y[1:] < 0)[0]\n",
    "xE = (x[IndE] + x[IndE + 1]) / 2\n",
    "yE = (d1y[IndE] + d1y[IndE + 1]) / 2\n",
    "E_vals = np.column_stack((xE, yE))\n",
    "print(\"Nullstelle in der ersten Ableitung:\")\n",
    "print(E_vals)"
   ],
   "metadata": {
    "collapsed": false,
    "ExecuteTime": {
     "end_time": "2024-02-10T14:43:07.262364300Z",
     "start_time": "2024-02-10T14:43:07.137319700Z"
    }
   },
   "id": "527b7dad1777dd3a"
  },
  {
   "cell_type": "code",
   "execution_count": 940,
   "outputs": [
    {
     "name": "stdout",
     "output_type": "stream",
     "text": [
      "Nullstelle in der zweiten Ableitung:\n",
      "[[0.9 1. ]]\n"
     ]
    }
   ],
   "source": [
    "# Nullstellen der zweiten Ableitung\n",
    "IndW = np.where(d2y[:-1] * d2y[1:] < 0)[0]\n",
    "xW = (x[IndW] + x[IndW + 1]) / 2\n",
    "yW = (d2y[IndW] + d2y[IndW + 1]) / 2\n",
    "W_vals = np.column_stack((xW, yW))\n",
    "print(\"Nullstelle in der zweiten Ableitung:\")\n",
    "print(W_vals)"
   ],
   "metadata": {
    "collapsed": false,
    "ExecuteTime": {
     "end_time": "2024-02-10T14:43:07.263758200Z",
     "start_time": "2024-02-10T14:43:07.153205700Z"
    }
   },
   "id": "c7c9935d1908ce01"
  },
  {
   "cell_type": "code",
   "execution_count": 941,
   "outputs": [
    {
     "data": {
      "text/plain": "log(alpha*(beta - t)**2 + gamma)",
      "text/latex": "$\\displaystyle \\log{\\left(\\alpha \\left(\\beta - t\\right)^{2} + \\gamma \\right)}$"
     },
     "metadata": {},
     "output_type": "display_data"
    },
    {
     "data": {
      "text/plain": "-2*alpha*(beta - t)/(alpha*(beta - t)**2 + gamma)",
      "text/latex": "$\\displaystyle - \\frac{2 \\alpha \\left(\\beta - t\\right)}{\\alpha \\left(\\beta - t\\right)^{2} + \\gamma}$"
     },
     "metadata": {},
     "output_type": "display_data"
    },
    {
     "data": {
      "text/plain": "2*alpha*(-alpha*(beta - t)**2 + gamma)/(alpha*(beta - t)**2 + gamma)**2",
      "text/latex": "$\\displaystyle \\frac{2 \\alpha \\left(- \\alpha \\left(\\beta - t\\right)^{2} + \\gamma\\right)}{\\left(\\alpha \\left(\\beta - t\\right)^{2} + \\gamma\\right)^{2}}$"
     },
     "metadata": {},
     "output_type": "display_data"
    }
   ],
   "source": [
    "# Ansatzfunktion G und Ableitungen\n",
    "alpha, beta, gamma, t = sp.symbols('alpha beta gamma t')\n",
    "\n",
    "## Ansatzfunktion\n",
    "G = sp.log((alpha * (t - beta)**2) + gamma)\n",
    "\n",
    "display(sp.simplify(G))\n",
    "dG = sp.diff(G, t)\n",
    "display(sp.simplify(dG))\n",
    "d2G = sp.diff(dG, t)\n",
    "display(sp.simplify(d2G))"
   ],
   "metadata": {
    "collapsed": false,
    "ExecuteTime": {
     "end_time": "2024-02-10T14:43:07.689617100Z",
     "start_time": "2024-02-10T14:43:07.158783900Z"
    }
   },
   "id": "eda815683f243635"
  },
  {
   "cell_type": "code",
   "execution_count": 942,
   "outputs": [
    {
     "name": "stdout",
     "output_type": "stream",
     "text": [
      "Funktion == 0:\n"
     ]
    },
    {
     "data": {
      "text/plain": "[beta - sqrt(1 - gamma)/sqrt(alpha), beta + sqrt(1 - gamma)/sqrt(alpha)]"
     },
     "metadata": {},
     "output_type": "display_data"
    },
    {
     "name": "stdout",
     "output_type": "stream",
     "text": [
      "Erste Ableitung == 0:\n"
     ]
    },
    {
     "data": {
      "text/plain": "[beta]"
     },
     "metadata": {},
     "output_type": "display_data"
    },
    {
     "name": "stdout",
     "output_type": "stream",
     "text": [
      "Zweite Ableitung == 0:\n"
     ]
    },
    {
     "data": {
      "text/plain": "[(alpha*beta - sqrt(alpha*gamma))/alpha,\n (alpha*beta + sqrt(alpha*gamma))/alpha]"
     },
     "metadata": {},
     "output_type": "display_data"
    }
   ],
   "source": [
    "# Nullstellen der Ansatzfunktion\n",
    "print(\"Funktion == 0:\")\n",
    "np_roots = sp.solve(G, t)\n",
    "display(np_roots)\n",
    "print(\"Erste Ableitung == 0:\")\n",
    "hp_roots = sp.solve(dG, t)\n",
    "display(hp_roots)\n",
    "print(\"Zweite Ableitung == 0:\")\n",
    "wp_roots = sp.solve(d2G, t)\n",
    "display(wp_roots)"
   ],
   "metadata": {
    "collapsed": false,
    "ExecuteTime": {
     "end_time": "2024-02-10T14:43:09.391377800Z",
     "start_time": "2024-02-10T14:43:07.683617100Z"
    }
   },
   "id": "6908cb59a500f6cb"
  },
  {
   "cell_type": "code",
   "execution_count": 943,
   "outputs": [
    {
     "data": {
      "text/plain": "[{alpha: 3.12500000000000, beta: 0.500000000000000, gamma: 0.500000000000000}]"
     },
     "metadata": {},
     "output_type": "display_data"
    },
    {
     "data": {
      "text/plain": "log(3.125*(t - 0.5)**2 + 0.5)",
      "text/latex": "$\\displaystyle \\log{\\left(3.125 \\left(t - 0.5\\right)^{2} + 0.5 \\right)}$"
     },
     "metadata": {},
     "output_type": "display_data"
    }
   ],
   "source": [
    "# Parameter der Ansatzfunktion an diskrete Punkte anpassen\n",
    "equations = [\n",
    "    sp.Eq(np_roots[0], xN[0]),\n",
    "    sp.Eq(hp_roots[0], xE[0]),\n",
    "    sp.Eq(wp_roots[1], xW[0]), \n",
    "]\n",
    "solution = sp.solve(equations, (alpha, beta, gamma),  dict=True)\n",
    "\n",
    "display(solution)\n",
    "solution = solution[0]\n",
    "\n",
    "# Parameter in Ansatzfunktion einsetzen\n",
    "sol = G.subs({alpha: solution[alpha], beta: solution[beta], gamma: solution[gamma]})\n",
    "display(sol)"
   ],
   "metadata": {
    "collapsed": false,
    "ExecuteTime": {
     "end_time": "2024-02-10T14:43:09.657458400Z",
     "start_time": "2024-02-10T14:43:09.391377800Z"
    }
   },
   "id": "954411b73202dfa"
  },
  {
   "cell_type": "code",
   "execution_count": 944,
   "outputs": [],
   "source": [
    "# x-Werte für Ansatzfunktionsplot vorbereiten\n",
    "DIM = 1000\n",
    "xx = np.linspace(I[0], I[1], DIM)\n",
    "sol_np = sp.lambdify(t, sol, 'numpy')"
   ],
   "metadata": {
    "collapsed": false,
    "ExecuteTime": {
     "end_time": "2024-02-10T14:43:09.673105300Z",
     "start_time": "2024-02-10T14:43:09.628149300Z"
    }
   },
   "id": "3b55be04a9c1fe75"
  },
  {
   "cell_type": "code",
   "execution_count": 945,
   "outputs": [
    {
     "data": {
      "text/plain": "<Figure size 640x480 with 1 Axes>",
      "image/png": "[encoded data removed]"
     },
     "metadata": {},
     "output_type": "display_data"
    }
   ],
   "source": [
    "# Plotten\n",
    "plt.plot(x, f, 'o', markersize=8, label='Original Data')\n",
    "plt.plot(x, d1y, 'bo-', label='First Derivative')\n",
    "plt.plot(x, d2y, 'ro-', label='Second Derivative')\n",
    "plt.plot(xx, sol_np(xx), 'g-', label='Synced function f')\n",
    "plt.axhline(0, color='k', linestyle='--')\n",
    "plt.axvline(0, color='k', linestyle='--')\n",
    "plt.xlabel('x')\n",
    "plt.ylabel('f(x)')\n",
    "plt.legend()\n",
    "plt.grid(True)\n",
    "plt.show()"
   ],
   "metadata": {
    "collapsed": false,
    "ExecuteTime": {
     "end_time": "2024-02-10T14:43:10.108946Z",
     "start_time": "2024-02-10T14:43:09.642446300Z"
    }
   },
   "id": "2775696228fdd851"
  }
 ],
 "metadata": {
  "kernelspec": {
   "display_name": "Python 3",
   "language": "python",
   "name": "python3"
  },
  "language_info": {
   "codemirror_mode": {
    "name": "ipython",
    "version": 2
   },
   "file_extension": ".py",
   "mimetype": "text/x-python",
   "name": "python",
   "nbconvert_exporter": "python",
   "pygments_lexer": "ipython2",
   "version": "2.7.6"
  }
 },
 "nbformat": 4,
 "nbformat_minor": 5
}
