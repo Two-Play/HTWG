{
 "cells": [
  {
   "cell_type": "markdown",
   "source": [
    "GEOMETRISCHE VERTEILUNG:\n",
    "\n",
    "    \"Wie viele Versuche, bis Erfolg eintritt.\"\n",
    "    X ~ geom(p)\n",
    "    Parameter: n - Anzahl der Versuche\n",
    "               p - Wahrscheinlichkeit fuer Erfolg"
   ],
   "metadata": {
    "collapsed": false
   },
   "id": "4dda67b4225b376e"
  },
  {
   "cell_type": "markdown",
   "source": [
    "Beispiele:\n",
    "\n",
    "P_Xgleich2 = X.pmf(2)\n",
    "print('P_Xgleich2 =' + myprint(P_Xgleich2))\n",
    "\n",
    "P_Xkleinergleich4 = X.cdf(4)\n",
    "print('P_Xkleinergleich4 =' + myprint(P_Xkleinergleich4))\n",
    "\n",
    "P_Xgroesser4 = 1 - P_Xkleinergleich4\n",
    "print('P_Xgroesser4 =' + myprint(P_Xgroesser4))\n",
    "\n",
    "E_X = X.mean()\n",
    "print('E_X = ' + myprint(E_X))\n",
    "\n",
    "Var_X = X.var()\n",
    "print('Var_X = ' + myprint(Var_X))"
   ],
   "metadata": {
    "collapsed": false
   },
   "id": "6509f1fa2a70e27e"
  },
  {
   "cell_type": "code",
   "execution_count": 151,
   "outputs": [],
   "source": [
    "import math\n",
    "import numpy as np\n",
    "from scipy.stats import geom"
   ],
   "metadata": {
    "collapsed": false,
    "ExecuteTime": {
     "end_time": "2024-01-17T16:45:54.286723093Z",
     "start_time": "2024-01-17T16:45:54.262293153Z"
    }
   },
   "id": "c8f8eee3efd9a0c4"
  },
  {
   "cell_type": "code",
   "execution_count": 152,
   "outputs": [],
   "source": [
    "def value_rounded_str(value):\n",
    "    val = str(np.round(value,4))\n",
    "    return val"
   ],
   "metadata": {
    "collapsed": false,
    "ExecuteTime": {
     "end_time": "2024-01-17T16:45:54.287738554Z",
     "start_time": "2024-01-17T16:45:54.286932609Z"
    }
   },
   "id": "a2352dd9d4bfea9a"
  },
  {
   "cell_type": "code",
   "execution_count": 153,
   "outputs": [],
   "source": [
    "# EINGABEWERTE für Verteilung\n",
    "p = 0.15\n",
    "\n",
    "# EINGABEWERTE Wahrscheinlichkeiten\n",
    "x = 20"
   ],
   "metadata": {
    "collapsed": false,
    "ExecuteTime": {
     "end_time": "2024-01-17T16:45:54.324541077Z",
     "start_time": "2024-01-17T16:45:54.289108747Z"
    }
   },
   "id": "25d1cae375c2388e"
  },
  {
   "cell_type": "code",
   "execution_count": 154,
   "outputs": [],
   "source": [
    "X = geom(p)"
   ],
   "metadata": {
    "collapsed": false,
    "ExecuteTime": {
     "end_time": "2024-01-17T16:45:54.363290404Z",
     "start_time": "2024-01-17T16:45:54.291570883Z"
    }
   },
   "id": "3770d4bf94414b6f"
  },
  {
   "cell_type": "code",
   "execution_count": 155,
   "outputs": [
    {
     "name": "stdout",
     "output_type": "stream",
     "text": [
      "Erwartungswert = 6.6667\n"
     ]
    }
   ],
   "source": [
    "# Mittelwert\n",
    "mean = X.mean()\n",
    "print('Erwartungswert = ' + value_rounded_str(mean))"
   ],
   "metadata": {
    "collapsed": false,
    "ExecuteTime": {
     "end_time": "2024-01-17T16:45:54.363681354Z",
     "start_time": "2024-01-17T16:45:54.324712091Z"
    }
   },
   "id": "f3ee96f961d0cf21"
  },
  {
   "cell_type": "code",
   "execution_count": 156,
   "outputs": [
    {
     "name": "stdout",
     "output_type": "stream",
     "text": [
      "Varianz = 37.7778\n"
     ]
    }
   ],
   "source": [
    "# Varianz\n",
    "var = X.var()\n",
    "print('Varianz = ' + value_rounded_str(var))"
   ],
   "metadata": {
    "collapsed": false,
    "ExecuteTime": {
     "end_time": "2024-01-17T16:45:54.363936922Z",
     "start_time": "2024-01-17T16:45:54.324816289Z"
    }
   },
   "id": "241088b2bab20f5b"
  },
  {
   "cell_type": "code",
   "execution_count": 157,
   "outputs": [
    {
     "name": "stdout",
     "output_type": "stream",
     "text": [
      "Standardabweichung = 6.1464\n"
     ]
    }
   ],
   "source": [
    "# Standardabweichung\n",
    "sigma = X.std()\n",
    "print('Standardabweichung = ' + value_rounded_str(sigma))"
   ],
   "metadata": {
    "collapsed": false,
    "ExecuteTime": {
     "end_time": "2024-01-17T16:45:54.364217350Z",
     "start_time": "2024-01-17T16:45:54.324900041Z"
    }
   },
   "id": "d16c79a489fc3a15"
  },
  {
   "cell_type": "code",
   "execution_count": 158,
   "outputs": [
    {
     "name": "stdout",
     "output_type": "stream",
     "text": [
      "P(X<=20) = 0.9612\n",
      "1 - P(X<=20) = 0.0388\n"
     ]
    }
   ],
   "source": [
    "# Wahrscheinlichkeit P(X<=x)\n",
    "p_kleinergleich = X.cdf(x) \n",
    "print(\"P(X<=\" + str(x) + \") = \" + value_rounded_str(p_kleinergleich))\n",
    "print(\"1 - P(X<=\" + str(x) + \") = \" + value_rounded_str(1 - p_kleinergleich))"
   ],
   "metadata": {
    "collapsed": false,
    "ExecuteTime": {
     "end_time": "2024-01-17T16:45:54.364498086Z",
     "start_time": "2024-01-17T16:45:54.324991167Z"
    }
   },
   "id": "47abad8357ceaeff"
  },
  {
   "cell_type": "code",
   "execution_count": 159,
   "outputs": [
    {
     "name": "stdout",
     "output_type": "stream",
     "text": [
      "P(X=20) = 0.0068\n",
      "1 - P(X=20) = 0.9932\n"
     ]
    }
   ],
   "source": [
    "# Wahrscheinlichkeit (P=X)\n",
    "p_gleich = X.pmf(x) \n",
    "print(\"P(X=\" + str(x) + \") = \" + value_rounded_str(p_gleich))\n",
    "print(\"1 - P(X=\" + str(x) + \") = \" + value_rounded_str(1 - p_gleich))"
   ],
   "metadata": {
    "collapsed": false,
    "ExecuteTime": {
     "end_time": "2024-01-17T16:45:54.403667942Z",
     "start_time": "2024-01-17T16:45:54.363362690Z"
    }
   },
   "id": "745f2d4d384d6861"
  },
  {
   "cell_type": "code",
   "outputs": [
    {
     "name": "stdout",
     "output_type": "stream",
     "text": [
      "P(X>20) = 0.0388\n"
     ]
    }
   ],
   "source": [
    "# Wahrscheinlichkeit P(X>x)\n",
    "p_groesser = 1 - p_kleinergleich\n",
    "print(\"P(X>\" + str(x) + \") = \" + value_rounded_str(p_groesser))"
   ],
   "metadata": {
    "collapsed": false,
    "ExecuteTime": {
     "end_time": "2024-01-17T16:45:54.414708094Z",
     "start_time": "2024-01-17T16:45:54.408767046Z"
    }
   },
   "id": "9eee21abc148fe2a",
   "execution_count": 160
  }
 ],
 "metadata": {
  "kernelspec": {
   "display_name": "Python 3",
   "language": "python",
   "name": "python3"
  },
  "language_info": {
   "codemirror_mode": {
    "name": "ipython",
    "version": 2
   },
   "file_extension": ".py",
   "mimetype": "text/x-python",
   "name": "python",
   "nbconvert_exporter": "python",
   "pygments_lexer": "ipython2",
   "version": "2.7.6"
  }
 },
 "nbformat": 4,
 "nbformat_minor": 5
}
