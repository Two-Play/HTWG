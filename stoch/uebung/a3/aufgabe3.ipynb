{
 "cells": [
  {
   "cell_type": "markdown",
   "source": [
    "# Stochastik \n",
    "### Julian Nohl, Philippe Westenfelder\n",
    "## A 1.11"
   ],
   "metadata": {
    "collapsed": false
   },
   "id": "20f05251967bbde6"
  },
  {
   "cell_type": "markdown",
   "source": [
    "#### 1.11.1\n",
    "Geben Sie an, welche der Eigenschaften qualitativ, quantitativ, diskret, stetig auf das ebenfalls untersuchte Merkmal „Anzahl der Räder des Fahrzeugs“ zutrifft bzw. zutreffen. Begründen Sie Ihre Wahl (kurz).\n",
    "#### **Antwort: Quantitativ, diskret, da Räder elemente der Natürlichen Zahlen sind**"
   ],
   "metadata": {
    "collapsed": false
   },
   "id": "b2b43076000f7719"
  },
  {
   "cell_type": "code",
   "execution_count": 17,
   "outputs": [],
   "source": [
    "import numpy as np\n",
    "\n",
    "verbrauch_hersteller = [4.2, 3.9, 4.3, 4.1, 4.1]\n",
    "verbrauch_test = [4.8, 4.1, 4.8, 4.5, 4.4]"
   ],
   "metadata": {
    "collapsed": false,
    "ExecuteTime": {
     "end_time": "2023-11-07T14:26:45.910447Z",
     "start_time": "2023-11-07T14:26:45.907117Z"
    }
   },
   "id": "ac6ff8f7f6e8537b"
  },
  {
   "cell_type": "markdown",
   "source": [
    "#### 1.11.2"
   ],
   "metadata": {
    "collapsed": false
   },
   "id": "ef937b1705b0ff57"
  },
  {
   "cell_type": "code",
   "execution_count": 14,
   "outputs": [
    {
     "name": "stdout",
     "output_type": "stream",
     "text": [
      "a) Mean: 4.12\n",
      "b) 0,25 Quartil 4.1\n",
      "   0,5 Quartil 4.1\n",
      "   0,75 Quartil 4.2\n",
      "c) 10%-Quantil 3.98\n",
      "d) Spannweite 0.3999999999999999\n",
      "e) Standardabweichung 0.1483239697419133\n"
     ]
    }
   ],
   "source": [
    "print(\"a) Mean:\",np.mean(verbrauch_hersteller))\n",
    "print(\"b) 0,25 Quartil\", np.quantile(verbrauch_hersteller, 0.25))\n",
    "print(\"   0,5 Quartil\", np.quantile(verbrauch_hersteller, 0.5))\n",
    "print(\"   0,75 Quartil\", np.quantile(verbrauch_hersteller, 0.75))\n",
    "print(\"c) 10%-Quantil\", np.quantile(verbrauch_hersteller, 0.1))\n",
    "print(\"d) Spannweite\", np.max(verbrauch_hersteller) - np.min(verbrauch_hersteller))\n",
    "print(\"e) Standardabweichung\", np.std(verbrauch_hersteller, ddof=1))"
   ],
   "metadata": {
    "collapsed": false,
    "ExecuteTime": {
     "end_time": "2023-11-07T14:26:12.338819Z",
     "start_time": "2023-11-07T14:26:12.331003Z"
    }
   },
   "id": "ac28eb4235ec394f"
  },
  {
   "cell_type": "markdown",
   "source": [
    "#### 1.11.3\n",
    "A) Was bedeutet der Wert der empirischen Standardabweichung (Ihr Ergebnis aus Aufgabe 1.11.2?)\n",
    "für den Benzinverbrauch eines Autos (laut Hersteller)?  \n",
    "\n",
    "**Antwort: Die Standardabweichung gibt an wie stark die Werte um den Mittelwert streuen.**\n",
    "\n",
    "B) Alice interessiert sich dafür, inwieweit die Verbrauchsangaben der Hersteller und der im Test erzielte\n",
    "Benzinverbrauch vergleichbar sind. Daher erstellt Sie folgende Grafik:  \n",
    "\n",
    "**Antwort:**\n",
    "- **Der Mittelwert der Herstellerangaben ist deutlicher kleiner als beim Testergebnis**\n",
    "- **Die Standardabweichung der Herstellerangaben ist deutlich kleiner als beim Testergebnis**  \n",
    "\n",
    "**Dieser Sachverhalt kann natürlich in der Realität nicht so vorkommen, da Autohersteller sich definitiv immer an ihre Angaben halten und niemals durch Test herausgekommen ist, dass sie bei diesen gelogen hätten vor allem bei VW (Ironie aus)**\n",
    "\n",
    "\n",
    "**C) 0.961; Steigt die Herstellerangabe, steigt auch der Testwert. => keine negative Korrelation. Andere lassen sich ausschließen, da eine starke Korrelation vorliegt.**"
   ],
   "metadata": {
    "collapsed": false
   },
   "id": "d3bef513acce1a33"
  },
  {
   "cell_type": "code",
   "execution_count": 19,
   "outputs": [
    {
     "name": "stdout",
     "output_type": "stream",
     "text": [
      "[0.96001567 1.        ]\n"
     ]
    }
   ],
   "source": [
    "print(np.corrcoef(verbrauch_hersteller, verbrauch_test)[1])"
   ],
   "metadata": {
    "collapsed": false,
    "ExecuteTime": {
     "end_time": "2023-11-07T14:33:59.443884Z",
     "start_time": "2023-11-07T14:33:59.437063Z"
    }
   },
   "id": "f844b7f4ae2b0bae"
  },
  {
   "cell_type": "markdown",
   "source": [
    "Um abschätzen zu können, ob man aus der Herstellerangabe des Benzinverbrauchs das Testergebnis\n",
    "ausrechnen kann, berechnet Alice die Regressionsgerade für die beiden Datensätze und erhält hierfür\n",
    "das Bestimmtheitsmaß R\n",
    "$R^{2}$ = 0.92. Was bedeutet dieses? Ist die Anwendung der linearen Regression\n",
    "hier sinnvoll und zulässig? Begründen Sie Ihre Meinung.\n",
    "**Antwort: $R^{2}$ gibt an wie gut die Regression auf die Daten passt. Da $R^{2}$ = 0.92 ist, passt die Regression sehr gut auf die Daten. Die Anwendung der linearen Regression ist hier sinnvoll und zulässig.**"
   ],
   "metadata": {
    "collapsed": false
   },
   "id": "6781779069fe0ef1"
  },
  {
   "cell_type": "markdown",
   "source": [
    "#### 2.1"
   ],
   "metadata": {
    "collapsed": false
   },
   "id": "cfcb8aac2e3874ef"
  },
  {
   "cell_type": "markdown",
   "source": [
    "a) ${\\Omega}$ = {1, 2, 3, 4, 5, 6, 7, 8, 9, 10}\n",
    "b) Nein, ${A \\cap B = \\emptyset}$\n",
    "C) Ja, ${B \\cap C = \\{2\\}$\n",
    "D) $\\overline{A}$ = gerade Zahlen\n",
    "   $\\overline{A} = {\\Omega} \\setminus B$ = {1, 3, 4, 5, ..., 10}\n",
    "   $\\overline{A} = {\\Omega} \\setminus C$ = {1, 4, 5, ..., 10}"
   ],
   "metadata": {
    "collapsed": false
   },
   "id": "dfe3d52ff258e807"
  },
  {
   "cell_type": "markdown",
   "source": [
    "#### 2.1.2\n",
    "\n",
    "A) 1/10\n",
    "B) 5/10 = 1/2\n",
    "C) 7/10 \n",
    "D) 2/10 = 1/5 \n",
    "\n",
    "#### 2.1.3\n",
    "\n",
    "A) 1/10*1/10 = 1/100\n",
    "B) 1 - 9/10*9/10 = 1 - 81/100 = 19/100\n",
    "C) 3*(1/10) = 3/100 1,3; 3,1; 2,2\n",
    "D) 3*(1/10) = 3/100 10,10;10,9;9,10\n"
   ],
   "metadata": {
    "collapsed": false
   },
   "id": "a2785a1c3525823e"
  }
 ],
 "metadata": {
  "kernelspec": {
   "display_name": "Python 3",
   "language": "python",
   "name": "python3"
  },
  "language_info": {
   "codemirror_mode": {
    "name": "ipython",
    "version": 2
   },
   "file_extension": ".py",
   "mimetype": "text/x-python",
   "name": "python",
   "nbconvert_exporter": "python",
   "pygments_lexer": "ipython2",
   "version": "2.7.6"
  }
 },
 "nbformat": 4,
 "nbformat_minor": 5
}
