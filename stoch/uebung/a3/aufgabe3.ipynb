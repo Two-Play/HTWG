{
 "cells": [
  {
   "cell_type": "markdown",
   "source": [
    "# Stochastik \n",
    "### Julian Nohl, Philippe Westenfelder\n",
    "## A 1.11"
   ],
   "metadata": {
    "collapsed": false
   },
   "id": "20f05251967bbde6"
  },
  {
   "cell_type": "markdown",
   "source": [
    "#### 1.11.1\n",
    "Geben Sie an, welche der Eigenschaften qualitativ, quantitativ, diskret, stetig auf das ebenfalls untersuchte Merkmal „Anzahl der Räder des Fahrzeugs“ zutrifft bzw. zutreffen. Begründen Sie Ihre Wahl (kurz).\n",
    "#### **Antwort: Quantitativ, diskret, da Räder elemente der Natürlichen Zahlen sind**"
   ],
   "metadata": {
    "collapsed": false
   },
   "id": "b2b43076000f7719"
  },
  {
   "cell_type": "code",
   "execution_count": 2,
   "outputs": [],
   "source": [
    "import numpy as np\n",
    "\n",
    "verbrauch_hersteller = [4.2, 3.9, 4.3, 4.1, 4.1]\n",
    "verbrauch_test = [4.8, 4.1, 4.8, 4.5, 4.4]"
   ],
   "metadata": {
    "collapsed": false,
    "ExecuteTime": {
     "end_time": "2023-11-08T12:46:10.590759Z",
     "start_time": "2023-11-08T12:46:10.583088Z"
    }
   },
   "id": "ac6ff8f7f6e8537b"
  },
  {
   "cell_type": "markdown",
   "source": [
    "#### 1.11.2"
   ],
   "metadata": {
    "collapsed": false
   },
   "id": "ef937b1705b0ff57"
  },
  {
   "cell_type": "code",
   "execution_count": 3,
   "outputs": [
    {
     "name": "stdout",
     "output_type": "stream",
     "text": [
      "a) Mean: 4.12\n",
      "b) 0,25 Quartil 4.1\n",
      "   0,5 Quartil 4.1\n",
      "   0,75 Quartil 4.2\n",
      "c) 10%-Quantil 3.98\n",
      "d) Spannweite 0.3999999999999999\n",
      "e) Standardabweichung 0.1483239697419133\n"
     ]
    }
   ],
   "source": [
    "print(\"a) Mean:\",np.mean(verbrauch_hersteller))\n",
    "print(\"b) 0,25 Quartil\", np.quantile(verbrauch_hersteller, 0.25))\n",
    "print(\"   0,5 Quartil\", np.quantile(verbrauch_hersteller, 0.5))\n",
    "print(\"   0,75 Quartil\", np.quantile(verbrauch_hersteller, 0.75))\n",
    "print(\"c) 10%-Quantil\", np.quantile(verbrauch_hersteller, 0.1))\n",
    "print(\"d) Spannweite\", np.max(verbrauch_hersteller) - np.min(verbrauch_hersteller))\n",
    "print(\"e) Standardabweichung\", np.std(verbrauch_hersteller, ddof=1))"
   ],
   "metadata": {
    "collapsed": false,
    "ExecuteTime": {
     "end_time": "2023-11-08T12:46:10.600480Z",
     "start_time": "2023-11-08T12:46:10.588994Z"
    }
   },
   "id": "ac28eb4235ec394f"
  },
  {
   "cell_type": "markdown",
   "source": [
    "#### 1.11.3\n",
    "A) Was bedeutet der Wert der empirischen Standardabweichung (Ihr Ergebnis aus Aufgabe 1.11.2?)\n",
    "für den Benzinverbrauch eines Autos (laut Hersteller)?  \n",
    "\n",
    "**Antwort: Die Standardabweichung gibt an wie stark die Werte um den Mittelwert streuen.**\n",
    "\n",
    "B) Alice interessiert sich dafür, inwieweit die Verbrauchsangaben der Hersteller und der im Test erzielte\n",
    "Benzinverbrauch vergleichbar sind. Daher erstellt Sie folgende Grafik:  \n",
    "\n",
    "**Antwort:**\n",
    "- **Der Mittelwert der Herstellerangaben ist deutlicher kleiner als beim Testergebnis**\n",
    "- **Die Standardabweichung der Herstellerangaben ist deutlich kleiner als beim Testergebnis**  \n",
    "\n",
    "**Dieser Sachverhalt kann natürlich in der Realität nicht so vorkommen, da Autohersteller sich definitiv immer an ihre Angaben halten und niemals durch Test herausgekommen ist, dass sie bei diesen gelogen hätten vor allem bei VW (Ironie aus)**\n",
    "\n",
    "\n",
    "**C) 0.961; Steigt die Herstellerangabe, steigt auch der Testwert. => keine negative Korrelation. Andere lassen sich ausschließen, da eine starke Korrelation vorliegt.**"
   ],
   "metadata": {
    "collapsed": false
   },
   "id": "d3bef513acce1a33"
  },
  {
   "cell_type": "code",
   "execution_count": 4,
   "outputs": [
    {
     "name": "stdout",
     "output_type": "stream",
     "text": [
      "[0.96001567 1.        ]\n"
     ]
    }
   ],
   "source": [
    "print(np.corrcoef(verbrauch_hersteller, verbrauch_test)[1])"
   ],
   "metadata": {
    "collapsed": false,
    "ExecuteTime": {
     "end_time": "2023-11-08T12:46:10.620893Z",
     "start_time": "2023-11-08T12:46:10.596027Z"
    }
   },
   "id": "f844b7f4ae2b0bae"
  },
  {
   "cell_type": "markdown",
   "source": [
    "Um abschätzen zu können, ob man aus der Herstellerangabe des Benzinverbrauchs das Testergebnis\n",
    "ausrechnen kann, berechnet Alice die Regressionsgerade für die beiden Datensätze und erhält hierfür\n",
    "das Bestimmtheitsmaß R\n",
    "$R^{2} = 0.92$. Was bedeutet dieses? Ist die Anwendung der linearen Regression\n",
    "hier sinnvoll und zulässig? Begründen Sie Ihre Meinung.\n",
    "**Antwort: $R^{2}$ gibt an wie gut die Regression auf die Daten passt. Da $R^{2} = 0.92$ ist, passt die Regression sehr gut auf die Daten. Die Anwendung der linearen Regression ist hier sinnvoll und zulässig.**"
   ],
   "metadata": {
    "collapsed": false
   },
   "id": "6781779069fe0ef1"
  },
  {
   "cell_type": "markdown",
   "source": [
    "#### 2.1"
   ],
   "metadata": {
    "collapsed": false
   },
   "id": "cfcb8aac2e3874ef"
  },
  {
   "cell_type": "markdown",
   "source": [
    "a) ${\\Omega}$ = {1, 2, 3, 4, 5, 6, 7, 8, 9, 10}\n",
    "b) Nein, ${A \\cap B = \\emptyset}$\n",
    "C) Ja, ${B \\cap C = \\{2\\}$\n",
    "D) $\\overline{A}$ = gerade Zahlen\n",
    "   $\\overline{A} = {\\Omega} \\setminus B$ = {1, 3, 4, 5, ..., 10}\n",
    "   $\\overline{A} = {\\Omega} \\setminus C$ = {1, 4, 5, ..., 10}"
   ],
   "metadata": {
    "collapsed": false
   },
   "id": "dfe3d52ff258e807"
  },
  {
   "cell_type": "markdown",
   "source": [
    "#### 2.1.2\n",
    "A) 1/10\n",
    "B) 5/10 = 1/2\n",
    "C) 8/10 = 4/5\n",
    "D) 2/10 = 1/5 \n",
    "\n",
    "\n",
    "#### 2.1.3\n",
    "A) 1/10*1/10 = 1/100\n",
    "B) 1 - 9/10*9/10 = 1 - 81/100 = 19/100\n",
    "C) 3*(1/10) = 3/100 (1,3; 3,1; 2,2)\n",
    "D) 3*(1/10) = 3/100 (10,10;10,9;9,10)\n"
   ],
   "metadata": {
    "collapsed": false
   },
   "id": "a2785a1c3525823e"
  },
  {
   "cell_type": "code",
   "execution_count": 5,
   "outputs": [
    {
     "data": {
      "text/plain": "'en_US'"
     },
     "execution_count": 5,
     "metadata": {},
     "output_type": "execute_result"
    }
   ],
   "source": [
    "import pandas as pd\n",
    "import time\n",
    "import locale\n",
    "import matplotlib.pyplot as plt\n",
    "\n",
    "\n",
    "locale.setlocale(locale.LC_TIME, \"en_US\")"
   ],
   "metadata": {
    "collapsed": false,
    "ExecuteTime": {
     "end_time": "2023-11-08T12:46:11.802552Z",
     "start_time": "2023-11-08T12:46:10.600238Z"
    }
   },
   "id": "9584a1a0411e6bf2"
  },
  {
   "cell_type": "code",
   "execution_count": 6,
   "outputs": [
    {
     "data": {
      "text/plain": "     AppID                   Name  Release date Estimated owners  Peak CCU  \\\n0    20200       Galactic Bowling  Oct 21, 2008        0 - 20000         0   \n1   655370           Train Bandit  Oct 12, 2017        0 - 20000         0   \n2  1732930           Jolt Project  Nov 17, 2021        0 - 20000         0   \n3  1355720               Henosis™  Jul 23, 2020        0 - 20000         0   \n4  1139950  Two Weeks in Painland   Feb 3, 2020        0 - 20000         0   \n\n   Required age  Price  DLC count  \\\n0             0  19.99          0   \n1             0   0.99          0   \n2             0   4.99          0   \n3             0   5.99          0   \n4             0   0.00          0   \n\n                                      About the game  \\\n0  Galactic Bowling is an exaggerated and stylize...   \n1  THE LAW!! Looks to be a showdown atop a train....   \n2  Jolt Project: The army now has a new robotics ...   \n3  HENOSIS™ is a mysterious 2D Platform Puzzler w...   \n4  ABOUT THE GAME Play as a hacker who has arrang...   \n\n                                 Supported languages  ...  \\\n0                                        ['English']  ...   \n1  ['English', 'French', 'Italian', 'German', 'Sp...  ...   \n2                 ['English', 'Portuguese - Brazil']  ...   \n3  ['English', 'French', 'Italian', 'German', 'Sp...  ...   \n4                     ['English', 'Spanish - Spain']  ...   \n\n  Average playtime two weeks Median playtime forever  \\\n0                          0                       0   \n1                          0                       0   \n2                          0                       0   \n3                          0                       0   \n4                          0                       0   \n\n  Median playtime two weeks             Developers             Publishers  \\\n0                         0  Perpetual FX Creative  Perpetual FX Creative   \n1                         0           Rusty Moyher           Wild Rooster   \n2                         0          Campião Games          Campião Games   \n3                         0      Odd Critter Games      Odd Critter Games   \n4                         0          Unusual Games          Unusual Games   \n\n                                          Categories  \\\n0  Single-player,Multi-player,Steam Achievements,...   \n1  Single-player,Steam Achievements,Full controll...   \n2                                      Single-player   \n3              Single-player,Full controller support   \n4                   Single-player,Steam Achievements   \n\n                            Genres  \\\n0              Casual,Indie,Sports   \n1                     Action,Indie   \n2  Action,Adventure,Indie,Strategy   \n3           Adventure,Casual,Indie   \n4                  Adventure,Indie   \n\n                                                Tags  \\\n0                        Indie,Casual,Sports,Bowling   \n1  Indie,Action,Pixel Graphics,2D,Retro,Arcade,Sc...   \n2                                                NaN   \n3  2D Platformer,Atmospheric,Surreal,Mystery,Puzz...   \n4  Indie,Adventure,Nudity,Violent,Sexual Content,...   \n\n                                         Screenshots  \\\n0  https://cdn.akamai.steamstatic.com/steam/apps/...   \n1  https://cdn.akamai.steamstatic.com/steam/apps/...   \n2  https://cdn.akamai.steamstatic.com/steam/apps/...   \n3  https://cdn.akamai.steamstatic.com/steam/apps/...   \n4  https://cdn.akamai.steamstatic.com/steam/apps/...   \n\n                                              Movies  \n0  http://cdn.akamai.steamstatic.com/steam/apps/2...  \n1  http://cdn.akamai.steamstatic.com/steam/apps/2...  \n2  http://cdn.akamai.steamstatic.com/steam/apps/2...  \n3  http://cdn.akamai.steamstatic.com/steam/apps/2...  \n4  http://cdn.akamai.steamstatic.com/steam/apps/2...  \n\n[5 rows x 39 columns]",
      "text/html": "<div>\n<style scoped>\n    .dataframe tbody tr th:only-of-type {\n        vertical-align: middle;\n    }\n\n    .dataframe tbody tr th {\n        vertical-align: top;\n    }\n\n    .dataframe thead th {\n        text-align: right;\n    }\n</style>\n<table border=\"1\" class=\"dataframe\">\n  <thead>\n    <tr style=\"text-align: right;\">\n      <th></th>\n      <th>AppID</th>\n      <th>Name</th>\n      <th>Release date</th>\n      <th>Estimated owners</th>\n      <th>Peak CCU</th>\n      <th>Required age</th>\n      <th>Price</th>\n      <th>DLC count</th>\n      <th>About the game</th>\n      <th>Supported languages</th>\n      <th>...</th>\n      <th>Average playtime two weeks</th>\n      <th>Median playtime forever</th>\n      <th>Median playtime two weeks</th>\n      <th>Developers</th>\n      <th>Publishers</th>\n      <th>Categories</th>\n      <th>Genres</th>\n      <th>Tags</th>\n      <th>Screenshots</th>\n      <th>Movies</th>\n    </tr>\n  </thead>\n  <tbody>\n    <tr>\n      <th>0</th>\n      <td>20200</td>\n      <td>Galactic Bowling</td>\n      <td>Oct 21, 2008</td>\n      <td>0 - 20000</td>\n      <td>0</td>\n      <td>0</td>\n      <td>19.99</td>\n      <td>0</td>\n      <td>Galactic Bowling is an exaggerated and stylize...</td>\n      <td>['English']</td>\n      <td>...</td>\n      <td>0</td>\n      <td>0</td>\n      <td>0</td>\n      <td>Perpetual FX Creative</td>\n      <td>Perpetual FX Creative</td>\n      <td>Single-player,Multi-player,Steam Achievements,...</td>\n      <td>Casual,Indie,Sports</td>\n      <td>Indie,Casual,Sports,Bowling</td>\n      <td>https://cdn.akamai.steamstatic.com/steam/apps/...</td>\n      <td>http://cdn.akamai.steamstatic.com/steam/apps/2...</td>\n    </tr>\n    <tr>\n      <th>1</th>\n      <td>655370</td>\n      <td>Train Bandit</td>\n      <td>Oct 12, 2017</td>\n      <td>0 - 20000</td>\n      <td>0</td>\n      <td>0</td>\n      <td>0.99</td>\n      <td>0</td>\n      <td>THE LAW!! Looks to be a showdown atop a train....</td>\n      <td>['English', 'French', 'Italian', 'German', 'Sp...</td>\n      <td>...</td>\n      <td>0</td>\n      <td>0</td>\n      <td>0</td>\n      <td>Rusty Moyher</td>\n      <td>Wild Rooster</td>\n      <td>Single-player,Steam Achievements,Full controll...</td>\n      <td>Action,Indie</td>\n      <td>Indie,Action,Pixel Graphics,2D,Retro,Arcade,Sc...</td>\n      <td>https://cdn.akamai.steamstatic.com/steam/apps/...</td>\n      <td>http://cdn.akamai.steamstatic.com/steam/apps/2...</td>\n    </tr>\n    <tr>\n      <th>2</th>\n      <td>1732930</td>\n      <td>Jolt Project</td>\n      <td>Nov 17, 2021</td>\n      <td>0 - 20000</td>\n      <td>0</td>\n      <td>0</td>\n      <td>4.99</td>\n      <td>0</td>\n      <td>Jolt Project: The army now has a new robotics ...</td>\n      <td>['English', 'Portuguese - Brazil']</td>\n      <td>...</td>\n      <td>0</td>\n      <td>0</td>\n      <td>0</td>\n      <td>Campião Games</td>\n      <td>Campião Games</td>\n      <td>Single-player</td>\n      <td>Action,Adventure,Indie,Strategy</td>\n      <td>NaN</td>\n      <td>https://cdn.akamai.steamstatic.com/steam/apps/...</td>\n      <td>http://cdn.akamai.steamstatic.com/steam/apps/2...</td>\n    </tr>\n    <tr>\n      <th>3</th>\n      <td>1355720</td>\n      <td>Henosis™</td>\n      <td>Jul 23, 2020</td>\n      <td>0 - 20000</td>\n      <td>0</td>\n      <td>0</td>\n      <td>5.99</td>\n      <td>0</td>\n      <td>HENOSIS™ is a mysterious 2D Platform Puzzler w...</td>\n      <td>['English', 'French', 'Italian', 'German', 'Sp...</td>\n      <td>...</td>\n      <td>0</td>\n      <td>0</td>\n      <td>0</td>\n      <td>Odd Critter Games</td>\n      <td>Odd Critter Games</td>\n      <td>Single-player,Full controller support</td>\n      <td>Adventure,Casual,Indie</td>\n      <td>2D Platformer,Atmospheric,Surreal,Mystery,Puzz...</td>\n      <td>https://cdn.akamai.steamstatic.com/steam/apps/...</td>\n      <td>http://cdn.akamai.steamstatic.com/steam/apps/2...</td>\n    </tr>\n    <tr>\n      <th>4</th>\n      <td>1139950</td>\n      <td>Two Weeks in Painland</td>\n      <td>Feb 3, 2020</td>\n      <td>0 - 20000</td>\n      <td>0</td>\n      <td>0</td>\n      <td>0.00</td>\n      <td>0</td>\n      <td>ABOUT THE GAME Play as a hacker who has arrang...</td>\n      <td>['English', 'Spanish - Spain']</td>\n      <td>...</td>\n      <td>0</td>\n      <td>0</td>\n      <td>0</td>\n      <td>Unusual Games</td>\n      <td>Unusual Games</td>\n      <td>Single-player,Steam Achievements</td>\n      <td>Adventure,Indie</td>\n      <td>Indie,Adventure,Nudity,Violent,Sexual Content,...</td>\n      <td>https://cdn.akamai.steamstatic.com/steam/apps/...</td>\n      <td>http://cdn.akamai.steamstatic.com/steam/apps/2...</td>\n    </tr>\n  </tbody>\n</table>\n<p>5 rows × 39 columns</p>\n</div>"
     },
     "execution_count": 6,
     "metadata": {},
     "output_type": "execute_result"
    }
   ],
   "source": [
    "df = pd.read_csv(\"games.csv\")\n",
    "df.head()"
   ],
   "metadata": {
    "collapsed": false,
    "ExecuteTime": {
     "end_time": "2023-11-08T12:46:13.536520Z",
     "start_time": "2023-11-08T12:46:11.796794Z"
    }
   },
   "id": "130b811beca9fb25"
  },
  {
   "cell_type": "code",
   "execution_count": 7,
   "outputs": [
    {
     "data": {
      "text/plain": "0.006920927425832972"
     },
     "execution_count": 7,
     "metadata": {},
     "output_type": "execute_result"
    }
   ],
   "source": [
    "#Datum in Unix Timestamp umwandeln\n",
    "pattern = \"%b %d, %Y\"\n",
    "pattern2 = \"%b %Y\"\n",
    "dateArray = [] \n",
    "\n",
    "for d in df[\"Release date\"]:\n",
    "    if \",\" in d:\n",
    "        dateArray.append(int(time.mktime(time.strptime(d, pattern))))\n",
    "    else:\n",
    "        dateArray.append(int(time.mktime(time.strptime(d, pattern2))))\n",
    "    \n",
    "\n",
    "# todo: correlation peak ccu/price, price/release, price/dlc, price/achievements\n",
    "np.corrcoef(df[\"Peak CCU\"], df[\"Achievements\"])[1][0]"
   ],
   "metadata": {
    "collapsed": false,
    "ExecuteTime": {
     "end_time": "2023-11-08T12:46:14.057461Z",
     "start_time": "2023-11-08T12:46:13.577222Z"
    }
   },
   "id": "7c0d4930cc0ba4c"
  },
  {
   "cell_type": "code",
   "execution_count": 14,
   "outputs": [
    {
     "name": "stdout",
     "output_type": "stream",
     "text": [
      "         AppID                               Name  Release date  \\\n",
      "26936  1200520  Ascent Free-Roaming VR Experience  Dec 27, 2019   \n",
      "\n",
      "      Estimated owners  Peak CCU  Required age  Price  DLC count  \\\n",
      "26936        0 - 20000         0             0  999.0          0   \n",
      "\n",
      "                                          About the game Supported languages  \\\n",
      "26936  The Ascent is a Free-Roaming highly immersive ...         ['English']   \n",
      "\n",
      "       ... Average playtime two weeks Median playtime forever  \\\n",
      "26936  ...                          0                       0   \n",
      "\n",
      "      Median playtime two weeks  Developers  Publishers  \\\n",
      "26936                         0  Fury Games  Fury Games   \n",
      "\n",
      "                                       Categories  Genres  \\\n",
      "26936  Single-player,Multi-player,Co-op,LAN Co-op  Action   \n",
      "\n",
      "                                                    Tags  \\\n",
      "26936  Action,VR,Free to Play,Multiplayer,Arena Shoot...   \n",
      "\n",
      "                                             Screenshots  \\\n",
      "26936  https://cdn.akamai.steamstatic.com/steam/apps/...   \n",
      "\n",
      "                                                  Movies  \n",
      "26936  http://cdn.akamai.steamstatic.com/steam/apps/2...  \n",
      "\n",
      "[1 rows x 39 columns]\n",
      "range 999.0\n",
      "max 999.0\n",
      "min 0.0\n",
      "mean 7.223054827374643\n",
      "median 4.99\n",
      "std 11.072050658513142\n"
     ]
    },
    {
     "data": {
      "text/plain": "(array([7.1613e+04, 5.9000e+01, 4.2000e+01, 1.0000e+00, 0.0000e+00,\n        0.0000e+00, 0.0000e+00, 0.0000e+00, 0.0000e+00, 1.0000e+00]),\n array([  0. ,  99.9, 199.8, 299.7, 399.6, 499.5, 599.4, 699.3, 799.2,\n        899.1, 999. ]),\n <BarContainer object of 10 artists>)"
     },
     "execution_count": 14,
     "metadata": {},
     "output_type": "execute_result"
    },
    {
     "data": {
      "text/plain": "<Figure size 640x480 with 1 Axes>",
      "image/png": "[encoded data removed]"
     },
     "metadata": {},
     "output_type": "display_data"
    }
   ],
   "source": [
    "dataset = df[\"Price\"]\n",
    "\n",
    "\n",
    "\n",
    "print('range', np.max(dataset) - np.min(dataset))\n",
    "print('max', np.max(dataset))\n",
    "print('min', np.min(dataset))\n",
    "print('mean', np.mean(dataset))\n",
    "print('median', np.median(dataset))\n",
    "print('std', np.std(dataset, ddof=1))\n",
    "plt.hist(dataset)\n"
   ],
   "metadata": {
    "collapsed": false,
    "ExecuteTime": {
     "end_time": "2023-11-08T12:55:47.153551Z",
     "start_time": "2023-11-08T12:55:47.069459Z"
    }
   },
   "id": "d611d73a6a2b95e2"
  },
  {
   "cell_type": "code",
   "execution_count": 17,
   "outputs": [
    {
     "data": {
      "text/plain": "         AppID                                         Name  Release date  \\\n3492     24010                      Train Simulator Classic  Apr 21, 2022   \n6169    838380                              DEAD OR ALIVE 6  Feb 28, 2019   \n6690     24049                      Train Simulator Classic  Apr 21, 2022   \n7575    221680         Rocksmith® 2014 Edition - Remastered   Oct 4, 2016   \n16737    24085                      Train Simulator Classic  Apr 21, 2022   \n18119   314160  Microsoft Flight Simulator X: Steam Edition  Dec 18, 2014   \n19312   363890                                 RPG Maker MV  Oct 23, 2015   \n23291   252690                      Fantasy Grounds Classic   May 9, 2014   \n32933  1196310                        Fantasy Grounds Unity   Nov 5, 2020   \n32995    24058                      Train Simulator Classic  Apr 21, 2022   \n36048   220700                             RPG Maker VX Ace  Dec 10, 2012   \n36675  1784570               Trainz Railroad Simulator 2022  May 30, 2022   \n42803  1096900                                 RPG Maker MZ  Aug 27, 2020   \n44976    24043                      Train Simulator Classic  Apr 21, 2022   \n\n        Estimated owners  Peak CCU  Required age  Price  DLC count  \\\n3492   1000000 - 2000000      1286             0  24.99        678   \n6169     200000 - 500000       116             0  59.99        461   \n6690           0 - 20000         0             0  24.99        678   \n7575    500000 - 1000000      1174             0  29.99       1555   \n16737          0 - 20000         0             0  24.99        678   \n18119  2000000 - 5000000      1165             0  24.99        260   \n19312    200000 - 500000      1016             0  15.99        579   \n23291    100000 - 200000        55             0  39.99       1968   \n32933      20000 - 50000       145             0  39.99       2366   \n32995          0 - 20000         0             0  24.99        678   \n36048    100000 - 200000       218             0  10.49        343   \n36675          0 - 20000        16             0  69.99        214   \n42803      20000 - 50000       516             0  47.99        386   \n44976          0 - 20000         0             0  24.99        678   \n\n                                          About the game  \\\n3492   YOUR CLASSIC RAIL HOBBY Welcome to the ultimat...   \n6169   Game contain In-Game Purchases DEAD OR ALIVE 6...   \n6690   YOUR CLASSIC RAIL HOBBY Welcome to the ultimat...   \n7575   The fastest way to learn guitar is now better ...   \n16737  YOUR CLASSIC RAIL HOBBY Welcome to the ultimat...   \n18119  Take to the skies in the World’s favourite fli...   \n19312  POWERFUL enough for a developer SIMPLE enough ...   \n23291  Warning - You should purchase Fantasy Grounds ...   \n32933  Prep Less. Play Better. Fantasy Grounds is kno...   \n32995  YOUR CLASSIC RAIL HOBBY Welcome to the ultimat...   \n36048  Simple Enough for a Child. Powerful Enough for...   \n36675  Trainz provides something for every train fan....   \n42803  The RPG Maker Series' Newest Offering: RPG Mak...   \n44976  YOUR CLASSIC RAIL HOBBY Welcome to the ultimat...   \n\n                                     Supported languages  ...  \\\n3492   ['English', 'French', 'Italian', 'German', 'Sp...  ...   \n6169   ['English', 'French', 'Italian', 'German', 'Sp...  ...   \n6690   ['English', 'French', 'Italian', 'German', 'Sp...  ...   \n7575   ['English', 'German', 'French', 'Italian', 'Sp...  ...   \n16737  ['English', 'French', 'Italian', 'German', 'Sp...  ...   \n18119                                        ['English']  ...   \n19312  ['English', 'French', 'Italian', 'German', 'Sp...  ...   \n23291                                        ['English']  ...   \n32933                                        ['English']  ...   \n32995  ['English', 'French', 'Italian', 'German', 'Sp...  ...   \n36048  ['English', 'French', 'German', 'Spanish - Spa...  ...   \n36675  ['English', 'Italian', 'Spanish - Spain', 'Cze...  ...   \n42803  ['English', 'Japanese', 'French', 'Italian', '...  ...   \n44976  ['English', 'French', 'Italian', 'German', 'Sp...  ...   \n\n      Average playtime two weeks Median playtime forever  \\\n3492                           0                     434   \n6169                        1904                     101   \n6690                           0                       0   \n7575                         433                     710   \n16737                          0                       0   \n18119                         68                     427   \n19312                        298                     734   \n23291                          0                    3702   \n32933                          0                     888   \n32995                          0                       0   \n36048                          4                     219   \n36675                          0                       0   \n42803                          0                    1353   \n44976                          0                       0   \n\n      Median playtime two weeks                               Developers  \\\n3492                          0                           Dovetail Games   \n6169                       1904               KOEI TECMO GAMES CO., LTD.   \n6690                          0                           Dovetail Games   \n7575                        610                  Ubisoft - San Francisco   \n16737                         0                           Dovetail Games   \n18119                        68                   Microsoft Game Studios   \n19312                       460  Gotcha Gotcha Games,KADOKAWA,Yoji Ojima   \n23291                         0                      SmiteWorks USA, LLC   \n32933                         0                      SmiteWorks USA, LLC   \n32995                         0                           Dovetail Games   \n36048                         4  Gotcha Gotcha Games,KADOKAWA,Yoji Ojima   \n36675                         0                                N3V Games   \n42803                         0  Gotcha Gotcha Games,KADOKAWA,Yoji Ojima   \n44976                         0                           Dovetail Games   \n\n                       Publishers  \\\n3492      Dovetail Games - Trains   \n6169   KOEI TECMO GAMES CO., LTD.   \n6690      Dovetail Games - Trains   \n7575                      Ubisoft   \n16737     Dovetail Games - Trains   \n18119           Xbox Game Studios   \n19312                      Degica   \n23291         SmiteWorks USA, LLC   \n32933         SmiteWorks USA, LLC   \n32995     Dovetail Games - Trains   \n36048                      Degica   \n36675                   N3V Games   \n42803                      Degica   \n44976     Dovetail Games - Trains   \n\n                                              Categories  \\\n3492   Single-player,Steam Achievements,Full controll...   \n6169   Single-player,Multi-player,PvP,Online PvP,Shar...   \n6690   Single-player,Steam Achievements,Full controll...   \n7575   Single-player,Multi-player,Shared/Split Screen...   \n16737  Single-player,Steam Achievements,Full controll...   \n18119  Single-player,Multi-player,Partial Controller ...   \n19312  Steam Trading Cards,Steam Workshop,Partial Con...   \n23291      Multi-player,Co-op,Cross-Platform Multiplayer   \n32933  Single-player,Multi-player,Co-op,Online Co-op,...   \n32995  Single-player,Steam Achievements,Full controll...   \n36048                 Steam Trading Cards,Steam Workshop   \n36675  Single-player,Multi-player,Co-op,Online Co-op,...   \n42803          Steam Workshop,Partial Controller Support   \n44976  Single-player,Steam Achievements,Full controll...   \n\n                                         Genres  \\\n3492                                 Simulation   \n6169                                     Action   \n6690                                 Simulation   \n7575                          Casual,Simulation   \n16737                                Simulation   \n18119                                Simulation   \n19312      Design & Illustration,Web Publishing   \n23291                        Indie,RPG,Strategy   \n32933                        Indie,RPG,Strategy   \n32995                                Simulation   \n36048      Design & Illustration,Web Publishing   \n36675                                Simulation   \n42803  RPG,Design & Illustration,Web Publishing   \n44976                                Simulation   \n\n                                                    Tags  \\\n3492   Simulation,Trains,Singleplayer,Realistic,Drivi...   \n6169   Fighting,Sexual Content,Action,Nudity,Female P...   \n6690   Simulation,Trains,Singleplayer,Driving,Realist...   \n7575   Music,Education,Simulation,Rhythm,Great Soundt...   \n16737  Simulation,Trains,Singleplayer,Driving,Realist...   \n18119  Flight,Simulation,Realistic,Open World,Multipl...   \n19312  RPGMaker,Game Development,RPG,Anime,GameMaker,...   \n23291  RPG,Software,Strategy,Online Co-Op,Dungeons & ...   \n32933  RPG,Dungeons & Dragons,Strategy,Indie,Software...   \n32995  Simulation,Trains,Singleplayer,Driving,Realist...   \n36048  Game Development,RPG,RPGMaker,Design & Illustr...   \n36675  Simulation,Trains,Level Editor,Multiplayer,San...   \n42803  RPG,Anime,Game Development,RPGMaker,JRPG,Party...   \n44976  Simulation,Trains,Singleplayer,Driving,Realist...   \n\n                                             Screenshots  \\\n3492   https://cdn.akamai.steamstatic.com/steam/apps/...   \n6169   https://cdn.akamai.steamstatic.com/steam/apps/...   \n6690   https://cdn.akamai.steamstatic.com/steam/apps/...   \n7575   https://cdn.akamai.steamstatic.com/steam/apps/...   \n16737  https://cdn.akamai.steamstatic.com/steam/apps/...   \n18119  https://cdn.akamai.steamstatic.com/steam/apps/...   \n19312  https://cdn.akamai.steamstatic.com/steam/apps/...   \n23291  https://cdn.akamai.steamstatic.com/steam/apps/...   \n32933  https://cdn.akamai.steamstatic.com/steam/apps/...   \n32995  https://cdn.akamai.steamstatic.com/steam/apps/...   \n36048  https://cdn.akamai.steamstatic.com/steam/apps/...   \n36675  https://cdn.akamai.steamstatic.com/steam/apps/...   \n42803  https://cdn.akamai.steamstatic.com/steam/apps/...   \n44976  https://cdn.akamai.steamstatic.com/steam/apps/...   \n\n                                                  Movies  \n3492   http://cdn.akamai.steamstatic.com/steam/apps/2...  \n6169   http://cdn.akamai.steamstatic.com/steam/apps/2...  \n6690   http://cdn.akamai.steamstatic.com/steam/apps/2...  \n7575   http://cdn.akamai.steamstatic.com/steam/apps/2...  \n16737  http://cdn.akamai.steamstatic.com/steam/apps/2...  \n18119  http://cdn.akamai.steamstatic.com/steam/apps/2...  \n19312  http://cdn.akamai.steamstatic.com/steam/apps/2...  \n23291  http://cdn.akamai.steamstatic.com/steam/apps/2...  \n32933  http://cdn.akamai.steamstatic.com/steam/apps/2...  \n32995  http://cdn.akamai.steamstatic.com/steam/apps/2...  \n36048  http://cdn.akamai.steamstatic.com/steam/apps/2...  \n36675  http://cdn.akamai.steamstatic.com/steam/apps/2...  \n42803  http://cdn.akamai.steamstatic.com/steam/apps/2...  \n44976  http://cdn.akamai.steamstatic.com/steam/apps/2...  \n\n[14 rows x 39 columns]",
      "text/html": "<div>\n<style scoped>\n    .dataframe tbody tr th:only-of-type {\n        vertical-align: middle;\n    }\n\n    .dataframe tbody tr th {\n        vertical-align: top;\n    }\n\n    .dataframe thead th {\n        text-align: right;\n    }\n</style>\n<table border=\"1\" class=\"dataframe\">\n  <thead>\n    <tr style=\"text-align: right;\">\n      <th></th>\n      <th>AppID</th>\n      <th>Name</th>\n      <th>Release date</th>\n      <th>Estimated owners</th>\n      <th>Peak CCU</th>\n      <th>Required age</th>\n      <th>Price</th>\n      <th>DLC count</th>\n      <th>About the game</th>\n      <th>Supported languages</th>\n      <th>...</th>\n      <th>Average playtime two weeks</th>\n      <th>Median playtime forever</th>\n      <th>Median playtime two weeks</th>\n      <th>Developers</th>\n      <th>Publishers</th>\n      <th>Categories</th>\n      <th>Genres</th>\n      <th>Tags</th>\n      <th>Screenshots</th>\n      <th>Movies</th>\n    </tr>\n  </thead>\n  <tbody>\n    <tr>\n      <th>3492</th>\n      <td>24010</td>\n      <td>Train Simulator Classic</td>\n      <td>Apr 21, 2022</td>\n      <td>1000000 - 2000000</td>\n      <td>1286</td>\n      <td>0</td>\n      <td>24.99</td>\n      <td>678</td>\n      <td>YOUR CLASSIC RAIL HOBBY Welcome to the ultimat...</td>\n      <td>['English', 'French', 'Italian', 'German', 'Sp...</td>\n      <td>...</td>\n      <td>0</td>\n      <td>434</td>\n      <td>0</td>\n      <td>Dovetail Games</td>\n      <td>Dovetail Games - Trains</td>\n      <td>Single-player,Steam Achievements,Full controll...</td>\n      <td>Simulation</td>\n      <td>Simulation,Trains,Singleplayer,Realistic,Drivi...</td>\n      <td>https://cdn.akamai.steamstatic.com/steam/apps/...</td>\n      <td>http://cdn.akamai.steamstatic.com/steam/apps/2...</td>\n    </tr>\n    <tr>\n      <th>6169</th>\n      <td>838380</td>\n      <td>DEAD OR ALIVE 6</td>\n      <td>Feb 28, 2019</td>\n      <td>200000 - 500000</td>\n      <td>116</td>\n      <td>0</td>\n      <td>59.99</td>\n      <td>461</td>\n      <td>Game contain In-Game Purchases DEAD OR ALIVE 6...</td>\n      <td>['English', 'French', 'Italian', 'German', 'Sp...</td>\n      <td>...</td>\n      <td>1904</td>\n      <td>101</td>\n      <td>1904</td>\n      <td>KOEI TECMO GAMES CO., LTD.</td>\n      <td>KOEI TECMO GAMES CO., LTD.</td>\n      <td>Single-player,Multi-player,PvP,Online PvP,Shar...</td>\n      <td>Action</td>\n      <td>Fighting,Sexual Content,Action,Nudity,Female P...</td>\n      <td>https://cdn.akamai.steamstatic.com/steam/apps/...</td>\n      <td>http://cdn.akamai.steamstatic.com/steam/apps/2...</td>\n    </tr>\n    <tr>\n      <th>6690</th>\n      <td>24049</td>\n      <td>Train Simulator Classic</td>\n      <td>Apr 21, 2022</td>\n      <td>0 - 20000</td>\n      <td>0</td>\n      <td>0</td>\n      <td>24.99</td>\n      <td>678</td>\n      <td>YOUR CLASSIC RAIL HOBBY Welcome to the ultimat...</td>\n      <td>['English', 'French', 'Italian', 'German', 'Sp...</td>\n      <td>...</td>\n      <td>0</td>\n      <td>0</td>\n      <td>0</td>\n      <td>Dovetail Games</td>\n      <td>Dovetail Games - Trains</td>\n      <td>Single-player,Steam Achievements,Full controll...</td>\n      <td>Simulation</td>\n      <td>Simulation,Trains,Singleplayer,Driving,Realist...</td>\n      <td>https://cdn.akamai.steamstatic.com/steam/apps/...</td>\n      <td>http://cdn.akamai.steamstatic.com/steam/apps/2...</td>\n    </tr>\n    <tr>\n      <th>7575</th>\n      <td>221680</td>\n      <td>Rocksmith® 2014 Edition - Remastered</td>\n      <td>Oct 4, 2016</td>\n      <td>500000 - 1000000</td>\n      <td>1174</td>\n      <td>0</td>\n      <td>29.99</td>\n      <td>1555</td>\n      <td>The fastest way to learn guitar is now better ...</td>\n      <td>['English', 'German', 'French', 'Italian', 'Sp...</td>\n      <td>...</td>\n      <td>433</td>\n      <td>710</td>\n      <td>610</td>\n      <td>Ubisoft - San Francisco</td>\n      <td>Ubisoft</td>\n      <td>Single-player,Multi-player,Shared/Split Screen...</td>\n      <td>Casual,Simulation</td>\n      <td>Music,Education,Simulation,Rhythm,Great Soundt...</td>\n      <td>https://cdn.akamai.steamstatic.com/steam/apps/...</td>\n      <td>http://cdn.akamai.steamstatic.com/steam/apps/2...</td>\n    </tr>\n    <tr>\n      <th>16737</th>\n      <td>24085</td>\n      <td>Train Simulator Classic</td>\n      <td>Apr 21, 2022</td>\n      <td>0 - 20000</td>\n      <td>0</td>\n      <td>0</td>\n      <td>24.99</td>\n      <td>678</td>\n      <td>YOUR CLASSIC RAIL HOBBY Welcome to the ultimat...</td>\n      <td>['English', 'French', 'Italian', 'German', 'Sp...</td>\n      <td>...</td>\n      <td>0</td>\n      <td>0</td>\n      <td>0</td>\n      <td>Dovetail Games</td>\n      <td>Dovetail Games - Trains</td>\n      <td>Single-player,Steam Achievements,Full controll...</td>\n      <td>Simulation</td>\n      <td>Simulation,Trains,Singleplayer,Driving,Realist...</td>\n      <td>https://cdn.akamai.steamstatic.com/steam/apps/...</td>\n      <td>http://cdn.akamai.steamstatic.com/steam/apps/2...</td>\n    </tr>\n    <tr>\n      <th>18119</th>\n      <td>314160</td>\n      <td>Microsoft Flight Simulator X: Steam Edition</td>\n      <td>Dec 18, 2014</td>\n      <td>2000000 - 5000000</td>\n      <td>1165</td>\n      <td>0</td>\n      <td>24.99</td>\n      <td>260</td>\n      <td>Take to the skies in the World’s favourite fli...</td>\n      <td>['English']</td>\n      <td>...</td>\n      <td>68</td>\n      <td>427</td>\n      <td>68</td>\n      <td>Microsoft Game Studios</td>\n      <td>Xbox Game Studios</td>\n      <td>Single-player,Multi-player,Partial Controller ...</td>\n      <td>Simulation</td>\n      <td>Flight,Simulation,Realistic,Open World,Multipl...</td>\n      <td>https://cdn.akamai.steamstatic.com/steam/apps/...</td>\n      <td>http://cdn.akamai.steamstatic.com/steam/apps/2...</td>\n    </tr>\n    <tr>\n      <th>19312</th>\n      <td>363890</td>\n      <td>RPG Maker MV</td>\n      <td>Oct 23, 2015</td>\n      <td>200000 - 500000</td>\n      <td>1016</td>\n      <td>0</td>\n      <td>15.99</td>\n      <td>579</td>\n      <td>POWERFUL enough for a developer SIMPLE enough ...</td>\n      <td>['English', 'French', 'Italian', 'German', 'Sp...</td>\n      <td>...</td>\n      <td>298</td>\n      <td>734</td>\n      <td>460</td>\n      <td>Gotcha Gotcha Games,KADOKAWA,Yoji Ojima</td>\n      <td>Degica</td>\n      <td>Steam Trading Cards,Steam Workshop,Partial Con...</td>\n      <td>Design &amp; Illustration,Web Publishing</td>\n      <td>RPGMaker,Game Development,RPG,Anime,GameMaker,...</td>\n      <td>https://cdn.akamai.steamstatic.com/steam/apps/...</td>\n      <td>http://cdn.akamai.steamstatic.com/steam/apps/2...</td>\n    </tr>\n    <tr>\n      <th>23291</th>\n      <td>252690</td>\n      <td>Fantasy Grounds Classic</td>\n      <td>May 9, 2014</td>\n      <td>100000 - 200000</td>\n      <td>55</td>\n      <td>0</td>\n      <td>39.99</td>\n      <td>1968</td>\n      <td>Warning - You should purchase Fantasy Grounds ...</td>\n      <td>['English']</td>\n      <td>...</td>\n      <td>0</td>\n      <td>3702</td>\n      <td>0</td>\n      <td>SmiteWorks USA, LLC</td>\n      <td>SmiteWorks USA, LLC</td>\n      <td>Multi-player,Co-op,Cross-Platform Multiplayer</td>\n      <td>Indie,RPG,Strategy</td>\n      <td>RPG,Software,Strategy,Online Co-Op,Dungeons &amp; ...</td>\n      <td>https://cdn.akamai.steamstatic.com/steam/apps/...</td>\n      <td>http://cdn.akamai.steamstatic.com/steam/apps/2...</td>\n    </tr>\n    <tr>\n      <th>32933</th>\n      <td>1196310</td>\n      <td>Fantasy Grounds Unity</td>\n      <td>Nov 5, 2020</td>\n      <td>20000 - 50000</td>\n      <td>145</td>\n      <td>0</td>\n      <td>39.99</td>\n      <td>2366</td>\n      <td>Prep Less. Play Better. Fantasy Grounds is kno...</td>\n      <td>['English']</td>\n      <td>...</td>\n      <td>0</td>\n      <td>888</td>\n      <td>0</td>\n      <td>SmiteWorks USA, LLC</td>\n      <td>SmiteWorks USA, LLC</td>\n      <td>Single-player,Multi-player,Co-op,Online Co-op,...</td>\n      <td>Indie,RPG,Strategy</td>\n      <td>RPG,Dungeons &amp; Dragons,Strategy,Indie,Software...</td>\n      <td>https://cdn.akamai.steamstatic.com/steam/apps/...</td>\n      <td>http://cdn.akamai.steamstatic.com/steam/apps/2...</td>\n    </tr>\n    <tr>\n      <th>32995</th>\n      <td>24058</td>\n      <td>Train Simulator Classic</td>\n      <td>Apr 21, 2022</td>\n      <td>0 - 20000</td>\n      <td>0</td>\n      <td>0</td>\n      <td>24.99</td>\n      <td>678</td>\n      <td>YOUR CLASSIC RAIL HOBBY Welcome to the ultimat...</td>\n      <td>['English', 'French', 'Italian', 'German', 'Sp...</td>\n      <td>...</td>\n      <td>0</td>\n      <td>0</td>\n      <td>0</td>\n      <td>Dovetail Games</td>\n      <td>Dovetail Games - Trains</td>\n      <td>Single-player,Steam Achievements,Full controll...</td>\n      <td>Simulation</td>\n      <td>Simulation,Trains,Singleplayer,Driving,Realist...</td>\n      <td>https://cdn.akamai.steamstatic.com/steam/apps/...</td>\n      <td>http://cdn.akamai.steamstatic.com/steam/apps/2...</td>\n    </tr>\n    <tr>\n      <th>36048</th>\n      <td>220700</td>\n      <td>RPG Maker VX Ace</td>\n      <td>Dec 10, 2012</td>\n      <td>100000 - 200000</td>\n      <td>218</td>\n      <td>0</td>\n      <td>10.49</td>\n      <td>343</td>\n      <td>Simple Enough for a Child. Powerful Enough for...</td>\n      <td>['English', 'French', 'German', 'Spanish - Spa...</td>\n      <td>...</td>\n      <td>4</td>\n      <td>219</td>\n      <td>4</td>\n      <td>Gotcha Gotcha Games,KADOKAWA,Yoji Ojima</td>\n      <td>Degica</td>\n      <td>Steam Trading Cards,Steam Workshop</td>\n      <td>Design &amp; Illustration,Web Publishing</td>\n      <td>Game Development,RPG,RPGMaker,Design &amp; Illustr...</td>\n      <td>https://cdn.akamai.steamstatic.com/steam/apps/...</td>\n      <td>http://cdn.akamai.steamstatic.com/steam/apps/2...</td>\n    </tr>\n    <tr>\n      <th>36675</th>\n      <td>1784570</td>\n      <td>Trainz Railroad Simulator 2022</td>\n      <td>May 30, 2022</td>\n      <td>0 - 20000</td>\n      <td>16</td>\n      <td>0</td>\n      <td>69.99</td>\n      <td>214</td>\n      <td>Trainz provides something for every train fan....</td>\n      <td>['English', 'Italian', 'Spanish - Spain', 'Cze...</td>\n      <td>...</td>\n      <td>0</td>\n      <td>0</td>\n      <td>0</td>\n      <td>N3V Games</td>\n      <td>N3V Games</td>\n      <td>Single-player,Multi-player,Co-op,Online Co-op,...</td>\n      <td>Simulation</td>\n      <td>Simulation,Trains,Level Editor,Multiplayer,San...</td>\n      <td>https://cdn.akamai.steamstatic.com/steam/apps/...</td>\n      <td>http://cdn.akamai.steamstatic.com/steam/apps/2...</td>\n    </tr>\n    <tr>\n      <th>42803</th>\n      <td>1096900</td>\n      <td>RPG Maker MZ</td>\n      <td>Aug 27, 2020</td>\n      <td>20000 - 50000</td>\n      <td>516</td>\n      <td>0</td>\n      <td>47.99</td>\n      <td>386</td>\n      <td>The RPG Maker Series' Newest Offering: RPG Mak...</td>\n      <td>['English', 'Japanese', 'French', 'Italian', '...</td>\n      <td>...</td>\n      <td>0</td>\n      <td>1353</td>\n      <td>0</td>\n      <td>Gotcha Gotcha Games,KADOKAWA,Yoji Ojima</td>\n      <td>Degica</td>\n      <td>Steam Workshop,Partial Controller Support</td>\n      <td>RPG,Design &amp; Illustration,Web Publishing</td>\n      <td>RPG,Anime,Game Development,RPGMaker,JRPG,Party...</td>\n      <td>https://cdn.akamai.steamstatic.com/steam/apps/...</td>\n      <td>http://cdn.akamai.steamstatic.com/steam/apps/2...</td>\n    </tr>\n    <tr>\n      <th>44976</th>\n      <td>24043</td>\n      <td>Train Simulator Classic</td>\n      <td>Apr 21, 2022</td>\n      <td>0 - 20000</td>\n      <td>0</td>\n      <td>0</td>\n      <td>24.99</td>\n      <td>678</td>\n      <td>YOUR CLASSIC RAIL HOBBY Welcome to the ultimat...</td>\n      <td>['English', 'French', 'Italian', 'German', 'Sp...</td>\n      <td>...</td>\n      <td>0</td>\n      <td>0</td>\n      <td>0</td>\n      <td>Dovetail Games</td>\n      <td>Dovetail Games - Trains</td>\n      <td>Single-player,Steam Achievements,Full controll...</td>\n      <td>Simulation</td>\n      <td>Simulation,Trains,Singleplayer,Driving,Realist...</td>\n      <td>https://cdn.akamai.steamstatic.com/steam/apps/...</td>\n      <td>http://cdn.akamai.steamstatic.com/steam/apps/2...</td>\n    </tr>\n  </tbody>\n</table>\n<p>14 rows × 39 columns</p>\n</div>"
     },
     "execution_count": 17,
     "metadata": {},
     "output_type": "execute_result"
    }
   ],
   "source": [
    "df[df[\"DLC count\"] > 200]"
   ],
   "metadata": {
    "collapsed": false,
    "ExecuteTime": {
     "end_time": "2023-11-08T12:57:40.384737Z",
     "start_time": "2023-11-08T12:57:40.366897Z"
    }
   },
   "id": "24fc6b6f0d5b4d60"
  }
 ],
 "metadata": {
  "kernelspec": {
   "display_name": "Python 3",
   "language": "python",
   "name": "python3"
  },
  "language_info": {
   "codemirror_mode": {
    "name": "ipython",
    "version": 2
   },
   "file_extension": ".py",
   "mimetype": "text/x-python",
   "name": "python",
   "nbconvert_exporter": "python",
   "pygments_lexer": "ipython2",
   "version": "2.7.6"
  }
 },
 "nbformat": 4,
 "nbformat_minor": 5
}
