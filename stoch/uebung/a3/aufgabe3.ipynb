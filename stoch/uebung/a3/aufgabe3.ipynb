{
 "cells": [
  {
   "cell_type": "markdown",
   "source": [
    "# Stochastik \n",
    "### Julian Nohl, Philippe Westenfelder\n",
    "## A 1.11"
   ],
   "metadata": {
    "collapsed": false
   },
   "id": "20f05251967bbde6"
  },
  {
   "cell_type": "markdown",
   "source": [
    "#### 1.11.1\n",
    "Geben Sie an, welche der Eigenschaften qualitativ, quantitativ, diskret, stetig auf das ebenfalls untersuchte Merkmal „Anzahl der Räder des Fahrzeugs“ zutrifft bzw. zutreffen. Begründen Sie Ihre Wahl (kurz).\n",
    "#### **Antwort: Quantitativ, diskret, da Räder elemente der Natürlichen Zahlen sind**"
   ],
   "metadata": {
    "collapsed": false
   },
   "id": "b2b43076000f7719"
  },
  {
   "cell_type": "code",
   "execution_count": 2,
   "outputs": [],
   "source": [
    "import numpy as np\n",
    "\n",
    "verbrauch_hersteller = [4.2, 3.9, 4.3, 4.1, 4.1]\n",
    "verbrauch_test = [4.8, 4.1, 4.8, 4.5, 4.4]"
   ],
   "metadata": {
    "collapsed": false,
    "ExecuteTime": {
     "end_time": "2023-11-08T12:46:10.590759Z",
     "start_time": "2023-11-08T12:46:10.583088Z"
    }
   },
   "id": "ac6ff8f7f6e8537b"
  },
  {
   "cell_type": "markdown",
   "source": [
    "#### 1.11.2"
   ],
   "metadata": {
    "collapsed": false
   },
   "id": "ef937b1705b0ff57"
  },
  {
   "cell_type": "code",
   "execution_count": 3,
   "outputs": [
    {
     "name": "stdout",
     "output_type": "stream",
     "text": [
      "a) Mean: 4.12\n",
      "b) 0,25 Quartil 4.1\n",
      "   0,5 Quartil 4.1\n",
      "   0,75 Quartil 4.2\n",
      "c) 10%-Quantil 3.98\n",
      "d) Spannweite 0.3999999999999999\n",
      "e) Standardabweichung 0.1483239697419133\n"
     ]
    }
   ],
   "source": [
    "print(\"a) Mean:\",np.mean(verbrauch_hersteller))\n",
    "print(\"b) 0,25 Quartil\", np.quantile(verbrauch_hersteller, 0.25))\n",
    "print(\"   0,5 Quartil\", np.quantile(verbrauch_hersteller, 0.5))\n",
    "print(\"   0,75 Quartil\", np.quantile(verbrauch_hersteller, 0.75))\n",
    "print(\"c) 10%-Quantil\", np.quantile(verbrauch_hersteller, 0.1))\n",
    "print(\"d) Spannweite\", np.max(verbrauch_hersteller) - np.min(verbrauch_hersteller))\n",
    "print(\"e) Standardabweichung\", np.std(verbrauch_hersteller, ddof=1))"
   ],
   "metadata": {
    "collapsed": false,
    "ExecuteTime": {
     "end_time": "2023-11-08T12:46:10.600480Z",
     "start_time": "2023-11-08T12:46:10.588994Z"
    }
   },
   "id": "ac28eb4235ec394f"
  },
  {
   "cell_type": "markdown",
   "source": [],
   "metadata": {
    "collapsed": false
   },
   "id": "9c8c0e790ea637ac"
  },
  {
   "cell_type": "markdown",
   "source": [
    "#### 1.11.3\n",
    "A) Was bedeutet der Wert der empirischen Standardabweichung (Ihr Ergebnis aus Aufgabe 1.11.2?)\n",
    "für den Benzinverbrauch eines Autos (laut Hersteller)?  \n",
    "\n",
    "**Antwort: Die Standardabweichung gibt an wie stark die Werte um den Mittelwert streuen.**\n",
    "\n",
    "B) Alice interessiert sich dafür, inwieweit die Verbrauchsangaben der Hersteller und der im Test erzielte\n",
    "Benzinverbrauch vergleichbar sind. Daher erstellt Sie folgende Grafik:  \n",
    "\n",
    "**Antwort:**\n",
    "- **Der Mittelwert der Herstellerangaben ist deutlicher kleiner als beim Testergebnis**\n",
    "- **Die Standardabweichung der Herstellerangaben ist deutlich kleiner als beim Testergebnis**  \n",
    "\n",
    "**Dieser Sachverhalt kann natürlich in der Realität nicht so vorkommen, da Autohersteller sich definitiv immer an ihre Angaben halten und niemals durch Test herausgekommen ist, dass sie bei diesen gelogen hätten vor allem bei VW (Ironie aus)**\n",
    "\n",
    "\n",
    "**C) 0.961; Steigt die Herstellerangabe, steigt auch der Testwert. => keine negative Korrelation. Andere lassen sich ausschließen, da eine starke Korrelation vorliegt.**"
   ],
   "metadata": {
    "collapsed": false
   },
   "id": "d3bef513acce1a33"
  },
  {
   "cell_type": "code",
   "execution_count": 4,
   "outputs": [
    {
     "name": "stdout",
     "output_type": "stream",
     "text": [
      "[0.96001567 1.        ]\n"
     ]
    }
   ],
   "source": [
    "print(np.corrcoef(verbrauch_hersteller, verbrauch_test)[1])"
   ],
   "metadata": {
    "collapsed": false,
    "ExecuteTime": {
     "end_time": "2023-11-08T12:46:10.620893Z",
     "start_time": "2023-11-08T12:46:10.596027Z"
    }
   },
   "id": "f844b7f4ae2b0bae"
  },
  {
   "cell_type": "markdown",
   "source": [
    "Um abschätzen zu können, ob man aus der Herstellerangabe des Benzinverbrauchs das Testergebnis\n",
    "ausrechnen kann, berechnet Alice die Regressionsgerade für die beiden Datensätze und erhält hierfür\n",
    "das Bestimmtheitsmaß R\n",
    "$R^{2} = 0.92$. Was bedeutet dieses? Ist die Anwendung der linearen Regression\n",
    "hier sinnvoll und zulässig? Begründen Sie Ihre Meinung.\n",
    "**Antwort: $R^{2}$ gibt an wie gut die Regression auf die Daten passt. Da $R^{2} = 0.92$ ist, passt die Regression sehr gut auf die Daten. Die Anwendung der linearen Regression ist hier sinnvoll und zulässig.**"
   ],
   "metadata": {
    "collapsed": false
   },
   "id": "6781779069fe0ef1"
  },
  {
   "cell_type": "markdown",
   "source": [
    "#### 2.1"
   ],
   "metadata": {
    "collapsed": false
   },
   "id": "cfcb8aac2e3874ef"
  },
  {
   "cell_type": "markdown",
   "source": [
    "a) ${\\Omega}$ = {1, 2, 3, 4, 5, 6, 7, 8, 9, 10}\n",
    "b) Nein, ${A \\cap B = \\emptyset}$\n",
    "C) Ja, ${B \\cap C = \\{2\\}$\n",
    "D) $\\overline{A}$ = gerade Zahlen\n",
    "   $\\overline{A} = {\\Omega} \\setminus B$ = {1, 3, 4, 5, ..., 10}\n",
    "   $\\overline{A} = {\\Omega} \\setminus C$ = {1, 4, 5, ..., 10}"
   ],
   "metadata": {
    "collapsed": false
   },
   "id": "dfe3d52ff258e807"
  },
  {
   "cell_type": "markdown",
   "source": [
    "#### 2.1.2\n",
    "A) 1/10\n",
    "B) 5/10 = 1/2\n",
    "C) 8/10 = 4/5\n",
    "D) 2/10 = 1/5 \n",
    "\n",
    "\n",
    "#### 2.1.3\n",
    "A) 1/10*1/10 = 1/100\n",
    "B) 1 - 9/10*9/10 = 1 - 81/100 = 19/100\n",
    "C) 3*(1/10) = 3/100 (1,3; 3,1; 2,2)\n",
    "D) 3*(1/10) = 3/100 (10,10;10,9;9,10)\n"
   ],
   "metadata": {
    "collapsed": false
   },
   "id": "a2785a1c3525823e"
  },
  {
   "cell_type": "code",
   "execution_count": 5,
   "outputs": [
    {
     "data": {
      "text/plain": "'en_US'"
     },
     "execution_count": 5,
     "metadata": {},
     "output_type": "execute_result"
    }
   ],
   "source": [
    "import pandas as pd\n",
    "import time\n",
    "import locale\n",
    "import matplotlib.pyplot as plt\n",
    "\n",
    "\n",
    "locale.setlocale(locale.LC_TIME, \"en_US\")"
   ],
   "metadata": {
    "collapsed": false,
    "ExecuteTime": {
     "end_time": "2023-11-08T12:46:11.802552Z",
     "start_time": "2023-11-08T12:46:10.600238Z"
    }
   },
   "id": "9584a1a0411e6bf2"
  },
  {
   "cell_type": "code",
   "execution_count": 63,
   "outputs": [
    {
     "data": {
      "text/plain": "     AppID                   Name  Release date Estimated owners  Peak CCU  \\\n0    20200       Galactic Bowling  Oct 21, 2008        0 - 20000         0   \n1   655370           Train Bandit  Oct 12, 2017        0 - 20000         0   \n2  1732930           Jolt Project  Nov 17, 2021        0 - 20000         0   \n3  1355720               Henosis™  Jul 23, 2020        0 - 20000         0   \n4  1139950  Two Weeks in Painland   Feb 3, 2020        0 - 20000         0   \n\n   Required age  Price  DLC count  \\\n0             0  19.99          0   \n1             0   0.99          0   \n2             0   4.99          0   \n3             0   5.99          0   \n4             0   0.00          0   \n\n                                      About the game  \\\n0  Galactic Bowling is an exaggerated and stylize...   \n1  THE LAW!! Looks to be a showdown atop a train....   \n2  Jolt Project: The army now has a new robotics ...   \n3  HENOSIS™ is a mysterious 2D Platform Puzzler w...   \n4  ABOUT THE GAME Play as a hacker who has arrang...   \n\n                                 Supported languages  ...  \\\n0                                        ['English']  ...   \n1  ['English', 'French', 'Italian', 'German', 'Sp...  ...   \n2                 ['English', 'Portuguese - Brazil']  ...   \n3  ['English', 'French', 'Italian', 'German', 'Sp...  ...   \n4                     ['English', 'Spanish - Spain']  ...   \n\n  Average playtime two weeks Median playtime forever  \\\n0                          0                       0   \n1                          0                       0   \n2                          0                       0   \n3                          0                       0   \n4                          0                       0   \n\n  Median playtime two weeks             Developers             Publishers  \\\n0                         0  Perpetual FX Creative  Perpetual FX Creative   \n1                         0           Rusty Moyher           Wild Rooster   \n2                         0          Campião Games          Campião Games   \n3                         0      Odd Critter Games      Odd Critter Games   \n4                         0          Unusual Games          Unusual Games   \n\n                                          Categories  \\\n0  Single-player,Multi-player,Steam Achievements,...   \n1  Single-player,Steam Achievements,Full controll...   \n2                                      Single-player   \n3              Single-player,Full controller support   \n4                   Single-player,Steam Achievements   \n\n                            Genres  \\\n0              Casual,Indie,Sports   \n1                     Action,Indie   \n2  Action,Adventure,Indie,Strategy   \n3           Adventure,Casual,Indie   \n4                  Adventure,Indie   \n\n                                                Tags  \\\n0                        Indie,Casual,Sports,Bowling   \n1  Indie,Action,Pixel Graphics,2D,Retro,Arcade,Sc...   \n2                                                NaN   \n3  2D Platformer,Atmospheric,Surreal,Mystery,Puzz...   \n4  Indie,Adventure,Nudity,Violent,Sexual Content,...   \n\n                                         Screenshots  \\\n0  https://cdn.akamai.steamstatic.com/steam/apps/...   \n1  https://cdn.akamai.steamstatic.com/steam/apps/...   \n2  https://cdn.akamai.steamstatic.com/steam/apps/...   \n3  https://cdn.akamai.steamstatic.com/steam/apps/...   \n4  https://cdn.akamai.steamstatic.com/steam/apps/...   \n\n                                              Movies  \n0  http://cdn.akamai.steamstatic.com/steam/apps/2...  \n1  http://cdn.akamai.steamstatic.com/steam/apps/2...  \n2  http://cdn.akamai.steamstatic.com/steam/apps/2...  \n3  http://cdn.akamai.steamstatic.com/steam/apps/2...  \n4  http://cdn.akamai.steamstatic.com/steam/apps/2...  \n\n[5 rows x 39 columns]",
      "text/html": "<div>\n<style scoped>\n    .dataframe tbody tr th:only-of-type {\n        vertical-align: middle;\n    }\n\n    .dataframe tbody tr th {\n        vertical-align: top;\n    }\n\n    .dataframe thead th {\n        text-align: right;\n    }\n</style>\n<table border=\"1\" class=\"dataframe\">\n  <thead>\n    <tr style=\"text-align: right;\">\n      <th></th>\n      <th>AppID</th>\n      <th>Name</th>\n      <th>Release date</th>\n      <th>Estimated owners</th>\n      <th>Peak CCU</th>\n      <th>Required age</th>\n      <th>Price</th>\n      <th>DLC count</th>\n      <th>About the game</th>\n      <th>Supported languages</th>\n      <th>...</th>\n      <th>Average playtime two weeks</th>\n      <th>Median playtime forever</th>\n      <th>Median playtime two weeks</th>\n      <th>Developers</th>\n      <th>Publishers</th>\n      <th>Categories</th>\n      <th>Genres</th>\n      <th>Tags</th>\n      <th>Screenshots</th>\n      <th>Movies</th>\n    </tr>\n  </thead>\n  <tbody>\n    <tr>\n      <th>0</th>\n      <td>20200</td>\n      <td>Galactic Bowling</td>\n      <td>Oct 21, 2008</td>\n      <td>0 - 20000</td>\n      <td>0</td>\n      <td>0</td>\n      <td>19.99</td>\n      <td>0</td>\n      <td>Galactic Bowling is an exaggerated and stylize...</td>\n      <td>['English']</td>\n      <td>...</td>\n      <td>0</td>\n      <td>0</td>\n      <td>0</td>\n      <td>Perpetual FX Creative</td>\n      <td>Perpetual FX Creative</td>\n      <td>Single-player,Multi-player,Steam Achievements,...</td>\n      <td>Casual,Indie,Sports</td>\n      <td>Indie,Casual,Sports,Bowling</td>\n      <td>https://cdn.akamai.steamstatic.com/steam/apps/...</td>\n      <td>http://cdn.akamai.steamstatic.com/steam/apps/2...</td>\n    </tr>\n    <tr>\n      <th>1</th>\n      <td>655370</td>\n      <td>Train Bandit</td>\n      <td>Oct 12, 2017</td>\n      <td>0 - 20000</td>\n      <td>0</td>\n      <td>0</td>\n      <td>0.99</td>\n      <td>0</td>\n      <td>THE LAW!! Looks to be a showdown atop a train....</td>\n      <td>['English', 'French', 'Italian', 'German', 'Sp...</td>\n      <td>...</td>\n      <td>0</td>\n      <td>0</td>\n      <td>0</td>\n      <td>Rusty Moyher</td>\n      <td>Wild Rooster</td>\n      <td>Single-player,Steam Achievements,Full controll...</td>\n      <td>Action,Indie</td>\n      <td>Indie,Action,Pixel Graphics,2D,Retro,Arcade,Sc...</td>\n      <td>https://cdn.akamai.steamstatic.com/steam/apps/...</td>\n      <td>http://cdn.akamai.steamstatic.com/steam/apps/2...</td>\n    </tr>\n    <tr>\n      <th>2</th>\n      <td>1732930</td>\n      <td>Jolt Project</td>\n      <td>Nov 17, 2021</td>\n      <td>0 - 20000</td>\n      <td>0</td>\n      <td>0</td>\n      <td>4.99</td>\n      <td>0</td>\n      <td>Jolt Project: The army now has a new robotics ...</td>\n      <td>['English', 'Portuguese - Brazil']</td>\n      <td>...</td>\n      <td>0</td>\n      <td>0</td>\n      <td>0</td>\n      <td>Campião Games</td>\n      <td>Campião Games</td>\n      <td>Single-player</td>\n      <td>Action,Adventure,Indie,Strategy</td>\n      <td>NaN</td>\n      <td>https://cdn.akamai.steamstatic.com/steam/apps/...</td>\n      <td>http://cdn.akamai.steamstatic.com/steam/apps/2...</td>\n    </tr>\n    <tr>\n      <th>3</th>\n      <td>1355720</td>\n      <td>Henosis™</td>\n      <td>Jul 23, 2020</td>\n      <td>0 - 20000</td>\n      <td>0</td>\n      <td>0</td>\n      <td>5.99</td>\n      <td>0</td>\n      <td>HENOSIS™ is a mysterious 2D Platform Puzzler w...</td>\n      <td>['English', 'French', 'Italian', 'German', 'Sp...</td>\n      <td>...</td>\n      <td>0</td>\n      <td>0</td>\n      <td>0</td>\n      <td>Odd Critter Games</td>\n      <td>Odd Critter Games</td>\n      <td>Single-player,Full controller support</td>\n      <td>Adventure,Casual,Indie</td>\n      <td>2D Platformer,Atmospheric,Surreal,Mystery,Puzz...</td>\n      <td>https://cdn.akamai.steamstatic.com/steam/apps/...</td>\n      <td>http://cdn.akamai.steamstatic.com/steam/apps/2...</td>\n    </tr>\n    <tr>\n      <th>4</th>\n      <td>1139950</td>\n      <td>Two Weeks in Painland</td>\n      <td>Feb 3, 2020</td>\n      <td>0 - 20000</td>\n      <td>0</td>\n      <td>0</td>\n      <td>0.00</td>\n      <td>0</td>\n      <td>ABOUT THE GAME Play as a hacker who has arrang...</td>\n      <td>['English', 'Spanish - Spain']</td>\n      <td>...</td>\n      <td>0</td>\n      <td>0</td>\n      <td>0</td>\n      <td>Unusual Games</td>\n      <td>Unusual Games</td>\n      <td>Single-player,Steam Achievements</td>\n      <td>Adventure,Indie</td>\n      <td>Indie,Adventure,Nudity,Violent,Sexual Content,...</td>\n      <td>https://cdn.akamai.steamstatic.com/steam/apps/...</td>\n      <td>http://cdn.akamai.steamstatic.com/steam/apps/2...</td>\n    </tr>\n  </tbody>\n</table>\n<p>5 rows × 39 columns</p>\n</div>"
     },
     "execution_count": 63,
     "metadata": {},
     "output_type": "execute_result"
    }
   ],
   "source": [
    "df = pd.read_csv(\"games.csv\")\n",
    "df.head()"
   ],
   "metadata": {
    "collapsed": false,
    "ExecuteTime": {
     "end_time": "2023-11-08T14:27:44.119546Z",
     "start_time": "2023-11-08T14:27:42.312607Z"
    }
   },
   "id": "130b811beca9fb25"
  },
  {
   "cell_type": "code",
   "execution_count": 7,
   "outputs": [
    {
     "data": {
      "text/plain": "0.006920927425832972"
     },
     "execution_count": 7,
     "metadata": {},
     "output_type": "execute_result"
    }
   ],
   "source": [
    "#Datum in Unix Timestamp umwandeln\n",
    "pattern = \"%b %d, %Y\"\n",
    "pattern2 = \"%b %Y\"\n",
    "dateArray = [] \n",
    "\n",
    "for d in df[\"Release date\"]:\n",
    "    if \",\" in d:\n",
    "        dateArray.append(int(time.mktime(time.strptime(d, pattern))))\n",
    "    else:\n",
    "        dateArray.append(int(time.mktime(time.strptime(d, pattern2))))\n",
    "    \n",
    "\n",
    "# todo: correlation peak ccu/price, price/release, price/dlc, price/achievements\n",
    "np.corrcoef(df[\"Peak CCU\"], df[\"Achievements\"])[1][0]"
   ],
   "metadata": {
    "collapsed": false,
    "ExecuteTime": {
     "end_time": "2023-11-08T12:46:14.057461Z",
     "start_time": "2023-11-08T12:46:13.577222Z"
    }
   },
   "id": "7c0d4930cc0ba4c"
  },
  {
   "cell_type": "code",
   "execution_count": 47,
   "outputs": [
    {
     "name": "stdout",
     "output_type": "stream",
     "text": [
      "range 145727\n",
      "max 145727\n",
      "min 0\n",
      "mean 119.15870935356126\n",
      "median 0.0\n",
      "std 1230.102923812986\n"
     ]
    },
    {
     "name": "stderr",
     "output_type": "stream",
     "text": [
      "/var/folders/4w/5w4v_g25369d8q51xj3j8py80000gn/T/ipykernel_53426/3957690164.py:21: MatplotlibDeprecationWarning: The get_cmap function was deprecated in Matplotlib 3.7 and will be removed two minor releases later. Use ``matplotlib.colormaps[name]`` or ``matplotlib.colormaps.get_cmap(obj)`` instead.\n",
      "  map = plt.cm.get_cmap('jet')\n"
     ]
    },
    {
     "data": {
      "text/plain": "0.06988567948525153"
     },
     "execution_count": 47,
     "metadata": {},
     "output_type": "execute_result"
    },
    {
     "data": {
      "text/plain": "<Figure size 640x480 with 1 Axes>",
      "image/png": "[encoded data removed]"
     },
     "metadata": {},
     "output_type": "display_data"
    }
   ],
   "source": [
    "dataset = df[\"Average playtime forever\"]\n",
    "\n",
    "\n",
    "\n",
    "print('range', np.max(dataset) - np.min(dataset))\n",
    "print('max', np.max(dataset))\n",
    "print('min', np.min(dataset))\n",
    "print('mean', np.mean(dataset))\n",
    "print('median', np.median(dataset))\n",
    "print('std', np.std(dataset, ddof=1))\n",
    "# plt.hist(dataset)\n",
    "# schöner boxplot: \n",
    "# plt.boxplot(dataset, vert=False, showfliers=True, showmeans=True, meanline=True, labels=['Average playtime forever'])\n",
    "\n",
    "#scatterplot for correlation between price and average playtime:\n",
    "# plt.scatter(df[\"Price\"], df[\"Average playtime forever\"]) \n",
    "# scatterplot with labels:\n",
    "# plt.scatter(df[\"Price\"], df[\"Average playtime forever\"], s=10, c='r', marker=\"x\")\n",
    "\n",
    "# colormap for scatterplot: \n",
    "map = plt.cm.get_cmap('jet')\n",
    "plt.scatter(df[\"Price\"], df[\"Average playtime two weeks\"], s=10, c=df[\"Peak CCU\"], cmap=map)\n",
    "np.corrcoef(df[\"Price\"], df[\"Median playtime two weeks\"])[1][0]\n"
   ],
   "metadata": {
    "collapsed": false,
    "ExecuteTime": {
     "end_time": "2023-11-08T13:47:09.882865Z",
     "start_time": "2023-11-08T13:47:09.098326Z"
    }
   },
   "id": "d611d73a6a2b95e2"
  },
  {
   "cell_type": "code",
   "execution_count": 64,
   "outputs": [
    {
     "data": {
      "text/plain": "{'whiskers': [<matplotlib.lines.Line2D at 0x29a702aa0>,\n  <matplotlib.lines.Line2D at 0x29a7004c0>,\n  <matplotlib.lines.Line2D at 0x15ac6a620>,\n  <matplotlib.lines.Line2D at 0x15ac6a560>],\n 'caps': [<matplotlib.lines.Line2D at 0x29a702440>,\n  <matplotlib.lines.Line2D at 0x29a701f00>,\n  <matplotlib.lines.Line2D at 0x15ac68f10>,\n  <matplotlib.lines.Line2D at 0x15ac6a650>],\n 'boxes': [<matplotlib.lines.Line2D at 0x29a700c10>,\n  <matplotlib.lines.Line2D at 0x15ac6a2c0>],\n 'medians': [<matplotlib.lines.Line2D at 0x29a701b40>,\n  <matplotlib.lines.Line2D at 0x15ac68790>],\n 'fliers': [<matplotlib.lines.Line2D at 0x15ac6a950>,\n  <matplotlib.lines.Line2D at 0x15ac687c0>],\n 'means': [<matplotlib.lines.Line2D at 0x15ac6bb80>,\n  <matplotlib.lines.Line2D at 0x15ac696f0>]}"
     },
     "execution_count": 64,
     "metadata": {},
     "output_type": "execute_result"
    },
    {
     "data": {
      "text/plain": "<Figure size 640x480 with 1 Axes>",
      "image/png": "[encoded data removed]"
     },
     "metadata": {},
     "output_type": "display_data"
    }
   ],
   "source": [
    "df = df[df['Price'] < 999]\n",
    "\n",
    "prices_AAA = df[(df[\"Tags\"].str.contains(\"Indie\") == False) & (df[\"Genres\"].str.contains(\"Indie\") == False)]\n",
    "\n",
    "prices_Indie = df[(df[\"Tags\"].str.contains(\"Indie\") == True) | (df[\"Genres\"].str.contains(\"Indie\") == True)]\n",
    "\n",
    "# datastuff = df[df[\"Price\"] <= 80] # alle Spiele die weniger als 100 kosten\n",
    "# datastuff = datastuff[datastuff[\"Price\"] > 20] # alle Spiele die dazu mehr als 20 kosten\n",
    "#code fur einen box plot : (\n",
    "# plt.boxplot(dataset)\n",
    "#code fuer einen schönerern boxplot: (\n",
    "plt.boxplot([prices_AAA['Price'], prices_Indie['Price']], vert=False, showfliers=True, showmeans=True, meanline=True, labels=['Price AAA', 'Price Indie'])"
   ],
   "metadata": {
    "collapsed": false,
    "ExecuteTime": {
     "end_time": "2023-11-08T14:28:53.344951Z",
     "start_time": "2023-11-08T14:28:53.176563Z"
    }
   },
   "id": "24fc6b6f0d5b4d60"
  }
 ],
 "metadata": {
  "kernelspec": {
   "display_name": "Python 3",
   "language": "python",
   "name": "python3"
  },
  "language_info": {
   "codemirror_mode": {
    "name": "ipython",
    "version": 2
   },
   "file_extension": ".py",
   "mimetype": "text/x-python",
   "name": "python",
   "nbconvert_exporter": "python",
   "pygments_lexer": "ipython2",
   "version": "2.7.6"
  }
 },
 "nbformat": 4,
 "nbformat_minor": 5
}
