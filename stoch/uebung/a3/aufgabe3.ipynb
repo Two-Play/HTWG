{
 "cells": [
  {
   "cell_type": "markdown",
   "source": [
    "# Stochastik \n",
    "### Julian Nohl, Philippe Westenfelder\n",
    "## A 1.11"
   ],
   "metadata": {
    "collapsed": false
   },
   "id": "20f05251967bbde6"
  },
  {
   "cell_type": "markdown",
   "source": [
    "#### 1.11.1\n",
    "Geben Sie an, welche der Eigenschaften qualitativ, quantitativ, diskret, stetig auf das ebenfalls untersuchte Merkmal „Anzahl der Räder des Fahrzeugs“ zutrifft bzw. zutreffen. Begründen Sie Ihre Wahl (kurz).\n",
    "#### **Antwort: Quantitativ, diskret, da Räder elemente der Natürlichen Zahlen sind**"
   ],
   "metadata": {
    "collapsed": false
   },
   "id": "b2b43076000f7719"
  },
  {
   "cell_type": "code",
   "execution_count": 195,
   "outputs": [],
   "source": [
    "import numpy as np\n",
    "\n",
    "verbrauch_hersteller = [4.2, 3.9, 4.3, 4.1, 4.1]\n",
    "verbrauch_test = [4.8, 4.1, 4.8, 4.5, 4.4]"
   ],
   "metadata": {
    "collapsed": false,
    "ExecuteTime": {
     "end_time": "2023-11-08T17:31:05.398606Z",
     "start_time": "2023-11-08T17:31:05.379291Z"
    }
   },
   "id": "ac6ff8f7f6e8537b"
  },
  {
   "cell_type": "markdown",
   "source": [
    "#### 1.11.2"
   ],
   "metadata": {
    "collapsed": false
   },
   "id": "ef937b1705b0ff57"
  },
  {
   "cell_type": "code",
   "execution_count": 196,
   "outputs": [
    {
     "name": "stdout",
     "output_type": "stream",
     "text": [
      "a) Mean: 4.12\n",
      "b) 0,25 Quartil 4.1\n",
      "   0,5 Quartil 4.1\n",
      "   0,75 Quartil 4.2\n",
      "c) 10%-Quantil 3.98\n",
      "d) Spannweite 0.3999999999999999\n",
      "e) Standardabweichung 0.1483239697419133\n"
     ]
    }
   ],
   "source": [
    "print(\"a) Mean:\",np.mean(verbrauch_hersteller))\n",
    "print(\"b) 0,25 Quartil\", np.quantile(verbrauch_hersteller, 0.25))\n",
    "print(\"   0,5 Quartil\", np.quantile(verbrauch_hersteller, 0.5))\n",
    "print(\"   0,75 Quartil\", np.quantile(verbrauch_hersteller, 0.75))\n",
    "print(\"c) 10%-Quantil\", np.quantile(verbrauch_hersteller, 0.1))\n",
    "print(\"d) Spannweite\", np.max(verbrauch_hersteller) - np.min(verbrauch_hersteller))\n",
    "print(\"e) Standardabweichung\", np.std(verbrauch_hersteller, ddof=1))"
   ],
   "metadata": {
    "collapsed": false,
    "ExecuteTime": {
     "end_time": "2023-11-08T17:31:05.398836Z",
     "start_time": "2023-11-08T17:31:05.383104Z"
    }
   },
   "id": "ac28eb4235ec394f"
  },
  {
   "cell_type": "markdown",
   "source": [],
   "metadata": {
    "collapsed": false
   },
   "id": "9c8c0e790ea637ac"
  },
  {
   "cell_type": "markdown",
   "source": [
    "#### 1.11.3\n",
    "A) Was bedeutet der Wert der empirischen Standardabweichung (Ihr Ergebnis aus Aufgabe 1.11.2?)\n",
    "für den Benzinverbrauch eines Autos (laut Hersteller)?  \n",
    "\n",
    "**Antwort: Die Standardabweichung gibt an wie stark die Werte um den Mittelwert streuen.**\n",
    "\n",
    "B) Alice interessiert sich dafür, inwieweit die Verbrauchsangaben der Hersteller und der im Test erzielte\n",
    "Benzinverbrauch vergleichbar sind. Daher erstellt Sie folgende Grafik:  \n",
    "\n",
    "**Antwort:**\n",
    "- **Der Mittelwert der Herstellerangaben ist deutlicher kleiner als beim Testergebnis**\n",
    "- **Die Standardabweichung der Herstellerangaben ist deutlich kleiner als beim Testergebnis**  \n",
    "\n",
    "**Dieser Sachverhalt kann natürlich in der Realität nicht so vorkommen, da Autohersteller sich definitiv immer an ihre Angaben halten und niemals durch Test herausgekommen ist, dass sie bei diesen gelogen hätten vor allem bei VW (Ironie aus)**\n",
    "\n",
    "\n",
    "**C) 0.961; Steigt die Herstellerangabe, steigt auch der Testwert. => keine negative Korrelation. Andere lassen sich ausschließen, da eine starke Korrelation vorliegt.**"
   ],
   "metadata": {
    "collapsed": false
   },
   "id": "d3bef513acce1a33"
  },
  {
   "cell_type": "code",
   "execution_count": 197,
   "outputs": [
    {
     "name": "stdout",
     "output_type": "stream",
     "text": [
      "[0.96001567 1.        ]\n"
     ]
    }
   ],
   "source": [
    "print(np.corrcoef(verbrauch_hersteller, verbrauch_test)[1])"
   ],
   "metadata": {
    "collapsed": false,
    "ExecuteTime": {
     "end_time": "2023-11-08T17:31:05.408377Z",
     "start_time": "2023-11-08T17:31:05.388429Z"
    }
   },
   "id": "f844b7f4ae2b0bae"
  },
  {
   "cell_type": "markdown",
   "source": [
    "Um abschätzen zu können, ob man aus der Herstellerangabe des Benzinverbrauchs das Testergebnis\n",
    "ausrechnen kann, berechnet Alice die Regressionsgerade für die beiden Datensätze und erhält hierfür\n",
    "das Bestimmtheitsmaß R\n",
    "$R^{2} = 0.92$. Was bedeutet dieses? Ist die Anwendung der linearen Regression\n",
    "hier sinnvoll und zulässig? Begründen Sie Ihre Meinung.\n",
    "**Antwort: $R^{2}$ gibt an wie gut die Regression auf die Daten passt. Da $R^{2} = 0.92$ ist, passt die Regression sehr gut auf die Daten. Die Anwendung der linearen Regression ist hier sinnvoll und zulässig.**"
   ],
   "metadata": {
    "collapsed": false
   },
   "id": "6781779069fe0ef1"
  },
  {
   "cell_type": "markdown",
   "source": [
    "#### 2.1"
   ],
   "metadata": {
    "collapsed": false
   },
   "id": "cfcb8aac2e3874ef"
  },
  {
   "cell_type": "markdown",
   "source": [
    "a) ${\\Omega}$ = {1, 2, 3, 4, 5, 6, 7, 8, 9, 10}\n",
    "b) Nein, ${A \\cap B = \\emptyset}$\n",
    "C) Ja, ${B \\cap C = \\{2\\}$\n",
    "D) $\\overline{A}$ = gerade Zahlen\n",
    "   $\\overline{A} = {\\Omega} \\setminus B$ = {1, 3, 4, 5, ..., 10}\n",
    "   $\\overline{A} = {\\Omega} \\setminus C$ = {1, 4, 5, ..., 10}"
   ],
   "metadata": {
    "collapsed": false
   },
   "id": "dfe3d52ff258e807"
  },
  {
   "cell_type": "markdown",
   "source": [
    "#### 2.1.2\n",
    "A) 1/10\n",
    "B) 5/10 = 1/2\n",
    "C) 8/10 = 4/5\n",
    "D) 2/10 = 1/5 \n",
    "\n",
    "\n",
    "#### 2.1.3\n",
    "A) 1/10*1/10 = 1/100\n",
    "B) 1 - 9/10*9/10 = 1 - 81/100 = 19/100\n",
    "C) 3*(1/10) = 3/100 (1,3; 3,1; 2,2)\n",
    "D) 3*(1/10) = 3/100 (10,10;10,9;9,10)\n"
   ],
   "metadata": {
    "collapsed": false
   },
   "id": "a2785a1c3525823e"
  },
  {
   "cell_type": "markdown",
   "source": [
    "---\n",
    "\n",
    "#### 1.14\n",
    "\n",
    "### Dataset: Steam Games\n",
    "\n",
    "Interessante Datenpunkte:\n",
    "- Teuerstes Spiel\n",
    "- Spiel mit den meisten DLCs\n",
    "- Spiel mit den meisten Achievements\n",
    "- Korrelation Preis/Spielzeit"
   ],
   "metadata": {
    "collapsed": false
   },
   "id": "c53b9765a38074cb"
  },
  {
   "cell_type": "code",
   "execution_count": 198,
   "outputs": [
    {
     "data": {
      "text/plain": "     AppID                   Name  Release date Estimated owners  Peak CCU  \\\n0    20200       Galactic Bowling  Oct 21, 2008        0 - 20000         0   \n1   655370           Train Bandit  Oct 12, 2017        0 - 20000         0   \n2  1732930           Jolt Project  Nov 17, 2021        0 - 20000         0   \n3  1355720               Henosis™  Jul 23, 2020        0 - 20000         0   \n4  1139950  Two Weeks in Painland   Feb 3, 2020        0 - 20000         0   \n\n   Required age  Price  DLC count  \\\n0             0  19.99          0   \n1             0   0.99          0   \n2             0   4.99          0   \n3             0   5.99          0   \n4             0   0.00          0   \n\n                                      About the game  \\\n0  Galactic Bowling is an exaggerated and stylize...   \n1  THE LAW!! Looks to be a showdown atop a train....   \n2  Jolt Project: The army now has a new robotics ...   \n3  HENOSIS™ is a mysterious 2D Platform Puzzler w...   \n4  ABOUT THE GAME Play as a hacker who has arrang...   \n\n                                 Supported languages  ...  \\\n0                                        ['English']  ...   \n1  ['English', 'French', 'Italian', 'German', 'Sp...  ...   \n2                 ['English', 'Portuguese - Brazil']  ...   \n3  ['English', 'French', 'Italian', 'German', 'Sp...  ...   \n4                     ['English', 'Spanish - Spain']  ...   \n\n  Average playtime two weeks Median playtime forever  \\\n0                          0                       0   \n1                          0                       0   \n2                          0                       0   \n3                          0                       0   \n4                          0                       0   \n\n  Median playtime two weeks             Developers             Publishers  \\\n0                         0  Perpetual FX Creative  Perpetual FX Creative   \n1                         0           Rusty Moyher           Wild Rooster   \n2                         0          Campião Games          Campião Games   \n3                         0      Odd Critter Games      Odd Critter Games   \n4                         0          Unusual Games          Unusual Games   \n\n                                          Categories  \\\n0  Single-player,Multi-player,Steam Achievements,...   \n1  Single-player,Steam Achievements,Full controll...   \n2                                      Single-player   \n3              Single-player,Full controller support   \n4                   Single-player,Steam Achievements   \n\n                            Genres  \\\n0              Casual,Indie,Sports   \n1                     Action,Indie   \n2  Action,Adventure,Indie,Strategy   \n3           Adventure,Casual,Indie   \n4                  Adventure,Indie   \n\n                                                Tags  \\\n0                        Indie,Casual,Sports,Bowling   \n1  Indie,Action,Pixel Graphics,2D,Retro,Arcade,Sc...   \n2                                                NaN   \n3  2D Platformer,Atmospheric,Surreal,Mystery,Puzz...   \n4  Indie,Adventure,Nudity,Violent,Sexual Content,...   \n\n                                         Screenshots  \\\n0  https://cdn.akamai.steamstatic.com/steam/apps/...   \n1  https://cdn.akamai.steamstatic.com/steam/apps/...   \n2  https://cdn.akamai.steamstatic.com/steam/apps/...   \n3  https://cdn.akamai.steamstatic.com/steam/apps/...   \n4  https://cdn.akamai.steamstatic.com/steam/apps/...   \n\n                                              Movies  \n0  http://cdn.akamai.steamstatic.com/steam/apps/2...  \n1  http://cdn.akamai.steamstatic.com/steam/apps/2...  \n2  http://cdn.akamai.steamstatic.com/steam/apps/2...  \n3  http://cdn.akamai.steamstatic.com/steam/apps/2...  \n4  http://cdn.akamai.steamstatic.com/steam/apps/2...  \n\n[5 rows x 39 columns]",
      "text/html": "<div>\n<style scoped>\n    .dataframe tbody tr th:only-of-type {\n        vertical-align: middle;\n    }\n\n    .dataframe tbody tr th {\n        vertical-align: top;\n    }\n\n    .dataframe thead th {\n        text-align: right;\n    }\n</style>\n<table border=\"1\" class=\"dataframe\">\n  <thead>\n    <tr style=\"text-align: right;\">\n      <th></th>\n      <th>AppID</th>\n      <th>Name</th>\n      <th>Release date</th>\n      <th>Estimated owners</th>\n      <th>Peak CCU</th>\n      <th>Required age</th>\n      <th>Price</th>\n      <th>DLC count</th>\n      <th>About the game</th>\n      <th>Supported languages</th>\n      <th>...</th>\n      <th>Average playtime two weeks</th>\n      <th>Median playtime forever</th>\n      <th>Median playtime two weeks</th>\n      <th>Developers</th>\n      <th>Publishers</th>\n      <th>Categories</th>\n      <th>Genres</th>\n      <th>Tags</th>\n      <th>Screenshots</th>\n      <th>Movies</th>\n    </tr>\n  </thead>\n  <tbody>\n    <tr>\n      <th>0</th>\n      <td>20200</td>\n      <td>Galactic Bowling</td>\n      <td>Oct 21, 2008</td>\n      <td>0 - 20000</td>\n      <td>0</td>\n      <td>0</td>\n      <td>19.99</td>\n      <td>0</td>\n      <td>Galactic Bowling is an exaggerated and stylize...</td>\n      <td>['English']</td>\n      <td>...</td>\n      <td>0</td>\n      <td>0</td>\n      <td>0</td>\n      <td>Perpetual FX Creative</td>\n      <td>Perpetual FX Creative</td>\n      <td>Single-player,Multi-player,Steam Achievements,...</td>\n      <td>Casual,Indie,Sports</td>\n      <td>Indie,Casual,Sports,Bowling</td>\n      <td>https://cdn.akamai.steamstatic.com/steam/apps/...</td>\n      <td>http://cdn.akamai.steamstatic.com/steam/apps/2...</td>\n    </tr>\n    <tr>\n      <th>1</th>\n      <td>655370</td>\n      <td>Train Bandit</td>\n      <td>Oct 12, 2017</td>\n      <td>0 - 20000</td>\n      <td>0</td>\n      <td>0</td>\n      <td>0.99</td>\n      <td>0</td>\n      <td>THE LAW!! Looks to be a showdown atop a train....</td>\n      <td>['English', 'French', 'Italian', 'German', 'Sp...</td>\n      <td>...</td>\n      <td>0</td>\n      <td>0</td>\n      <td>0</td>\n      <td>Rusty Moyher</td>\n      <td>Wild Rooster</td>\n      <td>Single-player,Steam Achievements,Full controll...</td>\n      <td>Action,Indie</td>\n      <td>Indie,Action,Pixel Graphics,2D,Retro,Arcade,Sc...</td>\n      <td>https://cdn.akamai.steamstatic.com/steam/apps/...</td>\n      <td>http://cdn.akamai.steamstatic.com/steam/apps/2...</td>\n    </tr>\n    <tr>\n      <th>2</th>\n      <td>1732930</td>\n      <td>Jolt Project</td>\n      <td>Nov 17, 2021</td>\n      <td>0 - 20000</td>\n      <td>0</td>\n      <td>0</td>\n      <td>4.99</td>\n      <td>0</td>\n      <td>Jolt Project: The army now has a new robotics ...</td>\n      <td>['English', 'Portuguese - Brazil']</td>\n      <td>...</td>\n      <td>0</td>\n      <td>0</td>\n      <td>0</td>\n      <td>Campião Games</td>\n      <td>Campião Games</td>\n      <td>Single-player</td>\n      <td>Action,Adventure,Indie,Strategy</td>\n      <td>NaN</td>\n      <td>https://cdn.akamai.steamstatic.com/steam/apps/...</td>\n      <td>http://cdn.akamai.steamstatic.com/steam/apps/2...</td>\n    </tr>\n    <tr>\n      <th>3</th>\n      <td>1355720</td>\n      <td>Henosis™</td>\n      <td>Jul 23, 2020</td>\n      <td>0 - 20000</td>\n      <td>0</td>\n      <td>0</td>\n      <td>5.99</td>\n      <td>0</td>\n      <td>HENOSIS™ is a mysterious 2D Platform Puzzler w...</td>\n      <td>['English', 'French', 'Italian', 'German', 'Sp...</td>\n      <td>...</td>\n      <td>0</td>\n      <td>0</td>\n      <td>0</td>\n      <td>Odd Critter Games</td>\n      <td>Odd Critter Games</td>\n      <td>Single-player,Full controller support</td>\n      <td>Adventure,Casual,Indie</td>\n      <td>2D Platformer,Atmospheric,Surreal,Mystery,Puzz...</td>\n      <td>https://cdn.akamai.steamstatic.com/steam/apps/...</td>\n      <td>http://cdn.akamai.steamstatic.com/steam/apps/2...</td>\n    </tr>\n    <tr>\n      <th>4</th>\n      <td>1139950</td>\n      <td>Two Weeks in Painland</td>\n      <td>Feb 3, 2020</td>\n      <td>0 - 20000</td>\n      <td>0</td>\n      <td>0</td>\n      <td>0.00</td>\n      <td>0</td>\n      <td>ABOUT THE GAME Play as a hacker who has arrang...</td>\n      <td>['English', 'Spanish - Spain']</td>\n      <td>...</td>\n      <td>0</td>\n      <td>0</td>\n      <td>0</td>\n      <td>Unusual Games</td>\n      <td>Unusual Games</td>\n      <td>Single-player,Steam Achievements</td>\n      <td>Adventure,Indie</td>\n      <td>Indie,Adventure,Nudity,Violent,Sexual Content,...</td>\n      <td>https://cdn.akamai.steamstatic.com/steam/apps/...</td>\n      <td>http://cdn.akamai.steamstatic.com/steam/apps/2...</td>\n    </tr>\n  </tbody>\n</table>\n<p>5 rows × 39 columns</p>\n</div>"
     },
     "execution_count": 198,
     "metadata": {},
     "output_type": "execute_result"
    }
   ],
   "source": [
    "import pandas as pd\n",
    "import time\n",
    "import locale\n",
    "import matplotlib.pyplot as plt\n",
    "from scipy import stats\n",
    "\n",
    "\n",
    "lc = locale.setlocale(locale.LC_TIME, \"en_US\")\n",
    "\n",
    "df = pd.read_csv(\"games.csv\")\n",
    "df.head()"
   ],
   "metadata": {
    "collapsed": false,
    "ExecuteTime": {
     "end_time": "2023-11-08T17:31:07.205015Z",
     "start_time": "2023-11-08T17:31:05.391175Z"
    }
   },
   "id": "9584a1a0411e6bf2"
  },
  {
   "cell_type": "code",
   "execution_count": 199,
   "outputs": [],
   "source": [
    "# release date zu timestamp (für korrelationen):\n",
    "df[\"Release date (timestamp)\"] = df[\"Release date\"].apply(lambda x: int(time.mktime(time.strptime(x, \"%b %d, %Y\"))) if \",\" in x else int(time.mktime(time.strptime(x, \"%b %Y\"))))"
   ],
   "metadata": {
    "collapsed": false,
    "ExecuteTime": {
     "end_time": "2023-11-08T17:31:07.729376Z",
     "start_time": "2023-11-08T17:31:07.228857Z"
    }
   },
   "id": "6427c18dac25da3f"
  },
  {
   "cell_type": "code",
   "execution_count": 200,
   "outputs": [
    {
     "name": "stderr",
     "output_type": "stream",
     "text": [
      "/var/folders/4w/5w4v_g25369d8q51xj3j8py80000gn/T/ipykernel_53426/2182332633.py:6: UserWarning: Boolean Series key will be reindexed to match DataFrame index.\n",
      "  outliers = raw[z > threshold]\n"
     ]
    },
    {
     "data": {
      "text/plain": "0.1664172240267269"
     },
     "execution_count": 200,
     "metadata": {},
     "output_type": "execute_result"
    }
   ],
   "source": [
    "def remove_outliers(raw, column, threshold=3):\n",
    "    # Calculate the z-score for each student's height\n",
    "    z = np.abs(stats.zscore(df[column]))\n",
    "    \n",
    "    # Identify outliers as students with a z-score greater than threshold\n",
    "    outliers = raw[z > threshold]\n",
    "    \n",
    "    return raw.copy().drop(outliers.index)\n",
    "\n",
    "df_price_avg_playtime = remove_outliers(df, \"Price\", threshold=1.2)\n",
    "df_price_avg_playtime = remove_outliers(df_price_avg_playtime, \"Average playtime forever\")\n",
    "\n",
    "# remove extreme outliers from avg playtime:\n",
    "\n",
    "np.corrcoef(df_price_avg_playtime[\"Price\"], df_price_avg_playtime[\"Average playtime forever\"])[1][0]"
   ],
   "metadata": {
    "collapsed": false,
    "ExecuteTime": {
     "end_time": "2023-11-08T17:31:07.793542Z",
     "start_time": "2023-11-08T17:31:07.732176Z"
    }
   },
   "id": "7c0d4930cc0ba4c"
  },
  {
   "cell_type": "code",
   "execution_count": 205,
   "outputs": [
    {
     "ename": "UFuncTypeError",
     "evalue": "ufunc 'add' did not contain a loop with signature matching types (dtype('<U5'), dtype('<U5')) -> None",
     "output_type": "error",
     "traceback": [
      "\u001B[0;31m---------------------------------------------------------------------------\u001B[0m",
      "\u001B[0;31mUFuncTypeError\u001B[0m                            Traceback (most recent call last)",
      "Cell \u001B[0;32mIn[205], line 35\u001B[0m\n\u001B[1;32m     22\u001B[0m     default_stuff \u001B[38;5;241m=\u001B[39m pd\u001B[38;5;241m.\u001B[39mDataFrame([\n\u001B[1;32m     23\u001B[0m         [\u001B[38;5;124m\"\u001B[39m\u001B[38;5;124mmean\u001B[39m\u001B[38;5;124m\"\u001B[39m, [data[column] \u001B[38;5;28;01mfor\u001B[39;00m column \u001B[38;5;129;01min\u001B[39;00m columns]],\n\u001B[1;32m     24\u001B[0m         [\u001B[38;5;124m\"\u001B[39m\u001B[38;5;124mmedian\u001B[39m\u001B[38;5;124m\"\u001B[39m, [data[column] \u001B[38;5;28;01mfor\u001B[39;00m column \u001B[38;5;129;01min\u001B[39;00m columns]],\n\u001B[0;32m   (...)\u001B[0m\n\u001B[1;32m     30\u001B[0m         [\u001B[38;5;124m\"\u001B[39m\u001B[38;5;124miqr\u001B[39m\u001B[38;5;124m\"\u001B[39m, [data[column] \u001B[38;5;28;01mfor\u001B[39;00m column \u001B[38;5;129;01min\u001B[39;00m columns]],\n\u001B[1;32m     31\u001B[0m     ], columns\u001B[38;5;241m=\u001B[39m[\u001B[38;5;124m\"\u001B[39m\u001B[38;5;124m\"\u001B[39m, \u001B[38;5;124m\"\u001B[39m\u001B[38;5;124mPrice\u001B[39m\u001B[38;5;124m\"\u001B[39m, \u001B[38;5;124m\"\u001B[39m\u001B[38;5;124mAverage Playtime Forever\u001B[39m\u001B[38;5;124m\"\u001B[39m])\n\u001B[1;32m     33\u001B[0m     \u001B[38;5;28mprint\u001B[39m(default_stuff\u001B[38;5;241m.\u001B[39mto_string(index\u001B[38;5;241m=\u001B[39m\u001B[38;5;28;01mFalse\u001B[39;00m))\n\u001B[0;32m---> 35\u001B[0m \u001B[43mprint_standard_things\u001B[49m\u001B[43m(\u001B[49m\u001B[43m[\u001B[49m\u001B[38;5;124;43m'\u001B[39;49m\u001B[38;5;124;43mPrice\u001B[39;49m\u001B[38;5;124;43m'\u001B[39;49m\u001B[43m,\u001B[49m\u001B[43m \u001B[49m\u001B[38;5;124;43m'\u001B[39;49m\u001B[38;5;124;43mAverage playtime forever\u001B[39;49m\u001B[38;5;124;43m'\u001B[39;49m\u001B[43m]\u001B[49m\u001B[43m)\u001B[49m\n\u001B[1;32m     37\u001B[0m plt\u001B[38;5;241m.\u001B[39mxlabel(\u001B[38;5;124m'\u001B[39m\u001B[38;5;124mPrice in $\u001B[39m\u001B[38;5;124m'\u001B[39m)\n\u001B[1;32m     38\u001B[0m plt\u001B[38;5;241m.\u001B[39mylabel(\u001B[38;5;124m'\u001B[39m\u001B[38;5;124mPlaytime in h\u001B[39m\u001B[38;5;124m'\u001B[39m)\n",
      "Cell \u001B[0;32mIn[205], line 20\u001B[0m, in \u001B[0;36mprint_standard_things\u001B[0;34m(columns)\u001B[0m\n\u001B[1;32m     17\u001B[0m data \u001B[38;5;241m=\u001B[39m []\n\u001B[1;32m     19\u001B[0m \u001B[38;5;28;01mfor\u001B[39;00m column \u001B[38;5;129;01min\u001B[39;00m columns:\n\u001B[0;32m---> 20\u001B[0m     data[column] \u001B[38;5;241m=\u001B[39m \u001B[43mget_standard_things\u001B[49m\u001B[43m(\u001B[49m\u001B[43mcolumn\u001B[49m\u001B[43m)\u001B[49m\n\u001B[1;32m     22\u001B[0m default_stuff \u001B[38;5;241m=\u001B[39m pd\u001B[38;5;241m.\u001B[39mDataFrame([\n\u001B[1;32m     23\u001B[0m     [\u001B[38;5;124m\"\u001B[39m\u001B[38;5;124mmean\u001B[39m\u001B[38;5;124m\"\u001B[39m, [data[column] \u001B[38;5;28;01mfor\u001B[39;00m column \u001B[38;5;129;01min\u001B[39;00m columns]],\n\u001B[1;32m     24\u001B[0m     [\u001B[38;5;124m\"\u001B[39m\u001B[38;5;124mmedian\u001B[39m\u001B[38;5;124m\"\u001B[39m, [data[column] \u001B[38;5;28;01mfor\u001B[39;00m column \u001B[38;5;129;01min\u001B[39;00m columns]],\n\u001B[0;32m   (...)\u001B[0m\n\u001B[1;32m     30\u001B[0m     [\u001B[38;5;124m\"\u001B[39m\u001B[38;5;124miqr\u001B[39m\u001B[38;5;124m\"\u001B[39m, [data[column] \u001B[38;5;28;01mfor\u001B[39;00m column \u001B[38;5;129;01min\u001B[39;00m columns]],\n\u001B[1;32m     31\u001B[0m ], columns\u001B[38;5;241m=\u001B[39m[\u001B[38;5;124m\"\u001B[39m\u001B[38;5;124m\"\u001B[39m, \u001B[38;5;124m\"\u001B[39m\u001B[38;5;124mPrice\u001B[39m\u001B[38;5;124m\"\u001B[39m, \u001B[38;5;124m\"\u001B[39m\u001B[38;5;124mAverage Playtime Forever\u001B[39m\u001B[38;5;124m\"\u001B[39m])\n\u001B[1;32m     33\u001B[0m \u001B[38;5;28mprint\u001B[39m(default_stuff\u001B[38;5;241m.\u001B[39mto_string(index\u001B[38;5;241m=\u001B[39m\u001B[38;5;28;01mFalse\u001B[39;00m))\n",
      "Cell \u001B[0;32mIn[205], line 6\u001B[0m, in \u001B[0;36mget_standard_things\u001B[0;34m(column)\u001B[0m\n\u001B[1;32m      4\u001B[0m \u001B[38;5;28;01mdef\u001B[39;00m \u001B[38;5;21mget_standard_things\u001B[39m(column):\n\u001B[1;32m      5\u001B[0m     \u001B[38;5;28;01mreturn\u001B[39;00m {\n\u001B[0;32m----> 6\u001B[0m         \u001B[38;5;124m\"\u001B[39m\u001B[38;5;124mmean\u001B[39m\u001B[38;5;124m\"\u001B[39m: \u001B[43mnp\u001B[49m\u001B[38;5;241;43m.\u001B[39;49m\u001B[43mmean\u001B[49m\u001B[43m(\u001B[49m\u001B[43mcolumn\u001B[49m\u001B[43m)\u001B[49m,\n\u001B[1;32m      7\u001B[0m         \u001B[38;5;124m\"\u001B[39m\u001B[38;5;124mmedian\u001B[39m\u001B[38;5;124m\"\u001B[39m: np\u001B[38;5;241m.\u001B[39mmedian(column),\n\u001B[1;32m      8\u001B[0m         \u001B[38;5;124m\"\u001B[39m\u001B[38;5;124mstd\u001B[39m\u001B[38;5;124m\"\u001B[39m: np\u001B[38;5;241m.\u001B[39mstd(column, ddof\u001B[38;5;241m=\u001B[39m\u001B[38;5;241m1\u001B[39m),\n\u001B[1;32m      9\u001B[0m         \u001B[38;5;124m\"\u001B[39m\u001B[38;5;124mmin\u001B[39m\u001B[38;5;124m\"\u001B[39m: np\u001B[38;5;241m.\u001B[39mmin(column),\n\u001B[1;32m     10\u001B[0m         \u001B[38;5;124m\"\u001B[39m\u001B[38;5;124mmax\u001B[39m\u001B[38;5;124m\"\u001B[39m: np\u001B[38;5;241m.\u001B[39mmax(column),\n\u001B[1;32m     11\u001B[0m         \u001B[38;5;124m\"\u001B[39m\u001B[38;5;124mq1\u001B[39m\u001B[38;5;124m\"\u001B[39m: np\u001B[38;5;241m.\u001B[39mquantile(column, \u001B[38;5;241m0.25\u001B[39m),\n\u001B[1;32m     12\u001B[0m         \u001B[38;5;124m\"\u001B[39m\u001B[38;5;124mq3\u001B[39m\u001B[38;5;124m\"\u001B[39m: np\u001B[38;5;241m.\u001B[39mquantile(column, \u001B[38;5;241m0.75\u001B[39m),\n\u001B[1;32m     13\u001B[0m         \u001B[38;5;124m\"\u001B[39m\u001B[38;5;124miqr\u001B[39m\u001B[38;5;124m\"\u001B[39m: np\u001B[38;5;241m.\u001B[39mquantile(column, \u001B[38;5;241m0.75\u001B[39m) \u001B[38;5;241m-\u001B[39m np\u001B[38;5;241m.\u001B[39mquantile(column, \u001B[38;5;241m0.25\u001B[39m),\n\u001B[1;32m     14\u001B[0m     }\n",
      "File \u001B[0;32m<__array_function__ internals>:200\u001B[0m, in \u001B[0;36mmean\u001B[0;34m(*args, **kwargs)\u001B[0m\n",
      "File \u001B[0;32m~/mambaforge/lib/python3.10/site-packages/numpy/core/fromnumeric.py:3464\u001B[0m, in \u001B[0;36mmean\u001B[0;34m(a, axis, dtype, out, keepdims, where)\u001B[0m\n\u001B[1;32m   3461\u001B[0m     \u001B[38;5;28;01melse\u001B[39;00m:\n\u001B[1;32m   3462\u001B[0m         \u001B[38;5;28;01mreturn\u001B[39;00m mean(axis\u001B[38;5;241m=\u001B[39maxis, dtype\u001B[38;5;241m=\u001B[39mdtype, out\u001B[38;5;241m=\u001B[39mout, \u001B[38;5;241m*\u001B[39m\u001B[38;5;241m*\u001B[39mkwargs)\n\u001B[0;32m-> 3464\u001B[0m \u001B[38;5;28;01mreturn\u001B[39;00m \u001B[43m_methods\u001B[49m\u001B[38;5;241;43m.\u001B[39;49m\u001B[43m_mean\u001B[49m\u001B[43m(\u001B[49m\u001B[43ma\u001B[49m\u001B[43m,\u001B[49m\u001B[43m \u001B[49m\u001B[43maxis\u001B[49m\u001B[38;5;241;43m=\u001B[39;49m\u001B[43maxis\u001B[49m\u001B[43m,\u001B[49m\u001B[43m \u001B[49m\u001B[43mdtype\u001B[49m\u001B[38;5;241;43m=\u001B[39;49m\u001B[43mdtype\u001B[49m\u001B[43m,\u001B[49m\n\u001B[1;32m   3465\u001B[0m \u001B[43m                      \u001B[49m\u001B[43mout\u001B[49m\u001B[38;5;241;43m=\u001B[39;49m\u001B[43mout\u001B[49m\u001B[43m,\u001B[49m\u001B[43m \u001B[49m\u001B[38;5;241;43m*\u001B[39;49m\u001B[38;5;241;43m*\u001B[39;49m\u001B[43mkwargs\u001B[49m\u001B[43m)\u001B[49m\n",
      "File \u001B[0;32m~/mambaforge/lib/python3.10/site-packages/numpy/core/_methods.py:181\u001B[0m, in \u001B[0;36m_mean\u001B[0;34m(a, axis, dtype, out, keepdims, where)\u001B[0m\n\u001B[1;32m    178\u001B[0m         dtype \u001B[38;5;241m=\u001B[39m mu\u001B[38;5;241m.\u001B[39mdtype(\u001B[38;5;124m'\u001B[39m\u001B[38;5;124mf4\u001B[39m\u001B[38;5;124m'\u001B[39m)\n\u001B[1;32m    179\u001B[0m         is_float16_result \u001B[38;5;241m=\u001B[39m \u001B[38;5;28;01mTrue\u001B[39;00m\n\u001B[0;32m--> 181\u001B[0m ret \u001B[38;5;241m=\u001B[39m \u001B[43mumr_sum\u001B[49m\u001B[43m(\u001B[49m\u001B[43marr\u001B[49m\u001B[43m,\u001B[49m\u001B[43m \u001B[49m\u001B[43maxis\u001B[49m\u001B[43m,\u001B[49m\u001B[43m \u001B[49m\u001B[43mdtype\u001B[49m\u001B[43m,\u001B[49m\u001B[43m \u001B[49m\u001B[43mout\u001B[49m\u001B[43m,\u001B[49m\u001B[43m \u001B[49m\u001B[43mkeepdims\u001B[49m\u001B[43m,\u001B[49m\u001B[43m \u001B[49m\u001B[43mwhere\u001B[49m\u001B[38;5;241;43m=\u001B[39;49m\u001B[43mwhere\u001B[49m\u001B[43m)\u001B[49m\n\u001B[1;32m    182\u001B[0m \u001B[38;5;28;01mif\u001B[39;00m \u001B[38;5;28misinstance\u001B[39m(ret, mu\u001B[38;5;241m.\u001B[39mndarray):\n\u001B[1;32m    183\u001B[0m     \u001B[38;5;28;01mwith\u001B[39;00m _no_nep50_warning():\n",
      "\u001B[0;31mUFuncTypeError\u001B[0m: ufunc 'add' did not contain a loop with signature matching types (dtype('<U5'), dtype('<U5')) -> None"
     ]
    }
   ],
   "source": [
    "# data_source = df\n",
    "data_source = df_price_avg_playtime\n",
    "\n",
    "def get_standard_things(column):\n",
    "    return {\n",
    "        \"mean\": np.mean(column),\n",
    "        \"median\": np.median(column),\n",
    "        \"std\": np.std(column, ddof=1),\n",
    "        \"min\": np.min(column),\n",
    "        \"max\": np.max(column),\n",
    "        \"q1\": np.quantile(column, 0.25),\n",
    "        \"q3\": np.quantile(column, 0.75),\n",
    "        \"iqr\": np.quantile(column, 0.75) - np.quantile(column, 0.25),\n",
    "    }\n",
    "\n",
    "def print_standard_things(columns):\n",
    "    data = []\n",
    "    \n",
    "    for column in columns:\n",
    "        data[column] = get_standard_things(column)\n",
    "    \n",
    "    default_stuff = pd.DataFrame([\n",
    "        [\"mean\", [data[column] for column in columns]],\n",
    "        [\"median\", [data[column] for column in columns]],\n",
    "        [\"std\", [data[column] for column in columns]],\n",
    "        [\"min\", [data[column] for column in columns]],\n",
    "        [\"max\", [data[column] for column in columns]],\n",
    "        [\"q1\", [data[column] for column in columns]],\n",
    "        [\"q3\", [data[column] for column in columns]],\n",
    "        [\"iqr\", [data[column] for column in columns]],\n",
    "    ], columns=[\"\", \"Price\", \"Average Playtime Forever\"])\n",
    "    \n",
    "    print(default_stuff.to_string(index=False))\n",
    "\n",
    "print_standard_things(['Price', 'Average playtime forever'])\n",
    "\n",
    "plt.xlabel('Price in $')\n",
    "plt.ylabel('Playtime in h')\n",
    "plt.scatter(data_source[\"Price\"], data_source[\"Average playtime forever\"], s=10, c=data_source[\"Average playtime forever\"], cmap=plt.cm.get_cmap('jet'))\n"
   ],
   "metadata": {
    "collapsed": false,
    "ExecuteTime": {
     "end_time": "2023-11-08T17:36:11.169604Z",
     "start_time": "2023-11-08T17:36:11.125974Z"
    }
   },
   "id": "d611d73a6a2b95e2"
  },
  {
   "cell_type": "code",
   "execution_count": 202,
   "outputs": [
    {
     "data": {
      "text/plain": "{'whiskers': [<matplotlib.lines.Line2D at 0x3209bca30>,\n  <matplotlib.lines.Line2D at 0x3209bccd0>],\n 'caps': [<matplotlib.lines.Line2D at 0x3209bcf70>,\n  <matplotlib.lines.Line2D at 0x3209bd210>],\n 'boxes': [<matplotlib.lines.Line2D at 0x3209dc790>],\n 'medians': [<matplotlib.lines.Line2D at 0x3209bd4b0>],\n 'fliers': [<matplotlib.lines.Line2D at 0x3209bd9f0>],\n 'means': [<matplotlib.lines.Line2D at 0x3209bd750>]}"
     },
     "execution_count": 202,
     "metadata": {},
     "output_type": "execute_result"
    },
    {
     "data": {
      "text/plain": "<Figure size 640x480 with 1 Axes>",
      "image/png": "[encoded data removed]"
     },
     "metadata": {},
     "output_type": "display_data"
    }
   ],
   "source": [
    "plt.title('Price of gaming')\n",
    "plt.xlabel('Preis in $')\n",
    "plt.boxplot([df['Price']], vert=False, showfliers=True, showmeans=True, meanline=True)"
   ],
   "metadata": {
    "collapsed": false,
    "ExecuteTime": {
     "end_time": "2023-11-08T17:31:08.614408Z",
     "start_time": "2023-11-08T17:31:08.544100Z"
    }
   },
   "id": "24fc6b6f0d5b4d60"
  },
  {
   "cell_type": "code",
   "execution_count": 203,
   "outputs": [
    {
     "data": {
      "text/plain": "{'whiskers': [<matplotlib.lines.Line2D at 0x32097b8e0>,\n  <matplotlib.lines.Line2D at 0x32097bb80>],\n 'caps': [<matplotlib.lines.Line2D at 0x32097be20>,\n  <matplotlib.lines.Line2D at 0x320948100>],\n 'boxes': [<matplotlib.lines.Line2D at 0x32097b640>],\n 'medians': [<matplotlib.lines.Line2D at 0x3209483a0>],\n 'fliers': [<matplotlib.lines.Line2D at 0x3209488e0>],\n 'means': [<matplotlib.lines.Line2D at 0x320948640>]}"
     },
     "execution_count": 203,
     "metadata": {},
     "output_type": "execute_result"
    },
    {
     "data": {
      "text/plain": "<Figure size 640x480 with 1 Axes>",
      "image/png": "[encoded data removed]"
     },
     "metadata": {},
     "output_type": "display_data"
    }
   ],
   "source": [
    "price_no_outliers = remove_outliers(df, \"Price\")\n",
    "\n",
    "plt.title('Price of gaming (ohne Ausreißer)')\n",
    "plt.xlabel('Preis in $')\n",
    "plt.boxplot([price_no_outliers['Price']], vert=False, showfliers=True, showmeans=True, meanline=True, labels=[''])"
   ],
   "metadata": {
    "collapsed": false,
    "ExecuteTime": {
     "end_time": "2023-11-08T17:31:08.699077Z",
     "start_time": "2023-11-08T17:31:08.594555Z"
    }
   },
   "id": "a71ab99dbc38114e"
  }
 ],
 "metadata": {
  "kernelspec": {
   "display_name": "Python 3",
   "language": "python",
   "name": "python3"
  },
  "language_info": {
   "codemirror_mode": {
    "name": "ipython",
    "version": 2
   },
   "file_extension": ".py",
   "mimetype": "text/x-python",
   "name": "python",
   "nbconvert_exporter": "python",
   "pygments_lexer": "ipython2",
   "version": "2.7.6"
  }
 },
 "nbformat": 4,
 "nbformat_minor": 5
}
