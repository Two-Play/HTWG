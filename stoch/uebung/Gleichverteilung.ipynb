{
 "cells": [
  {
   "cell_type": "markdown",
   "source": [
    "GLEICHVERTEILUNG: auch uniforme Verteilung\n",
    "\n",
    "    \"Jeder denkbare reelle Wert der Zufallsvariable ist in einem vorgegebenen Intervall gleich wahrscheinlich\"\n",
    "    X ~ G(a, b)\n",
    "    Parameter:\n",
    "            a: min Wert\n",
    "            b: max Wert\n",
    "            x: gesuchter Wert\n",
    "    Beispiel:\n",
    "            Stetige Gleichverteilung zwischen a = 0 und b = 60\n",
    "            Wie wahrscheinlich ist es, dass man weniger als 15 Minuten warten muss.\n",
    "            uniform.cdf(15, 0, 60) = 0.25 = 25% Wahrscheinlichkeit"
   ],
   "metadata": {
    "collapsed": false
   },
   "id": "f356772fe923a8f9"
  },
  {
   "cell_type": "markdown",
   "source": [
    "P_Xkleinergleich1 = X.cdf(60)\n",
    "print('P_Xkleinergleich1 = ' + myprint(P_Xkleinergleich1))\n",
    "\n",
    "# P_Xmehrals1 = X.sf(60)\n",
    "P_Xmehrals1 = X.sf(60)\n",
    "print('P_Xmehrals1 = ' + myprint(P_Xmehrals1))\n",
    "\n",
    "E_X = X.mean()\n",
    "print('E_X = ' + myprint(E_X))\n",
    "\n",
    "std_X = X.std()\n",
    "print('std_X = ' + myprint(std_X))"
   ],
   "metadata": {
    "collapsed": false
   },
   "id": "f1fa3a757f6f1e75"
  },
  {
   "cell_type": "code",
   "execution_count": 1,
   "id": "initial_id",
   "metadata": {
    "collapsed": true,
    "ExecuteTime": {
     "end_time": "2024-01-17T11:33:01.230284500Z",
     "start_time": "2024-01-17T11:32:59.203277Z"
    }
   },
   "outputs": [],
   "source": [
    "import math\n",
    "import numpy as np\n",
    "from scipy.stats import uniform"
   ]
  },
  {
   "cell_type": "code",
   "execution_count": 2,
   "outputs": [],
   "source": [
    "def value_rounded_str(value):\n",
    "    val = str(np.round(value,4))\n",
    "    return val"
   ],
   "metadata": {
    "collapsed": false,
    "ExecuteTime": {
     "end_time": "2024-01-17T11:33:01.271860700Z",
     "start_time": "2024-01-17T11:33:01.238814100Z"
    }
   },
   "id": "707f1f954ae6a78d"
  },
  {
   "cell_type": "code",
   "execution_count": 3,
   "outputs": [],
   "source": [
    "# EINGABEWERTE für Verteilung\n",
    "l = 5\n",
    "s = 300-l\n",
    "\n",
    "# EINGABEWERTE Kennwerte\n",
    "quantil = 0.75\n",
    "\n",
    "# EINGABEWERTE Wahrscheinlichkeiten\n",
    "x = 60"
   ],
   "metadata": {
    "collapsed": false,
    "ExecuteTime": {
     "end_time": "2024-01-17T11:33:01.271860700Z",
     "start_time": "2024-01-17T11:33:01.248341800Z"
    }
   },
   "id": "109f4a1d4848cdf0"
  },
  {
   "cell_type": "code",
   "execution_count": 4,
   "outputs": [],
   "source": [
    "X = uniform(loc=l,scale=s)"
   ],
   "metadata": {
    "collapsed": false,
    "ExecuteTime": {
     "end_time": "2024-01-17T11:33:01.272861500Z",
     "start_time": "2024-01-17T11:33:01.258189200Z"
    }
   },
   "id": "5fc5ec7055192351"
  },
  {
   "cell_type": "code",
   "execution_count": 5,
   "outputs": [
    {
     "name": "stdout",
     "output_type": "stream",
     "text": [
      "Mittelwert = 152.5\n"
     ]
    }
   ],
   "source": [
    "# Mittelwert\n",
    "mean = X.mean()\n",
    "print('Mittelwert = ' + value_rounded_str(mean))"
   ],
   "metadata": {
    "collapsed": false,
    "ExecuteTime": {
     "end_time": "2024-01-17T11:33:01.378043900Z",
     "start_time": "2024-01-17T11:33:01.275878600Z"
    }
   },
   "id": "1c79602a3986a1b4"
  },
  {
   "cell_type": "code",
   "execution_count": 6,
   "outputs": [
    {
     "name": "stdout",
     "output_type": "stream",
     "text": [
      "Varianz = 7252.0833\n"
     ]
    }
   ],
   "source": [
    "# Varianz\n",
    "var = X.var()\n",
    "print('Varianz = ' + value_rounded_str(var))"
   ],
   "metadata": {
    "collapsed": false,
    "ExecuteTime": {
     "end_time": "2024-01-17T11:33:01.378554Z",
     "start_time": "2024-01-17T11:33:01.290451700Z"
    }
   },
   "id": "39e3c393e1b05df5"
  },
  {
   "cell_type": "code",
   "execution_count": 7,
   "outputs": [
    {
     "name": "stdout",
     "output_type": "stream",
     "text": [
      "Standardabweichung = 85.1592\n"
     ]
    }
   ],
   "source": [
    "# Standardabweichung\n",
    "sigma = X.std()\n",
    "print('Standardabweichung = ' + value_rounded_str(sigma))"
   ],
   "metadata": {
    "collapsed": false,
    "ExecuteTime": {
     "end_time": "2024-01-17T11:33:01.379568500Z",
     "start_time": "2024-01-17T11:33:01.305502500Z"
    }
   },
   "id": "55940b70de0628ae"
  },
  {
   "cell_type": "code",
   "execution_count": 8,
   "outputs": [
    {
     "name": "stdout",
     "output_type": "stream",
     "text": [
      "0.75-Quantil = 226.25\n"
     ]
    }
   ],
   "source": [
    "# Quantil\n",
    "quant = X.ppf(quantil)\n",
    "print(str(quantil) + \"-Quantil = \" + value_rounded_str(quant))"
   ],
   "metadata": {
    "collapsed": false,
    "ExecuteTime": {
     "end_time": "2024-01-17T11:33:01.380571500Z",
     "start_time": "2024-01-17T11:33:01.319592400Z"
    }
   },
   "id": "90559aaba2df46ac"
  },
  {
   "cell_type": "code",
   "execution_count": 9,
   "outputs": [
    {
     "name": "stdout",
     "output_type": "stream",
     "text": [
      "P(X<=60) = 0.1864\n",
      "1 - P(X<=60) = 0.8136\n"
     ]
    }
   ],
   "source": [
    "# Wahrscheinlichkeit P(X<=x)\n",
    "p_kleinergleich = X.cdf(x) \n",
    "print(\"P(X<=\" + str(x) + \") = \" + value_rounded_str(p_kleinergleich))\n",
    "print(\"1 - P(X<=\" + str(x) + \") = \" + value_rounded_str(1 - p_kleinergleich))"
   ],
   "metadata": {
    "collapsed": false,
    "ExecuteTime": {
     "end_time": "2024-01-17T11:33:01.381588800Z",
     "start_time": "2024-01-17T11:33:01.335492100Z"
    }
   },
   "id": "8803198a4569d271"
  },
  {
   "cell_type": "code",
   "execution_count": 10,
   "outputs": [
    {
     "name": "stdout",
     "output_type": "stream",
     "text": [
      "P(X>=60) = 0.8136\n",
      "1 - P(X>=60) = 0.1864\n"
     ]
    }
   ],
   "source": [
    "# Wahrscheinlichkeit P(X>=x)\n",
    "p_groessergleich = X.sf(x) \n",
    "print(\"P(X>=\" + str(x) + \") = \" + value_rounded_str(p_groessergleich))\n",
    "print(\"1 - P(X>=\" + str(x) + \") = \" + value_rounded_str(1 - p_groessergleich))"
   ],
   "metadata": {
    "collapsed": false,
    "ExecuteTime": {
     "end_time": "2024-01-17T11:33:01.396129600Z",
     "start_time": "2024-01-17T11:33:01.352243900Z"
    }
   },
   "id": "613fb25e60781855"
  }
 ],
 "metadata": {
  "kernelspec": {
   "display_name": "Python 3",
   "language": "python",
   "name": "python3"
  },
  "language_info": {
   "codemirror_mode": {
    "name": "ipython",
    "version": 2
   },
   "file_extension": ".py",
   "mimetype": "text/x-python",
   "name": "python",
   "nbconvert_exporter": "python",
   "pygments_lexer": "ipython2",
   "version": "2.7.6"
  }
 },
 "nbformat": 4,
 "nbformat_minor": 5
}
