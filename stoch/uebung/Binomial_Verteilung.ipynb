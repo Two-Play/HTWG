{
 "cells": [
  {
   "cell_type": "markdown",
   "source": [
    "BINOMIAL-VERTEILUNG:\n",
    "\n",
    "    \"Mit welcher Wahrscheinlichkeit treten k Erfolge in n Versuchen ein?\"\n",
    "    X ~ Bin(n,p)\n",
    "    Parameter: n - Anzahl der Versuche\n",
    "               k - Anzahl der Erfolge\n",
    "               p - Wahrscheinlichkeit fuer Erfolg"
   ],
   "metadata": {
    "collapsed": false
   },
   "id": "cd4e1802dddd1e4b"
  },
  {
   "cell_type": "markdown",
   "source": [
    "Beispiele:\n",
    "\n",
    "P_Ygleich2 = Y.pmf(2)\n",
    "print('P_Ygleich2 =' + myprint(P_Ygleich2))\n",
    "\n",
    "P_Ygleich2oder3 = Y.pmf(2) + Y.pmf(3)\n",
    "P_Ygleich2oder3 = sum(Y.pmf(list(range(2, 4))))\n",
    "print('P_Ygleich2oder3 =' + myprint(P_Ygleich2oder3))\n",
    "\n",
    "P_Ygleich0 = Y.pmf(0)\n",
    "print('P_Ygleich0 =' + myprint(P_Ygleich0))\n",
    "\n",
    "P_Ykleinergleich3 = Y.cdf(3)\n",
    "print('P_Ykleinergleich3 =' + myprint(P_Ykleinergleich3))\n",
    "\n",
    "E_Y = Y.mean()\n",
    "print('E_Y = ' + myprint(E_Y))\n",
    "\n",
    "Var_Y = Y.var()\n",
    "print('Var_Y = ' + myprint(Var_Y))"
   ],
   "metadata": {
    "collapsed": false
   },
   "id": "37280b49d7553eeb"
  },
  {
   "cell_type": "code",
   "execution_count": 20,
   "outputs": [],
   "source": [
    "import math\n",
    "import numpy as np\n",
    "from scipy.stats import binom"
   ],
   "metadata": {
    "collapsed": false,
    "ExecuteTime": {
     "end_time": "2024-01-17T14:45:03.911900146Z",
     "start_time": "2024-01-17T14:45:03.890997443Z"
    }
   },
   "id": "696fd8f83455926e"
  },
  {
   "cell_type": "code",
   "execution_count": 21,
   "outputs": [],
   "source": [
    "def value_rounded_str(value):\n",
    "    val = str(np.round(value,4))\n",
    "    return val"
   ],
   "metadata": {
    "collapsed": false,
    "ExecuteTime": {
     "end_time": "2024-01-17T14:45:03.958889390Z",
     "start_time": "2024-01-17T14:45:03.914431733Z"
    }
   },
   "id": "18af0994f8e859e3"
  },
  {
   "cell_type": "code",
   "execution_count": 22,
   "outputs": [],
   "source": [
    "# EINGABEWERTE für Verteilung\n",
    "n = 10\n",
    "p = 0.75\n",
    "\n",
    "# EINGABEWERTE Wahrscheinlichkeiten\n",
    "x = 5"
   ],
   "metadata": {
    "collapsed": false,
    "ExecuteTime": {
     "end_time": "2024-01-17T14:45:03.996615203Z",
     "start_time": "2024-01-17T14:45:03.960024230Z"
    }
   },
   "id": "bb7f8f4e4fe8f4f5"
  },
  {
   "cell_type": "code",
   "execution_count": 23,
   "outputs": [],
   "source": [
    "X = binom(n,p)"
   ],
   "metadata": {
    "collapsed": false,
    "ExecuteTime": {
     "end_time": "2024-01-17T14:45:04.003446792Z",
     "start_time": "2024-01-17T14:45:03.963140986Z"
    }
   },
   "id": "2f95b9bf1d2baf94"
  },
  {
   "cell_type": "code",
   "execution_count": 24,
   "id": "initial_id",
   "metadata": {
    "collapsed": true,
    "ExecuteTime": {
     "end_time": "2024-01-17T14:45:04.003816975Z",
     "start_time": "2024-01-17T14:45:03.996972253Z"
    }
   },
   "outputs": [
    {
     "name": "stdout",
     "output_type": "stream",
     "text": [
      "Erwartungswert = 7.5\n"
     ]
    }
   ],
   "source": [
    "# Mittelwert\n",
    "mean = X.mean()\n",
    "print('Erwartungswert = ' + value_rounded_str(mean))"
   ]
  },
  {
   "cell_type": "code",
   "execution_count": 25,
   "outputs": [
    {
     "name": "stdout",
     "output_type": "stream",
     "text": [
      "Varianz = 1.875\n"
     ]
    }
   ],
   "source": [
    "# Varianz\n",
    "var = X.var()\n",
    "print('Varianz = ' + value_rounded_str(var))"
   ],
   "metadata": {
    "collapsed": false,
    "ExecuteTime": {
     "end_time": "2024-01-17T14:45:04.004117074Z",
     "start_time": "2024-01-17T14:45:03.997073819Z"
    }
   },
   "id": "cb1209ffa9f7aa3f"
  },
  {
   "cell_type": "code",
   "execution_count": 26,
   "outputs": [
    {
     "name": "stdout",
     "output_type": "stream",
     "text": [
      "Standardabweichung = 1.3693\n"
     ]
    }
   ],
   "source": [
    "# Standardabweichung\n",
    "sigma = X.std()\n",
    "print('Standardabweichung = ' + value_rounded_str(sigma))"
   ],
   "metadata": {
    "collapsed": false,
    "ExecuteTime": {
     "end_time": "2024-01-17T14:45:04.005288220Z",
     "start_time": "2024-01-17T14:45:04.003697598Z"
    }
   },
   "id": "459746f941092266"
  },
  {
   "cell_type": "code",
   "execution_count": 27,
   "outputs": [
    {
     "name": "stdout",
     "output_type": "stream",
     "text": [
      "P(X<=5) = 0.0781\n",
      "1 - P(X<=5) = 0.9219\n"
     ]
    }
   ],
   "source": [
    "# Wahrscheinlichkeit P(X<=x)\n",
    "p_kleinergleich = X.cdf(x) \n",
    "print(\"P(X<=\" + str(x) + \") = \" + value_rounded_str(p_kleinergleich))\n",
    "print(\"1 - P(X<=\" + str(x) + \") = \" + value_rounded_str(1 - p_kleinergleich))"
   ],
   "metadata": {
    "collapsed": false,
    "ExecuteTime": {
     "end_time": "2024-01-17T14:45:04.068093129Z",
     "start_time": "2024-01-17T14:45:04.006231409Z"
    }
   },
   "id": "9dd96a8bb546cd8f"
  },
  {
   "cell_type": "code",
   "execution_count": 28,
   "outputs": [
    {
     "name": "stdout",
     "output_type": "stream",
     "text": [
      "P(X=5) = 0.0584\n",
      "1 - P(X=5) = 0.9416\n"
     ]
    }
   ],
   "source": [
    "# Wahrscheinlichkeit (P=X)\n",
    "p_gleich = X.pmf(x) \n",
    "print(\"P(X=\" + str(x) + \") = \" + value_rounded_str(p_gleich))\n",
    "print(\"1 - P(X=\" + str(x) + \") = \" + value_rounded_str(1 - p_gleich))"
   ],
   "metadata": {
    "collapsed": false,
    "ExecuteTime": {
     "end_time": "2024-01-17T14:45:04.068472525Z",
     "start_time": "2024-01-17T14:45:04.049575384Z"
    }
   },
   "id": "94d7250a87f383d"
  },
  {
   "cell_type": "code",
   "outputs": [
    {
     "name": "stdout",
     "output_type": "stream",
     "text": [
      "P(X>=5) = 0.9803\n",
      "1 - P(X>=5) = 0.0197\n"
     ]
    }
   ],
   "source": [
    "# Wahrscheinlichkeit P(X=>x)\n",
    "p_groessergleich = 1 - X.cdf(x-1)\n",
    "print(\"P(X>=\" + str(x) + \") = \" + value_rounded_str(p_groessergleich))\n",
    "#print(\"1 - P(X>=\" + str(x) + \") = \" + value_rounded_str(1 - p_groessergleich))\n"
   ],
   "metadata": {
    "collapsed": false,
    "ExecuteTime": {
     "end_time": "2024-01-17T14:45:04.068764476Z",
     "start_time": "2024-01-17T14:45:04.049687947Z"
    }
   },
   "id": "8e52dc419bde0825",
   "execution_count": 29
  }
 ],
 "metadata": {
  "kernelspec": {
   "display_name": "Python 3",
   "language": "python",
   "name": "python3"
  },
  "language_info": {
   "codemirror_mode": {
    "name": "ipython",
    "version": 2
   },
   "file_extension": ".py",
   "mimetype": "text/x-python",
   "name": "python",
   "nbconvert_exporter": "python",
   "pygments_lexer": "ipython2",
   "version": "2.7.6"
  }
 },
 "nbformat": 4,
 "nbformat_minor": 5
}
