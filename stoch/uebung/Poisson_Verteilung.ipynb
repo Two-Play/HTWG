{
 "cells": [
  {
   "cell_type": "markdown",
   "source": [
    "POISSON-VERTEILUNG:\n",
    "\n",
    "    \"Anzahl der Vorkommnisse in einem Intervall\"\n",
    "     X ~ Po(lambda)\n",
    "     Parameter: lambda - Auftrittsrate\n",
    "                k: Anzahl der Vorkommnisse"
   ],
   "metadata": {
    "collapsed": false
   },
   "id": "43747070ce367ed0"
  },
  {
   "cell_type": "markdown",
   "source": [
    "Beispiele:\n",
    "\n",
    "P_Zgleich0 = Z.pmf(0)\n",
    "print('P_Zgleich0 =' + myprint(P_Zgleich0))\n",
    "\n",
    "P_Zgleich2 = Z.pmf(2)\n",
    "print('P_Zgleich2 =' + myprint(P_Zgleich2))\n",
    "\n",
    "P_Zkleinergleich2 = Z.cdf(2)\n",
    "print('P_Zkleinergleich2 =' + myprint(P_Zkleinergleich2))\n",
    "\n",
    "E_Z = Z.mean()\n",
    "print('E_Z = ' + myprint(E_Z))\n",
    "\n",
    "Var_Z = Z.var()\n",
    "print('Var_Z = ' + myprint(Var_Z))"
   ],
   "metadata": {
    "collapsed": false
   },
   "id": "ae5d4cd4ae79659"
  },
  {
   "cell_type": "code",
   "execution_count": 230,
   "outputs": [],
   "source": [
    "import math\n",
    "import numpy as np\n",
    "from scipy.stats import poisson"
   ],
   "metadata": {
    "collapsed": false,
    "ExecuteTime": {
     "end_time": "2024-01-17T16:32:03.988214164Z",
     "start_time": "2024-01-17T16:32:03.956727712Z"
    }
   },
   "id": "cc0c0c0a6333e54a"
  },
  {
   "cell_type": "code",
   "execution_count": 231,
   "outputs": [],
   "source": [
    "def value_rounded_str(value):\n",
    "    val = str(np.round(value,4))\n",
    "    return val"
   ],
   "metadata": {
    "collapsed": false,
    "ExecuteTime": {
     "end_time": "2024-01-17T16:32:03.990333866Z",
     "start_time": "2024-01-17T16:32:03.975093573Z"
    }
   },
   "id": "4fc1d50305f50bfe"
  },
  {
   "cell_type": "code",
   "execution_count": 232,
   "outputs": [],
   "source": [
    "# EINGABEWERTE für Verteilung\n",
    "lamda = 3.5\n",
    "\n",
    "# EINGABEWERTE Wahrscheinlichkeiten\n",
    "x = 0"
   ],
   "metadata": {
    "collapsed": false,
    "ExecuteTime": {
     "end_time": "2024-01-17T16:32:04.017522190Z",
     "start_time": "2024-01-17T16:32:03.991081342Z"
    }
   },
   "id": "63afab00f95c6385"
  },
  {
   "cell_type": "code",
   "execution_count": 233,
   "id": "initial_id",
   "metadata": {
    "collapsed": true,
    "ExecuteTime": {
     "end_time": "2024-01-17T16:32:04.047121910Z",
     "start_time": "2024-01-17T16:32:04.017721230Z"
    }
   },
   "outputs": [],
   "source": [
    "X = poisson(lamda)"
   ]
  },
  {
   "cell_type": "code",
   "execution_count": 234,
   "outputs": [
    {
     "name": "stdout",
     "output_type": "stream",
     "text": [
      "Erwartungswert = 3.5\n"
     ]
    }
   ],
   "source": [
    "# Mittelwert\n",
    "mean = X.mean()\n",
    "print('Erwartungswert = ' + value_rounded_str(mean))"
   ],
   "metadata": {
    "collapsed": false,
    "ExecuteTime": {
     "end_time": "2024-01-17T16:32:04.047457398Z",
     "start_time": "2024-01-17T16:32:04.017788968Z"
    }
   },
   "id": "bd1e3bc341c22fcb"
  },
  {
   "cell_type": "code",
   "execution_count": 235,
   "outputs": [
    {
     "name": "stdout",
     "output_type": "stream",
     "text": [
      "Varianz = 3.5\n"
     ]
    }
   ],
   "source": [
    "# Varianz\n",
    "var = X.var()\n",
    "print('Varianz = ' + value_rounded_str(var))"
   ],
   "metadata": {
    "collapsed": false,
    "ExecuteTime": {
     "end_time": "2024-01-17T16:32:04.047729742Z",
     "start_time": "2024-01-17T16:32:04.017841284Z"
    }
   },
   "id": "c82e852dc0936240"
  },
  {
   "cell_type": "code",
   "execution_count": 236,
   "outputs": [
    {
     "name": "stdout",
     "output_type": "stream",
     "text": [
      "Standardabweichung = 1.8708\n"
     ]
    }
   ],
   "source": [
    "# Standardabweichung\n",
    "sigma = X.std()\n",
    "print('Standardabweichung = ' + value_rounded_str(sigma))"
   ],
   "metadata": {
    "collapsed": false,
    "ExecuteTime": {
     "end_time": "2024-01-17T16:32:04.067901750Z",
     "start_time": "2024-01-17T16:32:04.047207500Z"
    }
   },
   "id": "985209751ac3a052"
  },
  {
   "cell_type": "code",
   "execution_count": 237,
   "outputs": [
    {
     "name": "stdout",
     "output_type": "stream",
     "text": [
      "P(X<=0) = 0.0302\n",
      "1 - P(X<=0) = 0.9698\n"
     ]
    }
   ],
   "source": [
    "# Wahrscheinlichkeit P(X<=x)\n",
    "p_kleinergleich = X.cdf(x) \n",
    "print(\"P(X<=\" + str(x) + \") = \" + value_rounded_str(p_kleinergleich))\n",
    "print(\"1 - P(X<=\" + str(x) + \") = \" + value_rounded_str(1 - p_kleinergleich))"
   ],
   "metadata": {
    "collapsed": false,
    "ExecuteTime": {
     "end_time": "2024-01-17T16:32:04.070021642Z",
     "start_time": "2024-01-17T16:32:04.067764444Z"
    }
   },
   "id": "4c9b73a7bfb9b5fc"
  },
  {
   "cell_type": "code",
   "execution_count": 238,
   "outputs": [
    {
     "name": "stdout",
     "output_type": "stream",
     "text": [
      "P(X=0) = 0.0302\n",
      "1 - P(X=0) = 0.9698\n"
     ]
    }
   ],
   "source": [
    "# Wahrscheinlichkeit (P=X)\n",
    "p_gleich = X.pmf(x) \n",
    "print(\"P(X=\" + str(x) + \") = \" + value_rounded_str(p_gleich))\n",
    "print(\"1 - P(X=\" + str(x) + \") = \" + value_rounded_str(1 - p_gleich))"
   ],
   "metadata": {
    "collapsed": false,
    "ExecuteTime": {
     "end_time": "2024-01-17T16:32:04.119224474Z",
     "start_time": "2024-01-17T16:32:04.070374214Z"
    }
   },
   "id": "ac94ff081628686c"
  },
  {
   "cell_type": "code",
   "outputs": [
    {
     "name": "stdout",
     "output_type": "stream",
     "text": [
      "P(X>=0) = 0.9698\n",
      "1 - P(X>=0) = 0.0302\n"
     ]
    }
   ],
   "source": [
    "# Wahrscheinlichkeit P(X=>x) poisson\n",
    "p_groessergleich = 1 - X.cdf(x)\n",
    "print(\"P(X>=\" + str(x) + \") = \" + value_rounded_str(p_groessergleich))\n",
    "print(\"1 - P(X>=\" + str(x) + \") = \" + value_rounded_str(1 - p_groessergleich))\n"
   ],
   "metadata": {
    "collapsed": false,
    "ExecuteTime": {
     "end_time": "2024-01-17T16:32:04.119573551Z",
     "start_time": "2024-01-17T16:32:04.112219766Z"
    }
   },
   "id": "8f168c6bf7091202",
   "execution_count": 239
  }
 ],
 "metadata": {
  "kernelspec": {
   "display_name": "Python 3",
   "language": "python",
   "name": "python3"
  },
  "language_info": {
   "codemirror_mode": {
    "name": "ipython",
    "version": 2
   },
   "file_extension": ".py",
   "mimetype": "text/x-python",
   "name": "python",
   "nbconvert_exporter": "python",
   "pygments_lexer": "ipython2",
   "version": "2.7.6"
  }
 },
 "nbformat": 4,
 "nbformat_minor": 5
}
