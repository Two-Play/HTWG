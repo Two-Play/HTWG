{
 "cells": [
  {
   "cell_type": "markdown",
   "source": [
    "BERNOULLI-VERTEILUNG:\n",
    "\n",
    "    \"Mit Welcher Wahrscheinlichkeit tritt ein Erfolg bei einem Versuch ein?\"\n",
    "    X ~ Ber(p)\n",
    "    Parameter: p - Wahrscheinlichkeit fuer Erfolg"
   ],
   "metadata": {
    "collapsed": false
   },
   "id": "db44566ff1ca8c12"
  },
  {
   "cell_type": "markdown",
   "source": [],
   "metadata": {
    "collapsed": false
   },
   "id": "c85a96341dbd3617"
  },
  {
   "cell_type": "code",
   "execution_count": 1,
   "id": "initial_id",
   "metadata": {
    "collapsed": true,
    "ExecuteTime": {
     "end_time": "2024-01-17T11:11:45.630134Z",
     "start_time": "2024-01-17T11:11:43.655550800Z"
    }
   },
   "outputs": [],
   "source": [
    "import math\n",
    "import numpy as np\n",
    "from scipy.stats import bernoulli"
   ]
  },
  {
   "cell_type": "code",
   "execution_count": 2,
   "outputs": [],
   "source": [
    "def value_rounded_str(value):\n",
    "    val = str(np.round(value,4))\n",
    "    return val"
   ],
   "metadata": {
    "collapsed": false,
    "ExecuteTime": {
     "end_time": "2024-01-17T11:11:45.666223300Z",
     "start_time": "2024-01-17T11:11:45.635635700Z"
    }
   },
   "id": "4d0ba4f9c291a496"
  },
  {
   "cell_type": "code",
   "execution_count": 3,
   "outputs": [],
   "source": [
    "# EINGABEWERTE für Verteilung\n",
    "p = 0.15\n",
    "\n",
    "# EINGABEWERTE Wahrscheinlichkeiten\n",
    "x = 20"
   ],
   "metadata": {
    "collapsed": false,
    "ExecuteTime": {
     "end_time": "2024-01-17T11:11:45.667222200Z",
     "start_time": "2024-01-17T11:11:45.648151300Z"
    }
   },
   "id": "7a567796cd43082"
  },
  {
   "cell_type": "code",
   "execution_count": 4,
   "outputs": [],
   "source": [
    "X = bernoulli(p)"
   ],
   "metadata": {
    "collapsed": false,
    "ExecuteTime": {
     "end_time": "2024-01-17T11:11:45.695391900Z",
     "start_time": "2024-01-17T11:11:45.660399800Z"
    }
   },
   "id": "c27b6ce30f9c098"
  },
  {
   "cell_type": "code",
   "execution_count": 5,
   "outputs": [
    {
     "name": "stdout",
     "output_type": "stream",
     "text": [
      "Mittelwert = 0.15\n"
     ]
    }
   ],
   "source": [
    "# Mittelwert\n",
    "mean = X.mean()\n",
    "print('Erwartungswert = ' + value_rounded_str(mean))"
   ],
   "metadata": {
    "collapsed": false,
    "ExecuteTime": {
     "end_time": "2024-01-17T11:11:45.697406300Z",
     "start_time": "2024-01-17T11:11:45.672687Z"
    }
   },
   "id": "f8981a5dea5c3576"
  },
  {
   "cell_type": "code",
   "execution_count": 6,
   "outputs": [
    {
     "name": "stdout",
     "output_type": "stream",
     "text": [
      "Varianz = 0.1275\n"
     ]
    }
   ],
   "source": [
    "# Varianz\n",
    "var = X.var()\n",
    "print('Varianz = ' + value_rounded_str(var))"
   ],
   "metadata": {
    "collapsed": false,
    "ExecuteTime": {
     "end_time": "2024-01-17T11:11:45.739946900Z",
     "start_time": "2024-01-17T11:11:45.696403600Z"
    }
   },
   "id": "303abbd4fd26b636"
  },
  {
   "cell_type": "code",
   "execution_count": 7,
   "outputs": [
    {
     "name": "stdout",
     "output_type": "stream",
     "text": [
      "Standardabweichung = 0.3571\n"
     ]
    }
   ],
   "source": [
    "# Standardabweichung\n",
    "sigma = X.std()\n",
    "print('Standardabweichung = ' + value_rounded_str(sigma))"
   ],
   "metadata": {
    "collapsed": false,
    "ExecuteTime": {
     "end_time": "2024-01-17T11:11:45.741952100Z",
     "start_time": "2024-01-17T11:11:45.704928500Z"
    }
   },
   "id": "ce045c8357b2758f"
  },
  {
   "cell_type": "code",
   "execution_count": 8,
   "outputs": [
    {
     "name": "stdout",
     "output_type": "stream",
     "text": [
      "P(X<=20) = 1.0\n",
      "1 - P(X<=20) = 0.0\n"
     ]
    }
   ],
   "source": [
    "# Wahrscheinlichkeit P(X<=x)\n",
    "p_kleinergleich = X.cdf(x) \n",
    "print(\"P(X<=\" + str(x) + \") = \" + value_rounded_str(p_kleinergleich))\n",
    "print(\"1 - P(X<=\" + str(x) + \") = \" + value_rounded_str(1 - p_kleinergleich))"
   ],
   "metadata": {
    "collapsed": false,
    "ExecuteTime": {
     "end_time": "2024-01-17T11:11:45.913997300Z",
     "start_time": "2024-01-17T11:11:45.721844400Z"
    }
   },
   "id": "d138abc48fa274b0"
  },
  {
   "cell_type": "code",
   "execution_count": 9,
   "outputs": [
    {
     "name": "stdout",
     "output_type": "stream",
     "text": [
      "P(X=20) = 0.0\n",
      "1 - P(X=20) = 1.0\n"
     ]
    }
   ],
   "source": [
    "# Wahrscheinlichkeit (P=X)\n",
    "p_gleich = X.pmf(x) \n",
    "print(\"P(X=\" + str(x) + \") = \" + value_rounded_str(p_gleich))\n",
    "print(\"1 - P(X=\" + str(x) + \") = \" + value_rounded_str(1 - p_gleich))"
   ],
   "metadata": {
    "collapsed": false,
    "ExecuteTime": {
     "end_time": "2024-01-17T11:11:45.935696500Z",
     "start_time": "2024-01-17T11:11:45.737920600Z"
    }
   },
   "id": "461b91fae2717a88"
  }
 ],
 "metadata": {
  "kernelspec": {
   "display_name": "Python 3",
   "language": "python",
   "name": "python3"
  },
  "language_info": {
   "codemirror_mode": {
    "name": "ipython",
    "version": 2
   },
   "file_extension": ".py",
   "mimetype": "text/x-python",
   "name": "python",
   "nbconvert_exporter": "python",
   "pygments_lexer": "ipython2",
   "version": "2.7.6"
  }
 },
 "nbformat": 4,
 "nbformat_minor": 5
}
