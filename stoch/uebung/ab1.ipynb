{
 "cells": [
  {
   "cell_type": "markdown",
   "source": [
    "# Hausaufgabe Stochastik"
   ],
   "metadata": {
    "collapsed": false
   },
   "id": "b6636502e9c9aeba"
  },
  {
   "cell_type": "markdown",
   "source": [
    "### Aufgabe 1.6"
   ],
   "metadata": {
    "collapsed": false
   },
   "id": "c6780cbebb2602c3"
  },
  {
   "cell_type": "code",
   "execution_count": null,
   "outputs": [],
   "source": [
    "import numpy as np\n",
    "import statistics as st"
   ],
   "metadata": {
    "collapsed": false
   },
   "id": "ec64058d9acb45dd"
  },
  {
   "cell_type": "code",
   "execution_count": null,
   "outputs": [],
   "source": [
    "#### Aufgabe 1.6.1\n"
   ],
   "metadata": {
    "collapsed": false
   },
   "id": "8df288ddcdcb3286"
  }
 ],
 "metadata": {
  "kernelspec": {
   "display_name": "Python 3",
   "language": "python",
   "name": "python3"
  },
  "language_info": {
   "codemirror_mode": {
    "name": "ipython",
    "version": 2
   },
   "file_extension": ".py",
   "mimetype": "text/x-python",
   "name": "python",
   "nbconvert_exporter": "python",
   "pygments_lexer": "ipython2",
   "version": "2.7.6"
  }
 },
 "nbformat": 4,
 "nbformat_minor": 5
}
